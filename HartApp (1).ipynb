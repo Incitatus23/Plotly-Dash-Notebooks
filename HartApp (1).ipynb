{
 "cells": [
  {
   "cell_type": "code",
   "execution_count": 66,
   "id": "11dbf439-0fa0-4861-b90a-9250cff00d0a",
   "metadata": {},
   "outputs": [],
   "source": [
    "import pandas as pd\n",
    "import numpy as np\n",
    "import pickle\n",
    "from flask import Flask, request, render_template"
   ]
  },
  {
   "cell_type": "code",
   "execution_count": 67,
   "id": "2e25d9ab-5a60-48c5-88da-7eab59b5902b",
   "metadata": {},
   "outputs": [],
   "source": [
    "app = Flask(__name__, template_folder = \"template\")"
   ]
  },
  {
   "cell_type": "code",
   "execution_count": 68,
   "id": "61981ac5-6ab5-4ce5-8950-19777c6535ac",
   "metadata": {},
   "outputs": [],
   "source": [
    "model = pickle.load(open(\"hart.pkl\", \"rb\"))"
   ]
  },
  {
   "cell_type": "code",
   "execution_count": 69,
   "id": "ec1c738f-2af8-4175-a1f8-1b30721c8a13",
   "metadata": {},
   "outputs": [],
   "source": [
    "@app.route('/')\n",
    "def home():\n",
    "    return render_template(\"hart.html\")"
   ]
  },
  {
   "cell_type": "code",
   "execution_count": 70,
   "id": "17a112de-9b7d-45d9-8bce-94707554eb15",
   "metadata": {},
   "outputs": [],
   "source": [
    "@app.route('/predict', methods = [\"POST\"])\n",
    "def predict():\n",
    "    int_features = [float(x) for x in request.form.values()]\n",
    "    features = [np.array(int_features)]\n",
    "    prediction = model.predict_proba(features)\n",
    "    output = prediction[0][1]\n",
    "    final = round((output * 100),2)\n",
    "    return render_template(\"hart.html\", \n",
    "                           prediction_text = \"The probability of a top-5 vote finish is \" + str(final) + \"%\")"
   ]
  },
  {
   "cell_type": "code",
   "execution_count": 72,
   "id": "2bcfadb4-2333-42cd-bdb2-4df3ffa72f71",
   "metadata": {},
   "outputs": [
    {
     "name": "stdout",
     "output_type": "stream",
     "text": [
      " * Serving Flask app '__main__'\n",
      " * Debug mode: off\n"
     ]
    },
    {
     "name": "stderr",
     "output_type": "stream",
     "text": [
      "WARNING: This is a development server. Do not use it in a production deployment. Use a production WSGI server instead.\n",
      " * Running on all addresses (0.0.0.0)\n",
      " * Running on http://127.0.0.1:5000\n",
      " * Running on http://192.168.1.34:5000\n",
      "Press CTRL+C to quit\n",
      "192.168.1.34 - - [11/Apr/2024 20:06:34] \"GET / HTTP/1.1\" 200 -\n",
      "C:\\Users\\adaml\\anaconda3\\Lib\\site-packages\\sklearn\\base.py:439: UserWarning: X does not have valid feature names, but LogisticRegression was fitted with feature names\n",
      "  warnings.warn(\n",
      "192.168.1.34 - - [11/Apr/2024 20:06:51] \"POST /predict HTTP/1.1\" 200 -\n"
     ]
    }
   ],
   "source": [
    "if __name__ == \"__main__\":\n",
    "    app.run(host=\"0.0.0.0\")"
   ]
  },
  {
   "cell_type": "code",
   "execution_count": null,
   "id": "41a2c15f-98ce-4088-b248-c7ea5c5afd87",
   "metadata": {},
   "outputs": [],
   "source": []
  }
 ],
 "metadata": {
  "kernelspec": {
   "display_name": "Python 3 (ipykernel)",
   "language": "python",
   "name": "python3"
  },
  "language_info": {
   "codemirror_mode": {
    "name": "ipython",
    "version": 3
   },
   "file_extension": ".py",
   "mimetype": "text/x-python",
   "name": "python",
   "nbconvert_exporter": "python",
   "pygments_lexer": "ipython3",
   "version": "3.11.7"
  }
 },
 "nbformat": 4,
 "nbformat_minor": 5
}
