{
 "cells": [
  {
   "cell_type": "code",
   "execution_count": null,
   "id": "27cb7ebc-ddbc-440b-bea7-6d0acd1622d0",
   "metadata": {},
   "outputs": [],
   "source": [
    "#necessary imports\n",
    "import pandas as pd\n",
    "import numpy as np\n",
    "import requests\n",
    "import matplotlib.pyplot as plt\n",
    "import seaborn as sns\n",
    "from bs4 import BeautifulSoup\n",
    "import plotly.express as px\n",
    "from plotly.subplots import make_subplots\n",
    "import plotly.graph_objects as go\n",
    "import folium"
   ]
  },
  {
   "cell_type": "code",
   "execution_count": 69,
   "id": "db3b7755-e585-4a46-8bff-624643f874b7",
   "metadata": {},
   "outputs": [],
   "source": [
    "#create function to webscrape from KGET homicide tracker from years 2016-2019\n",
    "#empty lists\n",
    "name_list = []\n",
    "date_list = []\n",
    "cod_list = []\n",
    "victim_list = []\n",
    "accused_list = []\n",
    "cat_list = []\n",
    "scene_list = []\n",
    "zip_list = []\n",
    "ag_list = []\n",
    "jud_list = []\n",
    "years = [2016, 2017, 2018, 2019]\n",
    "\n",
    "def kget():\n",
    "    for year in years:\n",
    "        url = f'https://media.psg.nexstardigital.net/kget/feature_pages/Homicide_Tracker/{year}-victims.html'\n",
    "        response = requests.get(url)\n",
    "        content = response.content\n",
    "        soup = BeautifulSoup(content, \"html.parser\")\n",
    "        profiles = soup.find_all('div', class_='htrecord')\n",
    "        for profile in profiles:\n",
    "            date = profile.text\n",
    "            date_info = date.splitlines()\n",
    "            name = date_info[2]\n",
    "            name_list.append(name)\n",
    "            date = date_info[4]\n",
    "            date_list.append(date)\n",
    "            cod = date_info[5]\n",
    "            cod_list.append(cod)\n",
    "            victim = date_info[6]\n",
    "            victim_list.append(victim)\n",
    "            accused = date_info[7]\n",
    "            accused_list.append(accused)\n",
    "            cat = date_info[8]\n",
    "            cat_list.append(cat)\n",
    "            scene = date_info[9]\n",
    "            scene_list.append(scene)\n",
    "            zip = date_info[10]\n",
    "            zip_list.append(zip)\n",
    "            ag = date_info[12]\n",
    "            ag_list.append(ag)\n",
    "            jud = date_info[13]\n",
    "            jud_list.append(jud)\n",
    "    return pd.DataFrame({\"Name_Age\" : name_list , \"Date\" : date_list, \"Cause of Death\" : cod_list,  \"Victim Race\" : victim_list,  'Accused Race' : accused_list,\n",
    "                    'Category' : cat_list, 'Scene of Crime' : scene_list, 'Zipcode' : zip_list, 'Agency' : ag_list, \"Judicial Status\" : jud_list})\n",
    "\n",
    "    \n",
    "    \n",
    "    \n"
   ]
  },
  {
   "cell_type": "code",
   "execution_count": 70,
   "id": "6c9a2df6-2dd1-45d5-b7ca-7b5a6bff2e27",
   "metadata": {},
   "outputs": [],
   "source": [
    "#run function and save data to csv\n",
    "victims = kget()"
   ]
  },
  {
   "cell_type": "code",
   "execution_count": 68,
   "id": "7d6f8cf9-4e6c-4284-b69f-6642c32652b5",
   "metadata": {},
   "outputs": [],
   "source": [
    "victims.to_csv(\"victims.csv\")"
   ]
  },
  {
   "cell_type": "code",
   "execution_count": 72,
   "id": "4a88d9f9-f3cd-4461-8ccd-2782b084be00",
   "metadata": {},
   "outputs": [
    {
     "data": {
      "text/html": [
       "<div>\n",
       "<style scoped>\n",
       "    .dataframe tbody tr th:only-of-type {\n",
       "        vertical-align: middle;\n",
       "    }\n",
       "\n",
       "    .dataframe tbody tr th {\n",
       "        vertical-align: top;\n",
       "    }\n",
       "\n",
       "    .dataframe thead th {\n",
       "        text-align: right;\n",
       "    }\n",
       "</style>\n",
       "<table border=\"1\" class=\"dataframe\">\n",
       "  <thead>\n",
       "    <tr style=\"text-align: right;\">\n",
       "      <th></th>\n",
       "      <th>Name_Age</th>\n",
       "      <th>Date</th>\n",
       "      <th>Cause of Death</th>\n",
       "      <th>Victim Race</th>\n",
       "      <th>Accused Race</th>\n",
       "      <th>Category</th>\n",
       "      <th>Scene of Crime</th>\n",
       "      <th>Zipcode</th>\n",
       "      <th>Agency</th>\n",
       "      <th>Judicial Status</th>\n",
       "    </tr>\n",
       "  </thead>\n",
       "  <tbody>\n",
       "    <tr>\n",
       "      <th>395</th>\n",
       "      <td>Jose Ramon Deleon, 25</td>\n",
       "      <td>Date: 01/27/2019</td>\n",
       "      <td>Cause of death: Multiple gunshot wounds</td>\n",
       "      <td>Victim's Race: N/A</td>\n",
       "      <td>Accused's Race: N/A</td>\n",
       "      <td>Category: Shooting</td>\n",
       "      <td>Crime Scene: 1600 block of Mint Street, Bakers...</td>\n",
       "      <td>Zip Code: 93304</td>\n",
       "      <td>Agency: Kern County Sheriff's Office</td>\n",
       "      <td>Judicial Status: No arrests made</td>\n",
       "    </tr>\n",
       "    <tr>\n",
       "      <th>396</th>\n",
       "      <td>Luciano Jose Ramos, 38</td>\n",
       "      <td>Date: 01/08/2019</td>\n",
       "      <td>Cause of death: Stab wounds</td>\n",
       "      <td>Victim's Race: Hispanic</td>\n",
       "      <td>Accused's Race: N/A</td>\n",
       "      <td>Category: Stabbing</td>\n",
       "      <td>Crime Scene: 8900 block of Hall Road, Lamont</td>\n",
       "      <td>Zip Code: 93241</td>\n",
       "      <td>Agency: Kern County Sheriff's Office</td>\n",
       "      <td>Judicial Status: 34-year-old Ricardo Tapia was...</td>\n",
       "    </tr>\n",
       "    <tr>\n",
       "      <th>397</th>\n",
       "      <td>Louie Arturo Hernandez, 19</td>\n",
       "      <td>Date: 01/08/2019</td>\n",
       "      <td>Cause of death: Gunshot Wounds</td>\n",
       "      <td>Victim's Race: N/A</td>\n",
       "      <td>Accused's Race: N/A</td>\n",
       "      <td>Category: Shooting</td>\n",
       "      <td>Crime Scene: 800 block of Dr Martin Luther Kin...</td>\n",
       "      <td>Zip Code: 93307</td>\n",
       "      <td>Agency: Bakersfield Police Department</td>\n",
       "      <td>Judicial Status: Michael Castenada has been ar...</td>\n",
       "    </tr>\n",
       "    <tr>\n",
       "      <th>398</th>\n",
       "      <td>Edgar Modesto Lopez, 43</td>\n",
       "      <td>Date: 01/01/2019</td>\n",
       "      <td>Cause of death: Gunshot wound</td>\n",
       "      <td>Victim's Race: Hispanic</td>\n",
       "      <td>Accused's Race: N/A</td>\n",
       "      <td>Category: Shooting</td>\n",
       "      <td>Crime Scene: 3100 block of South H St.</td>\n",
       "      <td>Zip Code: 93304</td>\n",
       "      <td>Agency: Bakersfield Police Department</td>\n",
       "      <td>Judicial Status: Three arrest made for acting ...</td>\n",
       "    </tr>\n",
       "    <tr>\n",
       "      <th>399</th>\n",
       "      <td>Santos Zeferino Perfecto, 49</td>\n",
       "      <td>Date: 01/01/2019</td>\n",
       "      <td>Cause of death: Gunshot wound</td>\n",
       "      <td>Victim's Race: Hispanic</td>\n",
       "      <td>Accused's Race: N/A</td>\n",
       "      <td>Category: Shooting</td>\n",
       "      <td>Crime Scene: 700 block of Fremont St.</td>\n",
       "      <td>Zip Code: 93215</td>\n",
       "      <td>Agency: Delano Police Department</td>\n",
       "      <td>Judicial Status: No charges filed</td>\n",
       "    </tr>\n",
       "  </tbody>\n",
       "</table>\n",
       "</div>"
      ],
      "text/plain": [
       "                         Name_Age              Date  \\\n",
       "395         Jose Ramon Deleon, 25  Date: 01/27/2019   \n",
       "396        Luciano Jose Ramos, 38  Date: 01/08/2019   \n",
       "397    Louie Arturo Hernandez, 19  Date: 01/08/2019   \n",
       "398       Edgar Modesto Lopez, 43  Date: 01/01/2019   \n",
       "399  Santos Zeferino Perfecto, 49  Date: 01/01/2019   \n",
       "\n",
       "                              Cause of Death              Victim Race  \\\n",
       "395  Cause of death: Multiple gunshot wounds       Victim's Race: N/A   \n",
       "396              Cause of death: Stab wounds  Victim's Race: Hispanic   \n",
       "397           Cause of death: Gunshot Wounds       Victim's Race: N/A   \n",
       "398            Cause of death: Gunshot wound  Victim's Race: Hispanic   \n",
       "399            Cause of death: Gunshot wound  Victim's Race: Hispanic   \n",
       "\n",
       "            Accused Race            Category  \\\n",
       "395  Accused's Race: N/A  Category: Shooting   \n",
       "396  Accused's Race: N/A  Category: Stabbing   \n",
       "397  Accused's Race: N/A  Category: Shooting   \n",
       "398  Accused's Race: N/A  Category: Shooting   \n",
       "399  Accused's Race: N/A  Category: Shooting   \n",
       "\n",
       "                                        Scene of Crime          Zipcode  \\\n",
       "395  Crime Scene: 1600 block of Mint Street, Bakers...  Zip Code: 93304   \n",
       "396       Crime Scene: 8900 block of Hall Road, Lamont  Zip Code: 93241   \n",
       "397  Crime Scene: 800 block of Dr Martin Luther Kin...  Zip Code: 93307   \n",
       "398             Crime Scene: 3100 block of South H St.  Zip Code: 93304   \n",
       "399              Crime Scene: 700 block of Fremont St.  Zip Code: 93215   \n",
       "\n",
       "                                    Agency  \\\n",
       "395   Agency: Kern County Sheriff's Office   \n",
       "396   Agency: Kern County Sheriff's Office   \n",
       "397  Agency: Bakersfield Police Department   \n",
       "398  Agency: Bakersfield Police Department   \n",
       "399       Agency: Delano Police Department   \n",
       "\n",
       "                                       Judicial Status  \n",
       "395                   Judicial Status: No arrests made  \n",
       "396  Judicial Status: 34-year-old Ricardo Tapia was...  \n",
       "397  Judicial Status: Michael Castenada has been ar...  \n",
       "398  Judicial Status: Three arrest made for acting ...  \n",
       "399                  Judicial Status: No charges filed  "
      ]
     },
     "execution_count": 72,
     "metadata": {},
     "output_type": "execute_result"
    }
   ],
   "source": [
    "victims.tail()"
   ]
  },
  {
   "cell_type": "code",
   "execution_count": 103,
   "id": "c825e664-7ddc-4b26-a9c6-3d6498a8356e",
   "metadata": {},
   "outputs": [],
   "source": [
    "#create function to scrape KGET homicide tracker for years 2020-2023 because the HTML formatting is different\n",
    "\n",
    "name_list = []\n",
    "date_list = []\n",
    "cod_list = []\n",
    "cat_list = []\n",
    "scene_list = []\n",
    "zip_list = []\n",
    "ag_list = []\n",
    "jud_list = []\n",
    "years = [2020, 2021, 2022, 2023]\n",
    "\n",
    "def kget_two():\n",
    "    for year in years:\n",
    "        url = f'https://media.psg.nexstardigital.net/kget/feature_pages/Homicide_Tracker/{year}-victims.html'\n",
    "        response = requests.get(url)\n",
    "        content = response.content\n",
    "        soup = BeautifulSoup(content, \"html.parser\")\n",
    "        profiles = soup.find_all('div', class_='htMain')\n",
    "        for profile in profiles:\n",
    "            name_age = profile.find('h3').text\n",
    "            name_list.append(name_age)\n",
    "            date = profile.find_all('div', class_ = \"victimDatum\")[0].text\n",
    "            date_list.append(date)\n",
    "            cod = profile.find_all('div', class_ = \"victimDatum\")[2].text\n",
    "            cod_list.append(cod)\n",
    "            cat = profile.find_all('div', class_ = \"victimDatum\")[5].text\n",
    "            cat_list.append(cat)\n",
    "            scene = profile.find_all('div', class_ = \"victimDatum\")[6].text\n",
    "            scene_list.append(scene)\n",
    "            zip = profile.find_all('div', class_ = \"victimDatum\")[7].text\n",
    "            zip_list.append(zip)\n",
    "            ag  = profile.find_all('div', class_ = \"victimDatum\")[9].text\n",
    "            ag_list.append(ag)\n",
    "            jud = profile.find_all('div', class_ = \"victimDatum\")[10].text\n",
    "            jud_list.append(jud)\n",
    "    return pd.DataFrame({\"Name_Age\" : name_list , \"Date\" : date_list, \"Cause of Death\" : cod_list, \n",
    "                    'Category' : cat_list, 'Scene of Crime' : scene_list, 'Zipcode' : zip_list, 'Agency' : ag_list, \"Judicial Status\" : jud_list})\n",
    "\n",
    "    \n",
    "    "
   ]
  },
  {
   "cell_type": "code",
   "execution_count": 104,
   "id": "7677112a-612b-4828-9a42-40983e0111ab",
   "metadata": {},
   "outputs": [],
   "source": [
    "#run function and save dataframe to csv\n",
    "victims2 = kget_two()"
   ]
  },
  {
   "cell_type": "code",
   "execution_count": 106,
   "id": "8b07f565-325b-4e93-b417-93657a552afa",
   "metadata": {},
   "outputs": [],
   "source": [
    "victims2.to_csv(\"victims2.csv\")"
   ]
  },
  {
   "cell_type": "code",
   "execution_count": 107,
   "id": "bf6d817a-b9c2-4baf-b2a7-32de9da49a02",
   "metadata": {},
   "outputs": [
    {
     "name": "stdout",
     "output_type": "stream",
     "text": [
      "<class 'pandas.core.frame.DataFrame'>\n",
      "RangeIndex: 458 entries, 0 to 457\n",
      "Data columns (total 8 columns):\n",
      " #   Column           Non-Null Count  Dtype \n",
      "---  ------           --------------  ----- \n",
      " 0   Name_Age         458 non-null    object\n",
      " 1   Date             458 non-null    object\n",
      " 2   Cause of Death   458 non-null    object\n",
      " 3   Category         458 non-null    object\n",
      " 4   Scene of Crime   458 non-null    object\n",
      " 5   Zipcode          458 non-null    object\n",
      " 6   Agency           458 non-null    object\n",
      " 7   Judicial Status  458 non-null    object\n",
      "dtypes: object(8)\n",
      "memory usage: 28.8+ KB\n"
     ]
    }
   ],
   "source": [
    "victims2.info()"
   ]
  },
  {
   "cell_type": "code",
   "execution_count": 116,
   "id": "d7b37b18-152f-49e3-8752-72e7daace6f0",
   "metadata": {},
   "outputs": [],
   "source": [
    "df = pd.read_csv(\"victims.csv\")"
   ]
  },
  {
   "cell_type": "code",
   "execution_count": 121,
   "id": "c36ac235-cd85-4d42-8933-d3817cfbf13d",
   "metadata": {},
   "outputs": [
    {
     "name": "stdout",
     "output_type": "stream",
     "text": [
      "<class 'pandas.core.frame.DataFrame'>\n",
      "RangeIndex: 458 entries, 0 to 457\n",
      "Data columns (total 8 columns):\n",
      " #   Column           Non-Null Count  Dtype \n",
      "---  ------           --------------  ----- \n",
      " 0   Name_Age         458 non-null    object\n",
      " 1   Date             458 non-null    object\n",
      " 2   Cause of Death   458 non-null    object\n",
      " 3   Category         458 non-null    object\n",
      " 4   Scene of Crime   458 non-null    object\n",
      " 5   Zipcode          458 non-null    object\n",
      " 6   Agency           458 non-null    object\n",
      " 7   Judicial Status  458 non-null    object\n",
      "dtypes: object(8)\n",
      "memory usage: 28.8+ KB\n"
     ]
    }
   ],
   "source": [
    "victims2.info()"
   ]
  },
  {
   "cell_type": "code",
   "execution_count": 124,
   "id": "29b63d5e-3bcb-4928-af3b-504d777cc4b2",
   "metadata": {},
   "outputs": [],
   "source": [
    "#combine two dataframes\n",
    "frames = [df, victims2]\n",
    "\n",
    "all_victims = pd.concat(frames)"
   ]
  },
  {
   "cell_type": "code",
   "execution_count": 125,
   "id": "f1597ffe-5b0f-49af-8ed8-9ca03c00508d",
   "metadata": {},
   "outputs": [
    {
     "name": "stdout",
     "output_type": "stream",
     "text": [
      "<class 'pandas.core.frame.DataFrame'>\n",
      "Index: 858 entries, 0 to 457\n",
      "Data columns (total 8 columns):\n",
      " #   Column           Non-Null Count  Dtype \n",
      "---  ------           --------------  ----- \n",
      " 0   Name_Age         858 non-null    object\n",
      " 1   Date             858 non-null    object\n",
      " 2   Cause of Death   858 non-null    object\n",
      " 3   Category         858 non-null    object\n",
      " 4   Scene of Crime   858 non-null    object\n",
      " 5   Zipcode          858 non-null    object\n",
      " 6   Agency           858 non-null    object\n",
      " 7   Judicial Status  858 non-null    object\n",
      "dtypes: object(8)\n",
      "memory usage: 60.3+ KB\n"
     ]
    }
   ],
   "source": [
    "all_victims.info()"
   ]
  },
  {
   "cell_type": "code",
   "execution_count": 126,
   "id": "74241086-9caa-4226-8522-9ef967bbbef1",
   "metadata": {},
   "outputs": [],
   "source": [
    "#save to csv\n",
    "all_victims.to_csv(\"victims.csv\")"
   ]
  },
  {
   "cell_type": "code",
   "execution_count": 3,
   "id": "c568aa5c-7222-44eb-8912-0a54e213adc2",
   "metadata": {},
   "outputs": [],
   "source": [
    "#load csv\n",
    "df = pd.read_csv(\"victims.csv\")"
   ]
  },
  {
   "cell_type": "code",
   "execution_count": 4,
   "id": "1e4643a5-6d74-4c8a-90d4-f68b4c0c6aae",
   "metadata": {
    "scrolled": true
   },
   "outputs": [
    {
     "name": "stdout",
     "output_type": "stream",
     "text": [
      "<class 'pandas.core.frame.DataFrame'>\n",
      "RangeIndex: 858 entries, 0 to 857\n",
      "Data columns (total 9 columns):\n",
      " #   Column           Non-Null Count  Dtype \n",
      "---  ------           --------------  ----- \n",
      " 0   Unnamed: 0       858 non-null    int64 \n",
      " 1   Name_Age         858 non-null    object\n",
      " 2   Date             858 non-null    object\n",
      " 3   Cause of Death   858 non-null    object\n",
      " 4   Category         858 non-null    object\n",
      " 5   Scene of Crime   858 non-null    object\n",
      " 6   Zipcode          858 non-null    object\n",
      " 7   Agency           858 non-null    object\n",
      " 8   Judicial Status  858 non-null    object\n",
      "dtypes: int64(1), object(8)\n",
      "memory usage: 60.5+ KB\n"
     ]
    }
   ],
   "source": [
    "df.info()"
   ]
  },
  {
   "cell_type": "code",
   "execution_count": 23,
   "id": "6922f623-e451-4de1-a43c-4c782e77511c",
   "metadata": {},
   "outputs": [
    {
     "name": "stdout",
     "output_type": "stream",
     "text": [
      "     Unnamed: 0                         Name_Age         Date  Cause of Death  \\\n",
      "0             0     Patrick Lerossignal Hull, 46   12/30/2016     Stab wounds   \n",
      "1             1    Zacarias Devon Lee Oliver, 19   12/26/2016   Gunshot wound   \n",
      "2             2              Arthur Gonzalez, 31   12/26/2016   Gunshot wound   \n",
      "3             3          Marcus Deon DeLouth, 19   12/18/2016   Gunshot wound   \n",
      "4             4  Itzel Lazaro, 2 months, 12 days   12/13/2016    Not released   \n",
      "..          ...                              ...          ...             ...   \n",
      "853         453            Louis J. Bachicha, 34   2023-01-12         Pending   \n",
      "854         454             Saul Ramierz Jr., 28   2023-01-06         Pending   \n",
      "855         455   Deszesk Lavon Halliman Jr., 22   2023-01-06         Pending   \n",
      "856         456       Kenneth Dexter Watkins, 46   2023-01-03         Pending   \n",
      "857         457           Juan Carlos Urvina, 54   2023-01-01         Pending   \n",
      "\n",
      "                       Category                           Scene of Crime  \\\n",
      "0                    Carjacking                                145 U St.   \n",
      "1                      Shooting                     1107 East Planz Road   \n",
      "2                      Shooting             500 block of east 3rd street   \n",
      "3                      Shooting                            701 Meyer St.   \n",
      "4                   Child death                            413 Wilma St.   \n",
      "..                          ...                                      ...   \n",
      "853                     Assault                3000 W Cecil Avenue (map)   \n",
      "854                    Shooting   600 block of Darling Point Drive (map)   \n",
      "855                    Shooting   600 block of Darling Point Drive (map)   \n",
      "856   Officer-Involved Shooting          300 block of Sahara Drive (map)   \n",
      "857                     Assault                  1115 Union Avenue (map)   \n",
      "\n",
      "    Zipcode                          Agency  \\\n",
      "0     93304   Bakersfield Police Department   \n",
      "1     93307   Bakersfield Police Department   \n",
      "2     93307   Bakersfield Police Department   \n",
      "3     93203         Arvin Police Department   \n",
      "4     93307    Kern County Sheriff's Office   \n",
      "..      ...                             ...   \n",
      "853   93215        Kern Valley State Prison   \n",
      "854   93307    Kern County Sheriff's Office   \n",
      "855   93307    Kern County Sheriff's Office   \n",
      "856   93555    Kern County Sheriff's Office   \n",
      "857   93304   Bakersfield Police Department   \n",
      "\n",
      "                                       Judicial Status  \n",
      "0                                     No charges filed  \n",
      "1                                     No charges filed  \n",
      "2                                     No charges filed  \n",
      "3                                     No charges filed  \n",
      "4                                          Undisclosed  \n",
      "..                                                 ...  \n",
      "853                           No arrests at this time.  \n",
      "854                           No arrests at this time.  \n",
      "855                           No arrests at this time.  \n",
      "856                           No arrests at this time.  \n",
      "857   On Jan. 5, Demetrius Ford Jr., 29, was arrest...  \n",
      "\n",
      "[858 rows x 9 columns]\n"
     ]
    }
   ],
   "source": [
    "#remove category listing before data in rows\n",
    "\n",
    "columns = [\"Date\", \"Cause of Death\", \"Category\", \"Scene of Crime\", \"Zipcode\", \"Agency\", \"Judicial Status\"]\n",
    "\n",
    "for column in columns:\n",
    "    df[column] = df[column].str.split(\":\").str[1]\n",
    "print(df)\n",
    "    "
   ]
  },
  {
   "cell_type": "code",
   "execution_count": 24,
   "id": "6eef14be-4075-4cd1-9dc0-5a06808a034b",
   "metadata": {},
   "outputs": [
    {
     "data": {
      "text/html": [
       "<div>\n",
       "<style scoped>\n",
       "    .dataframe tbody tr th:only-of-type {\n",
       "        vertical-align: middle;\n",
       "    }\n",
       "\n",
       "    .dataframe tbody tr th {\n",
       "        vertical-align: top;\n",
       "    }\n",
       "\n",
       "    .dataframe thead th {\n",
       "        text-align: right;\n",
       "    }\n",
       "</style>\n",
       "<table border=\"1\" class=\"dataframe\">\n",
       "  <thead>\n",
       "    <tr style=\"text-align: right;\">\n",
       "      <th></th>\n",
       "      <th>Unnamed: 0</th>\n",
       "      <th>Name_Age</th>\n",
       "      <th>Date</th>\n",
       "      <th>Cause of Death</th>\n",
       "      <th>Category</th>\n",
       "      <th>Scene of Crime</th>\n",
       "      <th>Zipcode</th>\n",
       "      <th>Agency</th>\n",
       "      <th>Judicial Status</th>\n",
       "    </tr>\n",
       "  </thead>\n",
       "  <tbody>\n",
       "    <tr>\n",
       "      <th>0</th>\n",
       "      <td>0</td>\n",
       "      <td>Patrick Lerossignal Hull, 46</td>\n",
       "      <td>12/30/2016</td>\n",
       "      <td>Stab wounds</td>\n",
       "      <td>Carjacking</td>\n",
       "      <td>145 U St.</td>\n",
       "      <td>93304</td>\n",
       "      <td>Bakersfield Police Department</td>\n",
       "      <td>No charges filed</td>\n",
       "    </tr>\n",
       "    <tr>\n",
       "      <th>1</th>\n",
       "      <td>1</td>\n",
       "      <td>Zacarias Devon Lee Oliver, 19</td>\n",
       "      <td>12/26/2016</td>\n",
       "      <td>Gunshot wound</td>\n",
       "      <td>Shooting</td>\n",
       "      <td>1107 East Planz Road</td>\n",
       "      <td>93307</td>\n",
       "      <td>Bakersfield Police Department</td>\n",
       "      <td>No charges filed</td>\n",
       "    </tr>\n",
       "    <tr>\n",
       "      <th>2</th>\n",
       "      <td>2</td>\n",
       "      <td>Arthur Gonzalez, 31</td>\n",
       "      <td>12/26/2016</td>\n",
       "      <td>Gunshot wound</td>\n",
       "      <td>Shooting</td>\n",
       "      <td>500 block of east 3rd street</td>\n",
       "      <td>93307</td>\n",
       "      <td>Bakersfield Police Department</td>\n",
       "      <td>No charges filed</td>\n",
       "    </tr>\n",
       "    <tr>\n",
       "      <th>3</th>\n",
       "      <td>3</td>\n",
       "      <td>Marcus Deon DeLouth, 19</td>\n",
       "      <td>12/18/2016</td>\n",
       "      <td>Gunshot wound</td>\n",
       "      <td>Shooting</td>\n",
       "      <td>701 Meyer St.</td>\n",
       "      <td>93203</td>\n",
       "      <td>Arvin Police Department</td>\n",
       "      <td>No charges filed</td>\n",
       "    </tr>\n",
       "    <tr>\n",
       "      <th>4</th>\n",
       "      <td>4</td>\n",
       "      <td>Itzel Lazaro, 2 months, 12 days</td>\n",
       "      <td>12/13/2016</td>\n",
       "      <td>Not released</td>\n",
       "      <td>Child death</td>\n",
       "      <td>413 Wilma St.</td>\n",
       "      <td>93307</td>\n",
       "      <td>Kern County Sheriff's Office</td>\n",
       "      <td>Undisclosed</td>\n",
       "    </tr>\n",
       "  </tbody>\n",
       "</table>\n",
       "</div>"
      ],
      "text/plain": [
       "   Unnamed: 0                         Name_Age         Date  Cause of Death  \\\n",
       "0           0     Patrick Lerossignal Hull, 46   12/30/2016     Stab wounds   \n",
       "1           1    Zacarias Devon Lee Oliver, 19   12/26/2016   Gunshot wound   \n",
       "2           2              Arthur Gonzalez, 31   12/26/2016   Gunshot wound   \n",
       "3           3          Marcus Deon DeLouth, 19   12/18/2016   Gunshot wound   \n",
       "4           4  Itzel Lazaro, 2 months, 12 days   12/13/2016    Not released   \n",
       "\n",
       "       Category                 Scene of Crime Zipcode  \\\n",
       "0    Carjacking                      145 U St.   93304   \n",
       "1      Shooting           1107 East Planz Road   93307   \n",
       "2      Shooting   500 block of east 3rd street   93307   \n",
       "3      Shooting                  701 Meyer St.   93203   \n",
       "4   Child death                  413 Wilma St.   93307   \n",
       "\n",
       "                           Agency    Judicial Status  \n",
       "0   Bakersfield Police Department   No charges filed  \n",
       "1   Bakersfield Police Department   No charges filed  \n",
       "2   Bakersfield Police Department   No charges filed  \n",
       "3         Arvin Police Department   No charges filed  \n",
       "4    Kern County Sheriff's Office        Undisclosed  "
      ]
     },
     "execution_count": 24,
     "metadata": {},
     "output_type": "execute_result"
    }
   ],
   "source": [
    "df.head()"
   ]
  },
  {
   "cell_type": "code",
   "execution_count": 33,
   "id": "3f6fb391-c0fd-4f19-99a7-5babd7789a54",
   "metadata": {},
   "outputs": [],
   "source": [
    "#split name_age column into separate 'name' and 'age' columns\n",
    "df[\"Name\"] = df[\"Name_Age\"].str.split(\",\").str[0]"
   ]
  },
  {
   "cell_type": "code",
   "execution_count": 34,
   "id": "46b32d9f-1d28-463e-9715-a8e11400c62b",
   "metadata": {},
   "outputs": [],
   "source": [
    "df[\"Age\"] = df[\"Name_Age\"].str.split(\",\").str[1]"
   ]
  },
  {
   "cell_type": "code",
   "execution_count": 37,
   "id": "371845aa-c486-4ddd-a226-12ff48509234",
   "metadata": {},
   "outputs": [],
   "source": [
    "#select relevant columns for new dataframe\n",
    "df = df[[\"Name\", \"Age\", \"Date\", \"Cause of Death\", \"Category\", \"Scene of Crime\", \"Zipcode\", \"Agency\", \"Judicial Status\"]]"
   ]
  },
  {
   "cell_type": "code",
   "execution_count": 43,
   "id": "54bae8d2-e874-4503-85a8-309582af01bc",
   "metadata": {},
   "outputs": [
    {
     "name": "stdout",
     "output_type": "stream",
     "text": [
      "                           Name       Age        Date Cause of Death  \\\n",
      "0      Patrick Lerossignal Hull        46  12/30/2016    Stab wounds   \n",
      "1     Zacarias Devon Lee Oliver        19  12/26/2016  Gunshot wound   \n",
      "2               Arthur Gonzalez        31  12/26/2016  Gunshot wound   \n",
      "3           Marcus Deon DeLouth        19  12/18/2016  Gunshot wound   \n",
      "4                  Itzel Lazaro  2 months  12/13/2016   Not released   \n",
      "..                          ...       ...         ...            ...   \n",
      "853           Louis J. Bachicha        34  2023-01-12        Pending   \n",
      "854            Saul Ramierz Jr.        28  2023-01-06        Pending   \n",
      "855  Deszesk Lavon Halliman Jr.        22  2023-01-06        Pending   \n",
      "856      Kenneth Dexter Watkins        46  2023-01-03        Pending   \n",
      "857          Juan Carlos Urvina        54  2023-01-01        Pending   \n",
      "\n",
      "                      Category                          Scene of Crime  \\\n",
      "0                   Carjacking                               145 U St.   \n",
      "1                     Shooting                    1107 East Planz Road   \n",
      "2                     Shooting            500 block of east 3rd street   \n",
      "3                     Shooting                           701 Meyer St.   \n",
      "4                  Child death                           413 Wilma St.   \n",
      "..                         ...                                     ...   \n",
      "853                    Assault               3000 W Cecil Avenue (map)   \n",
      "854                   Shooting  600 block of Darling Point Drive (map)   \n",
      "855                   Shooting  600 block of Darling Point Drive (map)   \n",
      "856  Officer-Involved Shooting         300 block of Sahara Drive (map)   \n",
      "857                    Assault                 1115 Union Avenue (map)   \n",
      "\n",
      "    Zipcode                         Agency  \\\n",
      "0     93304  Bakersfield Police Department   \n",
      "1     93307  Bakersfield Police Department   \n",
      "2     93307  Bakersfield Police Department   \n",
      "3     93203        Arvin Police Department   \n",
      "4     93307   Kern County Sheriff's Office   \n",
      "..      ...                            ...   \n",
      "853   93215       Kern Valley State Prison   \n",
      "854   93307   Kern County Sheriff's Office   \n",
      "855   93307   Kern County Sheriff's Office   \n",
      "856   93555   Kern County Sheriff's Office   \n",
      "857   93304  Bakersfield Police Department   \n",
      "\n",
      "                                       Judicial Status  \n",
      "0                                     No charges filed  \n",
      "1                                     No charges filed  \n",
      "2                                     No charges filed  \n",
      "3                                     No charges filed  \n",
      "4                                          Undisclosed  \n",
      "..                                                 ...  \n",
      "853                           No arrests at this time.  \n",
      "854                           No arrests at this time.  \n",
      "855                           No arrests at this time.  \n",
      "856                           No arrests at this time.  \n",
      "857  On Jan. 5, Demetrius Ford Jr., 29, was arreste...  \n",
      "\n",
      "[858 rows x 9 columns]\n"
     ]
    },
    {
     "name": "stderr",
     "output_type": "stream",
     "text": [
      "C:\\Users\\adaml\\AppData\\Local\\Temp\\ipykernel_17856\\3974247701.py:4: SettingWithCopyWarning: \n",
      "A value is trying to be set on a copy of a slice from a DataFrame.\n",
      "Try using .loc[row_indexer,col_indexer] = value instead\n",
      "\n",
      "See the caveats in the documentation: https://pandas.pydata.org/pandas-docs/stable/user_guide/indexing.html#returning-a-view-versus-a-copy\n",
      "  df[column] = df[column].str.strip()\n"
     ]
    }
   ],
   "source": [
    "#remove any whitespace\n",
    "columns = [\"Name\", \"Age\" , \"Date\", \"Cause of Death\", \"Category\", \"Scene of Crime\", \"Zipcode\", \"Agency\", \"Judicial Status\"]\n",
    "\n",
    "for column in columns:\n",
    "    df[column] = df[column].str.strip()\n",
    "print(df)"
   ]
  },
  {
   "cell_type": "code",
   "execution_count": 10,
   "id": "4ed596b6-8c3c-4af5-80dc-06eea912526c",
   "metadata": {},
   "outputs": [],
   "source": [
    "#create dataframe with null values\n",
    "test = df.isnull()"
   ]
  },
  {
   "cell_type": "code",
   "execution_count": 15,
   "id": "7e0329fb-0fa1-4dda-98d7-81444d0c8193",
   "metadata": {},
   "outputs": [],
   "source": [
    "#fill empty 'Judicial Status' with 'N/A'\n",
    "df[\"Judicial Status\"] = df[\"Judicial Status\"].fillna(\"N/A\")"
   ]
  },
  {
   "cell_type": "code",
   "execution_count": 19,
   "id": "9f969119-abc1-489f-9da8-98869e3a0aaf",
   "metadata": {},
   "outputs": [
    {
     "data": {
      "text/html": [
       "<div>\n",
       "<style scoped>\n",
       "    .dataframe tbody tr th:only-of-type {\n",
       "        vertical-align: middle;\n",
       "    }\n",
       "\n",
       "    .dataframe tbody tr th {\n",
       "        vertical-align: top;\n",
       "    }\n",
       "\n",
       "    .dataframe thead th {\n",
       "        text-align: right;\n",
       "    }\n",
       "</style>\n",
       "<table border=\"1\" class=\"dataframe\">\n",
       "  <thead>\n",
       "    <tr style=\"text-align: right;\">\n",
       "      <th></th>\n",
       "      <th>Name</th>\n",
       "      <th>Age</th>\n",
       "      <th>Date</th>\n",
       "      <th>Cause of Death</th>\n",
       "      <th>Category</th>\n",
       "      <th>Scene of Crime</th>\n",
       "      <th>Zipcode</th>\n",
       "      <th>Agency</th>\n",
       "      <th>Judicial Status</th>\n",
       "    </tr>\n",
       "  </thead>\n",
       "  <tbody>\n",
       "    <tr>\n",
       "      <th>0</th>\n",
       "      <td>Patrick Lerossignal Hull</td>\n",
       "      <td>46</td>\n",
       "      <td>12/30/2016</td>\n",
       "      <td>Stab wounds</td>\n",
       "      <td>Carjacking</td>\n",
       "      <td>145 U St.</td>\n",
       "      <td>93304</td>\n",
       "      <td>Bakersfield Police Department</td>\n",
       "      <td>No charges filed</td>\n",
       "    </tr>\n",
       "    <tr>\n",
       "      <th>1</th>\n",
       "      <td>Zacarias Devon Lee Oliver</td>\n",
       "      <td>19</td>\n",
       "      <td>12/26/2016</td>\n",
       "      <td>Gunshot wound</td>\n",
       "      <td>Shooting</td>\n",
       "      <td>1107 East Planz Road</td>\n",
       "      <td>93307</td>\n",
       "      <td>Bakersfield Police Department</td>\n",
       "      <td>No charges filed</td>\n",
       "    </tr>\n",
       "    <tr>\n",
       "      <th>2</th>\n",
       "      <td>Arthur Gonzalez</td>\n",
       "      <td>31</td>\n",
       "      <td>12/26/2016</td>\n",
       "      <td>Gunshot wound</td>\n",
       "      <td>Shooting</td>\n",
       "      <td>500 block of east 3rd street</td>\n",
       "      <td>93307</td>\n",
       "      <td>Bakersfield Police Department</td>\n",
       "      <td>No charges filed</td>\n",
       "    </tr>\n",
       "    <tr>\n",
       "      <th>3</th>\n",
       "      <td>Marcus Deon DeLouth</td>\n",
       "      <td>19</td>\n",
       "      <td>12/18/2016</td>\n",
       "      <td>Gunshot wound</td>\n",
       "      <td>Shooting</td>\n",
       "      <td>701 Meyer St.</td>\n",
       "      <td>93203</td>\n",
       "      <td>Arvin Police Department</td>\n",
       "      <td>No charges filed</td>\n",
       "    </tr>\n",
       "    <tr>\n",
       "      <th>4</th>\n",
       "      <td>Itzel Lazaro</td>\n",
       "      <td>2 months</td>\n",
       "      <td>12/13/2016</td>\n",
       "      <td>Not released</td>\n",
       "      <td>Child death</td>\n",
       "      <td>413 Wilma St.</td>\n",
       "      <td>93307</td>\n",
       "      <td>Kern County Sheriff's Office</td>\n",
       "      <td>Undisclosed</td>\n",
       "    </tr>\n",
       "    <tr>\n",
       "      <th>...</th>\n",
       "      <td>...</td>\n",
       "      <td>...</td>\n",
       "      <td>...</td>\n",
       "      <td>...</td>\n",
       "      <td>...</td>\n",
       "      <td>...</td>\n",
       "      <td>...</td>\n",
       "      <td>...</td>\n",
       "      <td>...</td>\n",
       "    </tr>\n",
       "    <tr>\n",
       "      <th>853</th>\n",
       "      <td>Louis J. Bachicha</td>\n",
       "      <td>34</td>\n",
       "      <td>2023-01-12</td>\n",
       "      <td>Pending</td>\n",
       "      <td>Assault</td>\n",
       "      <td>3000 W Cecil Avenue (map)</td>\n",
       "      <td>93215</td>\n",
       "      <td>Kern Valley State Prison</td>\n",
       "      <td>No arrests at this time.</td>\n",
       "    </tr>\n",
       "    <tr>\n",
       "      <th>854</th>\n",
       "      <td>Saul Ramierz Jr.</td>\n",
       "      <td>28</td>\n",
       "      <td>2023-01-06</td>\n",
       "      <td>Pending</td>\n",
       "      <td>Shooting</td>\n",
       "      <td>600 block of Darling Point Drive (map)</td>\n",
       "      <td>93307</td>\n",
       "      <td>Kern County Sheriff's Office</td>\n",
       "      <td>No arrests at this time.</td>\n",
       "    </tr>\n",
       "    <tr>\n",
       "      <th>855</th>\n",
       "      <td>Deszesk Lavon Halliman Jr.</td>\n",
       "      <td>22</td>\n",
       "      <td>2023-01-06</td>\n",
       "      <td>Pending</td>\n",
       "      <td>Shooting</td>\n",
       "      <td>600 block of Darling Point Drive (map)</td>\n",
       "      <td>93307</td>\n",
       "      <td>Kern County Sheriff's Office</td>\n",
       "      <td>No arrests at this time.</td>\n",
       "    </tr>\n",
       "    <tr>\n",
       "      <th>856</th>\n",
       "      <td>Kenneth Dexter Watkins</td>\n",
       "      <td>46</td>\n",
       "      <td>2023-01-03</td>\n",
       "      <td>Pending</td>\n",
       "      <td>Officer-Involved Shooting</td>\n",
       "      <td>300 block of Sahara Drive (map)</td>\n",
       "      <td>93555</td>\n",
       "      <td>Kern County Sheriff's Office</td>\n",
       "      <td>No arrests at this time.</td>\n",
       "    </tr>\n",
       "    <tr>\n",
       "      <th>857</th>\n",
       "      <td>Juan Carlos Urvina</td>\n",
       "      <td>54</td>\n",
       "      <td>2023-01-01</td>\n",
       "      <td>Pending</td>\n",
       "      <td>Assault</td>\n",
       "      <td>1115 Union Avenue (map)</td>\n",
       "      <td>93304</td>\n",
       "      <td>Bakersfield Police Department</td>\n",
       "      <td>On Jan. 5, Demetrius Ford Jr., 29, was arreste...</td>\n",
       "    </tr>\n",
       "  </tbody>\n",
       "</table>\n",
       "<p>858 rows × 9 columns</p>\n",
       "</div>"
      ],
      "text/plain": [
       "                           Name       Age        Date Cause of Death  \\\n",
       "0      Patrick Lerossignal Hull        46  12/30/2016    Stab wounds   \n",
       "1     Zacarias Devon Lee Oliver        19  12/26/2016  Gunshot wound   \n",
       "2               Arthur Gonzalez        31  12/26/2016  Gunshot wound   \n",
       "3           Marcus Deon DeLouth        19  12/18/2016  Gunshot wound   \n",
       "4                  Itzel Lazaro  2 months  12/13/2016   Not released   \n",
       "..                          ...       ...         ...            ...   \n",
       "853           Louis J. Bachicha        34  2023-01-12        Pending   \n",
       "854            Saul Ramierz Jr.        28  2023-01-06        Pending   \n",
       "855  Deszesk Lavon Halliman Jr.        22  2023-01-06        Pending   \n",
       "856      Kenneth Dexter Watkins        46  2023-01-03        Pending   \n",
       "857          Juan Carlos Urvina        54  2023-01-01        Pending   \n",
       "\n",
       "                      Category                          Scene of Crime  \\\n",
       "0                   Carjacking                               145 U St.   \n",
       "1                     Shooting                    1107 East Planz Road   \n",
       "2                     Shooting            500 block of east 3rd street   \n",
       "3                     Shooting                           701 Meyer St.   \n",
       "4                  Child death                           413 Wilma St.   \n",
       "..                         ...                                     ...   \n",
       "853                    Assault               3000 W Cecil Avenue (map)   \n",
       "854                   Shooting  600 block of Darling Point Drive (map)   \n",
       "855                   Shooting  600 block of Darling Point Drive (map)   \n",
       "856  Officer-Involved Shooting         300 block of Sahara Drive (map)   \n",
       "857                    Assault                 1115 Union Avenue (map)   \n",
       "\n",
       "    Zipcode                         Agency  \\\n",
       "0     93304  Bakersfield Police Department   \n",
       "1     93307  Bakersfield Police Department   \n",
       "2     93307  Bakersfield Police Department   \n",
       "3     93203        Arvin Police Department   \n",
       "4     93307   Kern County Sheriff's Office   \n",
       "..      ...                            ...   \n",
       "853   93215       Kern Valley State Prison   \n",
       "854   93307   Kern County Sheriff's Office   \n",
       "855   93307   Kern County Sheriff's Office   \n",
       "856   93555   Kern County Sheriff's Office   \n",
       "857   93304  Bakersfield Police Department   \n",
       "\n",
       "                                       Judicial Status  \n",
       "0                                     No charges filed  \n",
       "1                                     No charges filed  \n",
       "2                                     No charges filed  \n",
       "3                                     No charges filed  \n",
       "4                                          Undisclosed  \n",
       "..                                                 ...  \n",
       "853                           No arrests at this time.  \n",
       "854                           No arrests at this time.  \n",
       "855                           No arrests at this time.  \n",
       "856                           No arrests at this time.  \n",
       "857  On Jan. 5, Demetrius Ford Jr., 29, was arreste...  \n",
       "\n",
       "[858 rows x 9 columns]"
      ]
     },
     "execution_count": 19,
     "metadata": {},
     "output_type": "execute_result"
    }
   ],
   "source": [
    "#fill remaining missing values with N/A\n",
    "df.fillna(\"N/A\")"
   ]
  },
  {
   "cell_type": "code",
   "execution_count": 25,
   "id": "165472d4-1be1-4a99-bcd4-164f033dec2c",
   "metadata": {},
   "outputs": [],
   "source": [
    "import datetime"
   ]
  },
  {
   "cell_type": "code",
   "execution_count": 32,
   "id": "00565e37-1f4b-44ae-8e97-4cc72f1df259",
   "metadata": {},
   "outputs": [],
   "source": [
    "#convert improper datetime value\n",
    "df[\"Date\"] = df[\"Date\"].replace({\"00/00/0000\" : \"01/01/1900\"})"
   ]
  },
  {
   "cell_type": "code",
   "execution_count": 33,
   "id": "a3d50d4c-a09c-441c-9563-cd94fdc763f8",
   "metadata": {},
   "outputs": [
    {
     "ename": "ValueError",
     "evalue": "time data \"2020-12-31\" doesn't match format \"%m/%d/%Y\", at position 400. You might want to try:\n    - passing `format` if your strings have a consistent format;\n    - passing `format='ISO8601'` if your strings are all ISO8601 but not necessarily in exactly the same format;\n    - passing `format='mixed'`, and the format will be inferred for each element individually. You might want to use `dayfirst` alongside this.",
     "output_type": "error",
     "traceback": [
      "\u001b[1;31m---------------------------------------------------------------------------\u001b[0m",
      "\u001b[1;31mValueError\u001b[0m                                Traceback (most recent call last)",
      "Cell \u001b[1;32mIn[33], line 1\u001b[0m\n\u001b[1;32m----> 1\u001b[0m df[\u001b[38;5;124m\"\u001b[39m\u001b[38;5;124mDate\u001b[39m\u001b[38;5;124m\"\u001b[39m] \u001b[38;5;241m=\u001b[39m pd\u001b[38;5;241m.\u001b[39mto_datetime(df[\u001b[38;5;124m\"\u001b[39m\u001b[38;5;124mDate\u001b[39m\u001b[38;5;124m\"\u001b[39m])\n",
      "File \u001b[1;32m~\\anaconda3\\Lib\\site-packages\\pandas\\core\\tools\\datetimes.py:1112\u001b[0m, in \u001b[0;36mto_datetime\u001b[1;34m(arg, errors, dayfirst, yearfirst, utc, format, exact, unit, infer_datetime_format, origin, cache)\u001b[0m\n\u001b[0;32m   1110\u001b[0m         result \u001b[38;5;241m=\u001b[39m arg\u001b[38;5;241m.\u001b[39mmap(cache_array)\n\u001b[0;32m   1111\u001b[0m     \u001b[38;5;28;01melse\u001b[39;00m:\n\u001b[1;32m-> 1112\u001b[0m         values \u001b[38;5;241m=\u001b[39m convert_listlike(arg\u001b[38;5;241m.\u001b[39m_values, \u001b[38;5;28mformat\u001b[39m)\n\u001b[0;32m   1113\u001b[0m         result \u001b[38;5;241m=\u001b[39m arg\u001b[38;5;241m.\u001b[39m_constructor(values, index\u001b[38;5;241m=\u001b[39marg\u001b[38;5;241m.\u001b[39mindex, name\u001b[38;5;241m=\u001b[39marg\u001b[38;5;241m.\u001b[39mname)\n\u001b[0;32m   1114\u001b[0m \u001b[38;5;28;01melif\u001b[39;00m \u001b[38;5;28misinstance\u001b[39m(arg, (ABCDataFrame, abc\u001b[38;5;241m.\u001b[39mMutableMapping)):\n",
      "File \u001b[1;32m~\\anaconda3\\Lib\\site-packages\\pandas\\core\\tools\\datetimes.py:488\u001b[0m, in \u001b[0;36m_convert_listlike_datetimes\u001b[1;34m(arg, format, name, utc, unit, errors, dayfirst, yearfirst, exact)\u001b[0m\n\u001b[0;32m    486\u001b[0m \u001b[38;5;66;03m# `format` could be inferred, or user didn't ask for mixed-format parsing.\u001b[39;00m\n\u001b[0;32m    487\u001b[0m \u001b[38;5;28;01mif\u001b[39;00m \u001b[38;5;28mformat\u001b[39m \u001b[38;5;129;01mis\u001b[39;00m \u001b[38;5;129;01mnot\u001b[39;00m \u001b[38;5;28;01mNone\u001b[39;00m \u001b[38;5;129;01mand\u001b[39;00m \u001b[38;5;28mformat\u001b[39m \u001b[38;5;241m!=\u001b[39m \u001b[38;5;124m\"\u001b[39m\u001b[38;5;124mmixed\u001b[39m\u001b[38;5;124m\"\u001b[39m:\n\u001b[1;32m--> 488\u001b[0m     \u001b[38;5;28;01mreturn\u001b[39;00m _array_strptime_with_fallback(arg, name, utc, \u001b[38;5;28mformat\u001b[39m, exact, errors)\n\u001b[0;32m    490\u001b[0m result, tz_parsed \u001b[38;5;241m=\u001b[39m objects_to_datetime64ns(\n\u001b[0;32m    491\u001b[0m     arg,\n\u001b[0;32m    492\u001b[0m     dayfirst\u001b[38;5;241m=\u001b[39mdayfirst,\n\u001b[1;32m   (...)\u001b[0m\n\u001b[0;32m    496\u001b[0m     allow_object\u001b[38;5;241m=\u001b[39m\u001b[38;5;28;01mTrue\u001b[39;00m,\n\u001b[0;32m    497\u001b[0m )\n\u001b[0;32m    499\u001b[0m \u001b[38;5;28;01mif\u001b[39;00m tz_parsed \u001b[38;5;129;01mis\u001b[39;00m \u001b[38;5;129;01mnot\u001b[39;00m \u001b[38;5;28;01mNone\u001b[39;00m:\n\u001b[0;32m    500\u001b[0m     \u001b[38;5;66;03m# We can take a shortcut since the datetime64 numpy array\u001b[39;00m\n\u001b[0;32m    501\u001b[0m     \u001b[38;5;66;03m# is in UTC\u001b[39;00m\n",
      "File \u001b[1;32m~\\anaconda3\\Lib\\site-packages\\pandas\\core\\tools\\datetimes.py:519\u001b[0m, in \u001b[0;36m_array_strptime_with_fallback\u001b[1;34m(arg, name, utc, fmt, exact, errors)\u001b[0m\n\u001b[0;32m    508\u001b[0m \u001b[38;5;28;01mdef\u001b[39;00m \u001b[38;5;21m_array_strptime_with_fallback\u001b[39m(\n\u001b[0;32m    509\u001b[0m     arg,\n\u001b[0;32m    510\u001b[0m     name,\n\u001b[1;32m   (...)\u001b[0m\n\u001b[0;32m    514\u001b[0m     errors: \u001b[38;5;28mstr\u001b[39m,\n\u001b[0;32m    515\u001b[0m ) \u001b[38;5;241m-\u001b[39m\u001b[38;5;241m>\u001b[39m Index:\n\u001b[0;32m    516\u001b[0m \u001b[38;5;250m    \u001b[39m\u001b[38;5;124;03m\"\"\"\u001b[39;00m\n\u001b[0;32m    517\u001b[0m \u001b[38;5;124;03m    Call array_strptime, with fallback behavior depending on 'errors'.\u001b[39;00m\n\u001b[0;32m    518\u001b[0m \u001b[38;5;124;03m    \"\"\"\u001b[39;00m\n\u001b[1;32m--> 519\u001b[0m     result, timezones \u001b[38;5;241m=\u001b[39m array_strptime(arg, fmt, exact\u001b[38;5;241m=\u001b[39mexact, errors\u001b[38;5;241m=\u001b[39merrors, utc\u001b[38;5;241m=\u001b[39mutc)\n\u001b[0;32m    520\u001b[0m     \u001b[38;5;28;01mif\u001b[39;00m \u001b[38;5;28many\u001b[39m(tz \u001b[38;5;129;01mis\u001b[39;00m \u001b[38;5;129;01mnot\u001b[39;00m \u001b[38;5;28;01mNone\u001b[39;00m \u001b[38;5;28;01mfor\u001b[39;00m tz \u001b[38;5;129;01min\u001b[39;00m timezones):\n\u001b[0;32m    521\u001b[0m         \u001b[38;5;28;01mreturn\u001b[39;00m _return_parsed_timezone_results(result, timezones, utc, name)\n",
      "File \u001b[1;32mstrptime.pyx:534\u001b[0m, in \u001b[0;36mpandas._libs.tslibs.strptime.array_strptime\u001b[1;34m()\u001b[0m\n",
      "File \u001b[1;32mstrptime.pyx:355\u001b[0m, in \u001b[0;36mpandas._libs.tslibs.strptime.array_strptime\u001b[1;34m()\u001b[0m\n",
      "\u001b[1;31mValueError\u001b[0m: time data \"2020-12-31\" doesn't match format \"%m/%d/%Y\", at position 400. You might want to try:\n    - passing `format` if your strings have a consistent format;\n    - passing `format='ISO8601'` if your strings are all ISO8601 but not necessarily in exactly the same format;\n    - passing `format='mixed'`, and the format will be inferred for each element individually. You might want to use `dayfirst` alongside this."
     ]
    }
   ],
   "source": [
    "\n",
    "df[\"Date\"] = pd.to_datetime(df[\"Date\"])"
   ]
  },
  {
   "cell_type": "code",
   "execution_count": 30,
   "id": "acd6a5c5-f7e8-4cc2-adeb-d79221b2c45d",
   "metadata": {},
   "outputs": [
    {
     "data": {
      "text/plain": [
       "Name                                              Karl Wayne Sharrah\n",
       "Age                                                               49\n",
       "Date                                                      00/00/0000\n",
       "Cause of Death                               Multiple Gunshot Wounds\n",
       "Category                                                    Shooting\n",
       "Scene of Crime     Open Desert, Northeast of Dust Devil Avenue, N...\n",
       "Zipcode                                                        93523\n",
       "Agency                                  Kern County Sheriff’s Office\n",
       "Judicial Status                                                  N/A\n",
       "Name: 313, dtype: object"
      ]
     },
     "execution_count": 30,
     "metadata": {},
     "output_type": "execute_result"
    }
   ],
   "source": [
    "#check index with ValueError\n",
    "df.loc[313]"
   ]
  },
  {
   "cell_type": "code",
   "execution_count": 34,
   "id": "01795e59-5ee7-4659-bfd5-44e75986248d",
   "metadata": {},
   "outputs": [],
   "source": [
    "df2 = df.copy()"
   ]
  },
  {
   "cell_type": "code",
   "execution_count": 38,
   "id": "db665940-8bdb-472f-91e2-3dfb1859bcc7",
   "metadata": {},
   "outputs": [],
   "source": [
    "#the two dataframes have different date formats, so create a dataframe with values that have the month listed first\n",
    "month_first = df2.loc[0:399]"
   ]
  },
  {
   "cell_type": "code",
   "execution_count": 39,
   "id": "35e9c35e-d808-4ea4-9c40-b4d62fb89625",
   "metadata": {},
   "outputs": [
    {
     "data": {
      "text/html": [
       "<div>\n",
       "<style scoped>\n",
       "    .dataframe tbody tr th:only-of-type {\n",
       "        vertical-align: middle;\n",
       "    }\n",
       "\n",
       "    .dataframe tbody tr th {\n",
       "        vertical-align: top;\n",
       "    }\n",
       "\n",
       "    .dataframe thead th {\n",
       "        text-align: right;\n",
       "    }\n",
       "</style>\n",
       "<table border=\"1\" class=\"dataframe\">\n",
       "  <thead>\n",
       "    <tr style=\"text-align: right;\">\n",
       "      <th></th>\n",
       "      <th>Name</th>\n",
       "      <th>Age</th>\n",
       "      <th>Date</th>\n",
       "      <th>Cause of Death</th>\n",
       "      <th>Category</th>\n",
       "      <th>Scene of Crime</th>\n",
       "      <th>Zipcode</th>\n",
       "      <th>Agency</th>\n",
       "      <th>Judicial Status</th>\n",
       "    </tr>\n",
       "  </thead>\n",
       "  <tbody>\n",
       "    <tr>\n",
       "      <th>395</th>\n",
       "      <td>Jose Ramon Deleon</td>\n",
       "      <td>25</td>\n",
       "      <td>01/27/2019</td>\n",
       "      <td>Multiple gunshot wounds</td>\n",
       "      <td>Shooting</td>\n",
       "      <td>1600 block of Mint Street, Bakersfield</td>\n",
       "      <td>93304</td>\n",
       "      <td>Kern County Sheriff's Office</td>\n",
       "      <td>No arrests made</td>\n",
       "    </tr>\n",
       "    <tr>\n",
       "      <th>396</th>\n",
       "      <td>Luciano Jose Ramos</td>\n",
       "      <td>38</td>\n",
       "      <td>01/08/2019</td>\n",
       "      <td>Stab wounds</td>\n",
       "      <td>Stabbing</td>\n",
       "      <td>8900 block of Hall Road, Lamont</td>\n",
       "      <td>93241</td>\n",
       "      <td>Kern County Sheriff's Office</td>\n",
       "      <td>34-year-old Ricardo Tapia was arrested for mur...</td>\n",
       "    </tr>\n",
       "    <tr>\n",
       "      <th>397</th>\n",
       "      <td>Louie Arturo Hernandez</td>\n",
       "      <td>19</td>\n",
       "      <td>01/08/2019</td>\n",
       "      <td>Gunshot Wounds</td>\n",
       "      <td>Shooting</td>\n",
       "      <td>800 block of Dr Martin Luther King Jr Blvd.</td>\n",
       "      <td>93307</td>\n",
       "      <td>Bakersfield Police Department</td>\n",
       "      <td>Michael Castenada has been arrested. Jose Lope...</td>\n",
       "    </tr>\n",
       "    <tr>\n",
       "      <th>398</th>\n",
       "      <td>Edgar Modesto Lopez</td>\n",
       "      <td>43</td>\n",
       "      <td>01/01/2019</td>\n",
       "      <td>Gunshot wound</td>\n",
       "      <td>Shooting</td>\n",
       "      <td>3100 block of South H St.</td>\n",
       "      <td>93304</td>\n",
       "      <td>Bakersfield Police Department</td>\n",
       "      <td>Three arrest made for acting as accessories. A...</td>\n",
       "    </tr>\n",
       "    <tr>\n",
       "      <th>399</th>\n",
       "      <td>Santos Zeferino Perfecto</td>\n",
       "      <td>49</td>\n",
       "      <td>01/01/2019</td>\n",
       "      <td>Gunshot wound</td>\n",
       "      <td>Shooting</td>\n",
       "      <td>700 block of Fremont St.</td>\n",
       "      <td>93215</td>\n",
       "      <td>Delano Police Department</td>\n",
       "      <td>No charges filed</td>\n",
       "    </tr>\n",
       "  </tbody>\n",
       "</table>\n",
       "</div>"
      ],
      "text/plain": [
       "                         Name Age        Date           Cause of Death  \\\n",
       "395         Jose Ramon Deleon  25  01/27/2019  Multiple gunshot wounds   \n",
       "396        Luciano Jose Ramos  38  01/08/2019              Stab wounds   \n",
       "397    Louie Arturo Hernandez  19  01/08/2019           Gunshot Wounds   \n",
       "398       Edgar Modesto Lopez  43  01/01/2019            Gunshot wound   \n",
       "399  Santos Zeferino Perfecto  49  01/01/2019            Gunshot wound   \n",
       "\n",
       "     Category                               Scene of Crime Zipcode  \\\n",
       "395  Shooting       1600 block of Mint Street, Bakersfield   93304   \n",
       "396  Stabbing              8900 block of Hall Road, Lamont   93241   \n",
       "397  Shooting  800 block of Dr Martin Luther King Jr Blvd.   93307   \n",
       "398  Shooting                    3100 block of South H St.   93304   \n",
       "399  Shooting                     700 block of Fremont St.   93215   \n",
       "\n",
       "                            Agency  \\\n",
       "395   Kern County Sheriff's Office   \n",
       "396   Kern County Sheriff's Office   \n",
       "397  Bakersfield Police Department   \n",
       "398  Bakersfield Police Department   \n",
       "399       Delano Police Department   \n",
       "\n",
       "                                       Judicial Status  \n",
       "395                                    No arrests made  \n",
       "396  34-year-old Ricardo Tapia was arrested for mur...  \n",
       "397  Michael Castenada has been arrested. Jose Lope...  \n",
       "398  Three arrest made for acting as accessories. A...  \n",
       "399                                   No charges filed  "
      ]
     },
     "execution_count": 39,
     "metadata": {},
     "output_type": "execute_result"
    }
   ],
   "source": [
    "month_first.tail()"
   ]
  },
  {
   "cell_type": "code",
   "execution_count": 43,
   "id": "176f9ee8-c866-4e0b-bb65-4e596ad95f8b",
   "metadata": {},
   "outputs": [
    {
     "name": "stderr",
     "output_type": "stream",
     "text": [
      "C:\\Users\\adaml\\AppData\\Local\\Temp\\ipykernel_8256\\483892016.py:1: SettingWithCopyWarning: \n",
      "A value is trying to be set on a copy of a slice from a DataFrame.\n",
      "Try using .loc[row_indexer,col_indexer] = value instead\n",
      "\n",
      "See the caveats in the documentation: https://pandas.pydata.org/pandas-docs/stable/user_guide/indexing.html#returning-a-view-versus-a-copy\n",
      "  month_first[\"Date\"] = pd.to_datetime(month_first[\"Date\"])\n"
     ]
    }
   ],
   "source": [
    "#convert 'month_first' 'date' column to datetime value'\n",
    "month_first[\"Date\"] = pd.to_datetime(month_first[\"Date\"])\n",
    "#create a month and year column for 'month_first' dataset\n",
    "month_first['month'] = month_first['Date'].dt.month\n",
    "month_first[\"year\"] = month_first[\"Date\"].dt.year"
   ]
  },
  {
   "cell_type": "code",
   "execution_count": 53,
   "id": "cabcc072-9515-4c47-9011-16cee3883c7e",
   "metadata": {},
   "outputs": [
    {
     "data": {
      "text/html": [
       "<div>\n",
       "<style scoped>\n",
       "    .dataframe tbody tr th:only-of-type {\n",
       "        vertical-align: middle;\n",
       "    }\n",
       "\n",
       "    .dataframe tbody tr th {\n",
       "        vertical-align: top;\n",
       "    }\n",
       "\n",
       "    .dataframe thead th {\n",
       "        text-align: right;\n",
       "    }\n",
       "</style>\n",
       "<table border=\"1\" class=\"dataframe\">\n",
       "  <thead>\n",
       "    <tr style=\"text-align: right;\">\n",
       "      <th></th>\n",
       "      <th>Name</th>\n",
       "      <th>Age</th>\n",
       "      <th>Date</th>\n",
       "      <th>Cause of Death</th>\n",
       "      <th>Category</th>\n",
       "      <th>Scene of Crime</th>\n",
       "      <th>Zipcode</th>\n",
       "      <th>Agency</th>\n",
       "      <th>Judicial Status</th>\n",
       "      <th>month</th>\n",
       "      <th>year</th>\n",
       "    </tr>\n",
       "  </thead>\n",
       "  <tbody>\n",
       "    <tr>\n",
       "      <th>0</th>\n",
       "      <td>Patrick Lerossignal Hull</td>\n",
       "      <td>46</td>\n",
       "      <td>2016-12-30</td>\n",
       "      <td>Stab wounds</td>\n",
       "      <td>Carjacking</td>\n",
       "      <td>145 U St.</td>\n",
       "      <td>93304</td>\n",
       "      <td>Bakersfield Police Department</td>\n",
       "      <td>No charges filed</td>\n",
       "      <td>12</td>\n",
       "      <td>2016</td>\n",
       "    </tr>\n",
       "    <tr>\n",
       "      <th>1</th>\n",
       "      <td>Zacarias Devon Lee Oliver</td>\n",
       "      <td>19</td>\n",
       "      <td>2016-12-26</td>\n",
       "      <td>Gunshot wound</td>\n",
       "      <td>Shooting</td>\n",
       "      <td>1107 East Planz Road</td>\n",
       "      <td>93307</td>\n",
       "      <td>Bakersfield Police Department</td>\n",
       "      <td>No charges filed</td>\n",
       "      <td>12</td>\n",
       "      <td>2016</td>\n",
       "    </tr>\n",
       "    <tr>\n",
       "      <th>2</th>\n",
       "      <td>Arthur Gonzalez</td>\n",
       "      <td>31</td>\n",
       "      <td>2016-12-26</td>\n",
       "      <td>Gunshot wound</td>\n",
       "      <td>Shooting</td>\n",
       "      <td>500 block of east 3rd street</td>\n",
       "      <td>93307</td>\n",
       "      <td>Bakersfield Police Department</td>\n",
       "      <td>No charges filed</td>\n",
       "      <td>12</td>\n",
       "      <td>2016</td>\n",
       "    </tr>\n",
       "    <tr>\n",
       "      <th>3</th>\n",
       "      <td>Marcus Deon DeLouth</td>\n",
       "      <td>19</td>\n",
       "      <td>2016-12-18</td>\n",
       "      <td>Gunshot wound</td>\n",
       "      <td>Shooting</td>\n",
       "      <td>701 Meyer St.</td>\n",
       "      <td>93203</td>\n",
       "      <td>Arvin Police Department</td>\n",
       "      <td>No charges filed</td>\n",
       "      <td>12</td>\n",
       "      <td>2016</td>\n",
       "    </tr>\n",
       "    <tr>\n",
       "      <th>4</th>\n",
       "      <td>Itzel Lazaro</td>\n",
       "      <td>2 months</td>\n",
       "      <td>2016-12-13</td>\n",
       "      <td>Not released</td>\n",
       "      <td>Child death</td>\n",
       "      <td>413 Wilma St.</td>\n",
       "      <td>93307</td>\n",
       "      <td>Kern County Sheriff's Office</td>\n",
       "      <td>Undisclosed</td>\n",
       "      <td>12</td>\n",
       "      <td>2016</td>\n",
       "    </tr>\n",
       "  </tbody>\n",
       "</table>\n",
       "</div>"
      ],
      "text/plain": [
       "                        Name       Age       Date Cause of Death     Category  \\\n",
       "0   Patrick Lerossignal Hull        46 2016-12-30    Stab wounds   Carjacking   \n",
       "1  Zacarias Devon Lee Oliver        19 2016-12-26  Gunshot wound     Shooting   \n",
       "2            Arthur Gonzalez        31 2016-12-26  Gunshot wound     Shooting   \n",
       "3        Marcus Deon DeLouth        19 2016-12-18  Gunshot wound     Shooting   \n",
       "4               Itzel Lazaro  2 months 2016-12-13   Not released  Child death   \n",
       "\n",
       "                 Scene of Crime Zipcode                         Agency  \\\n",
       "0                     145 U St.   93304  Bakersfield Police Department   \n",
       "1          1107 East Planz Road   93307  Bakersfield Police Department   \n",
       "2  500 block of east 3rd street   93307  Bakersfield Police Department   \n",
       "3                 701 Meyer St.   93203        Arvin Police Department   \n",
       "4                 413 Wilma St.   93307   Kern County Sheriff's Office   \n",
       "\n",
       "    Judicial Status  month  year  \n",
       "0  No charges filed     12  2016  \n",
       "1  No charges filed     12  2016  \n",
       "2  No charges filed     12  2016  \n",
       "3  No charges filed     12  2016  \n",
       "4       Undisclosed     12  2016  "
      ]
     },
     "execution_count": 53,
     "metadata": {},
     "output_type": "execute_result"
    }
   ],
   "source": [
    "month_first.head()"
   ]
  },
  {
   "cell_type": "code",
   "execution_count": 54,
   "id": "c7c59c18-27ec-49f6-973a-6627921de7a5",
   "metadata": {},
   "outputs": [
    {
     "name": "stderr",
     "output_type": "stream",
     "text": [
      "C:\\Users\\adaml\\AppData\\Local\\Temp\\ipykernel_8256\\2327441038.py:1: SettingWithCopyWarning: \n",
      "A value is trying to be set on a copy of a slice from a DataFrame.\n",
      "Try using .loc[row_indexer,col_indexer] = value instead\n",
      "\n",
      "See the caveats in the documentation: https://pandas.pydata.org/pandas-docs/stable/user_guide/indexing.html#returning-a-view-versus-a-copy\n",
      "  year_first['month'] = year_first['Date'].dt.month\n"
     ]
    }
   ],
   "source": [
    "#create dataframe that has dates in year first format\n",
    "year_first = df2.loc[400:]\n",
    "#convert 'year_first' 'date' column to 'datetime' value'\n",
    "year_first['Date'] = pd.to_datetime(year_first['Date'], format='%Y-%m-%d')\n",
    "#create a month and year column for 'year_first' dataframe\n",
    "year_first['month'] = year_first['Date'].dt.month\n",
    "#add 'year' column for 'year_first' df\n",
    "year_first[\"year\"] = year_first[\"Date\"].dt.year"
   ]
  },
  {
   "cell_type": "code",
   "execution_count": 55,
   "id": "e4c0105d-1ae0-4ce1-a6df-2088f338f312",
   "metadata": {},
   "outputs": [
    {
     "data": {
      "text/html": [
       "<div>\n",
       "<style scoped>\n",
       "    .dataframe tbody tr th:only-of-type {\n",
       "        vertical-align: middle;\n",
       "    }\n",
       "\n",
       "    .dataframe tbody tr th {\n",
       "        vertical-align: top;\n",
       "    }\n",
       "\n",
       "    .dataframe thead th {\n",
       "        text-align: right;\n",
       "    }\n",
       "</style>\n",
       "<table border=\"1\" class=\"dataframe\">\n",
       "  <thead>\n",
       "    <tr style=\"text-align: right;\">\n",
       "      <th></th>\n",
       "      <th>Name</th>\n",
       "      <th>Age</th>\n",
       "      <th>Date</th>\n",
       "      <th>Cause of Death</th>\n",
       "      <th>Category</th>\n",
       "      <th>Scene of Crime</th>\n",
       "      <th>Zipcode</th>\n",
       "      <th>Agency</th>\n",
       "      <th>Judicial Status</th>\n",
       "      <th>month</th>\n",
       "    </tr>\n",
       "  </thead>\n",
       "  <tbody>\n",
       "    <tr>\n",
       "      <th>400</th>\n",
       "      <td>Emmanuel Arechiga</td>\n",
       "      <td>18</td>\n",
       "      <td>2020-12-31</td>\n",
       "      <td>N/A</td>\n",
       "      <td>Shooting</td>\n",
       "      <td>Morin Court, Bakersfield (map)</td>\n",
       "      <td>93304</td>\n",
       "      <td>Bakersfield Police Department</td>\n",
       "      <td>No arrests at this time</td>\n",
       "      <td>12</td>\n",
       "    </tr>\n",
       "    <tr>\n",
       "      <th>401</th>\n",
       "      <td>Efren Alcala Lopez</td>\n",
       "      <td>27</td>\n",
       "      <td>2020-12-30</td>\n",
       "      <td>N/A</td>\n",
       "      <td>Shooting</td>\n",
       "      <td>Southbound State Route 99, south of Woollomes ...</td>\n",
       "      <td>93215</td>\n",
       "      <td>California Highway Patrol</td>\n",
       "      <td>No arrests at this time.</td>\n",
       "      <td>12</td>\n",
       "    </tr>\n",
       "    <tr>\n",
       "      <th>402</th>\n",
       "      <td>Vincente Hinojosa Regalado</td>\n",
       "      <td>23</td>\n",
       "      <td>2020-12-26</td>\n",
       "      <td>N/A</td>\n",
       "      <td>Shooting</td>\n",
       "      <td>1500 block of Poplar Avenue, Wasco (map)</td>\n",
       "      <td>93280</td>\n",
       "      <td>Kern County Sheriff's Office</td>\n",
       "      <td>No arrests at this time.</td>\n",
       "      <td>12</td>\n",
       "    </tr>\n",
       "    <tr>\n",
       "      <th>403</th>\n",
       "      <td>Delbert Benskin</td>\n",
       "      <td>62</td>\n",
       "      <td>2020-12-25</td>\n",
       "      <td>Blunt Injuries</td>\n",
       "      <td>Assault</td>\n",
       "      <td>15 S. Chester Ave, Bakersfield (map)</td>\n",
       "      <td>93304</td>\n",
       "      <td>Bakersfield Police Department</td>\n",
       "      <td>No arrests at this time.</td>\n",
       "      <td>12</td>\n",
       "    </tr>\n",
       "    <tr>\n",
       "      <th>404</th>\n",
       "      <td>Manuel Acosta</td>\n",
       "      <td>37</td>\n",
       "      <td>2020-12-24</td>\n",
       "      <td>N/A</td>\n",
       "      <td>Shooting</td>\n",
       "      <td>600 block of 12th Avenue, Delano (map)</td>\n",
       "      <td>93215</td>\n",
       "      <td>Delano Police Department</td>\n",
       "      <td>No arrests at this time.</td>\n",
       "      <td>12</td>\n",
       "    </tr>\n",
       "  </tbody>\n",
       "</table>\n",
       "</div>"
      ],
      "text/plain": [
       "                           Name Age       Date  Cause of Death  Category  \\\n",
       "400           Emmanuel Arechiga  18 2020-12-31             N/A  Shooting   \n",
       "401          Efren Alcala Lopez  27 2020-12-30             N/A  Shooting   \n",
       "402  Vincente Hinojosa Regalado  23 2020-12-26             N/A  Shooting   \n",
       "403             Delbert Benskin  62 2020-12-25  Blunt Injuries   Assault   \n",
       "404               Manuel Acosta  37 2020-12-24             N/A  Shooting   \n",
       "\n",
       "                                        Scene of Crime Zipcode  \\\n",
       "400                     Morin Court, Bakersfield (map)   93304   \n",
       "401  Southbound State Route 99, south of Woollomes ...   93215   \n",
       "402           1500 block of Poplar Avenue, Wasco (map)   93280   \n",
       "403               15 S. Chester Ave, Bakersfield (map)   93304   \n",
       "404             600 block of 12th Avenue, Delano (map)   93215   \n",
       "\n",
       "                            Agency           Judicial Status  month  \n",
       "400  Bakersfield Police Department   No arrests at this time     12  \n",
       "401      California Highway Patrol  No arrests at this time.     12  \n",
       "402   Kern County Sheriff's Office  No arrests at this time.     12  \n",
       "403  Bakersfield Police Department  No arrests at this time.     12  \n",
       "404       Delano Police Department  No arrests at this time.     12  "
      ]
     },
     "execution_count": 55,
     "metadata": {},
     "output_type": "execute_result"
    }
   ],
   "source": [
    "year_first.head()"
   ]
  },
  {
   "cell_type": "code",
   "execution_count": 57,
   "id": "d14651ea-ac87-41ef-9b64-11b54a3d1691",
   "metadata": {},
   "outputs": [],
   "source": [
    "#combine the 'year_first' and 'month_first' dataframes\n",
    "frames = [month_first, year_first]\n",
    "\n",
    "df = pd.concat(frames)"
   ]
  },
  {
   "cell_type": "code",
   "execution_count": 58,
   "id": "44d208b7-b0c5-4404-9b6e-cd6e22733321",
   "metadata": {},
   "outputs": [
    {
     "name": "stdout",
     "output_type": "stream",
     "text": [
      "<class 'pandas.core.frame.DataFrame'>\n",
      "RangeIndex: 858 entries, 0 to 857\n",
      "Data columns (total 11 columns):\n",
      " #   Column           Non-Null Count  Dtype         \n",
      "---  ------           --------------  -----         \n",
      " 0   Name             858 non-null    object        \n",
      " 1   Age              858 non-null    object        \n",
      " 2   Date             858 non-null    datetime64[ns]\n",
      " 3   Cause of Death   858 non-null    object        \n",
      " 4   Category         858 non-null    object        \n",
      " 5   Scene of Crime   858 non-null    object        \n",
      " 6   Zipcode          858 non-null    object        \n",
      " 7   Agency           858 non-null    object        \n",
      " 8   Judicial Status  858 non-null    object        \n",
      " 9   month            858 non-null    int32         \n",
      " 10  year             858 non-null    int32         \n",
      "dtypes: datetime64[ns](1), int32(2), object(8)\n",
      "memory usage: 67.2+ KB\n"
     ]
    }
   ],
   "source": [
    "df.info()"
   ]
  },
  {
   "cell_type": "code",
   "execution_count": 59,
   "id": "b79c2b4e-5813-4756-918a-420a7ac36cfd",
   "metadata": {},
   "outputs": [
    {
     "data": {
      "text/plain": [
       "array(['46', '19', '31', '2 months', '73', 'About 39 weeks gestation',\n",
       "       '30', '40', '75', '21', '49', '66', '27', '60', '33', '22', '63',\n",
       "       '32', '14', '51', '34', '37', '24', '41', '50', '58', '39', '43',\n",
       "       'Jr.', '25', 'Unborn baby', '18', '23', '26', '29', '48', '42',\n",
       "       '20', '18 days', '28', '53', '54', 'Undisclosed', '45', '61', '38',\n",
       "       '2', '52', '67', '17', '3', '71', '36', '3 months', '35', '56',\n",
       "       '11 months', '47', '9 months old', '15', '59', '4 months', '5',\n",
       "       '64', '8 months', '57', '19 months', '77', '22 months', '12',\n",
       "       'Sr.', '84', '1', '55', 'N/A', '44', '83', '68', '62', '65', '11',\n",
       "       '13', 'Jr', '3 days', '16', '8', 'Pending', '78', '10', 'Unknown',\n",
       "       '70', '17 months', '6 months', '81'], dtype=object)"
      ]
     },
     "execution_count": 59,
     "metadata": {},
     "output_type": "execute_result"
    }
   ],
   "source": [
    "#check for unique age values\n",
    "df[\"Age\"].unique()"
   ]
  },
  {
   "cell_type": "code",
   "execution_count": 60,
   "id": "99d17f44-3c76-4b99-898e-8b845e9c5e00",
   "metadata": {},
   "outputs": [
    {
     "data": {
      "text/html": [
       "<div>\n",
       "<style scoped>\n",
       "    .dataframe tbody tr th:only-of-type {\n",
       "        vertical-align: middle;\n",
       "    }\n",
       "\n",
       "    .dataframe tbody tr th {\n",
       "        vertical-align: top;\n",
       "    }\n",
       "\n",
       "    .dataframe thead th {\n",
       "        text-align: right;\n",
       "    }\n",
       "</style>\n",
       "<table border=\"1\" class=\"dataframe\">\n",
       "  <thead>\n",
       "    <tr style=\"text-align: right;\">\n",
       "      <th></th>\n",
       "      <th>Name</th>\n",
       "      <th>Age</th>\n",
       "      <th>Date</th>\n",
       "      <th>Cause of Death</th>\n",
       "      <th>Category</th>\n",
       "      <th>Scene of Crime</th>\n",
       "      <th>Zipcode</th>\n",
       "      <th>Agency</th>\n",
       "      <th>Judicial Status</th>\n",
       "      <th>month</th>\n",
       "      <th>year</th>\n",
       "    </tr>\n",
       "  </thead>\n",
       "  <tbody>\n",
       "    <tr>\n",
       "      <th>267</th>\n",
       "      <td>Marcos Gamez Miranda</td>\n",
       "      <td>Sr.</td>\n",
       "      <td>2018-06-02</td>\n",
       "      <td>Stab wounds</td>\n",
       "      <td>Stabbing</td>\n",
       "      <td>700 block of Vine Street</td>\n",
       "      <td>93307</td>\n",
       "      <td>Kern County Sheriff's Office</td>\n",
       "      <td>No charges filed</td>\n",
       "      <td>6</td>\n",
       "      <td>2018</td>\n",
       "    </tr>\n",
       "    <tr>\n",
       "      <th>278</th>\n",
       "      <td>Eduardo Salinas</td>\n",
       "      <td>Sr.</td>\n",
       "      <td>2018-04-24</td>\n",
       "      <td>Gunshot wound</td>\n",
       "      <td>Shooting</td>\n",
       "      <td>1900 block of 4th Street, Wasco</td>\n",
       "      <td>93280</td>\n",
       "      <td>Kern County Sheriff's Office</td>\n",
       "      <td>Charges filed</td>\n",
       "      <td>4</td>\n",
       "      <td>2018</td>\n",
       "    </tr>\n",
       "  </tbody>\n",
       "</table>\n",
       "</div>"
      ],
      "text/plain": [
       "                     Name  Age       Date Cause of Death  Category  \\\n",
       "267  Marcos Gamez Miranda  Sr. 2018-06-02    Stab wounds  Stabbing   \n",
       "278       Eduardo Salinas  Sr. 2018-04-24  Gunshot wound  Shooting   \n",
       "\n",
       "                      Scene of Crime Zipcode                        Agency  \\\n",
       "267         700 block of Vine Street   93307  Kern County Sheriff's Office   \n",
       "278  1900 block of 4th Street, Wasco   93280  Kern County Sheriff's Office   \n",
       "\n",
       "      Judicial Status  month  year  \n",
       "267  No charges filed      6  2018  \n",
       "278     Charges filed      4  2018  "
      ]
     },
     "execution_count": 60,
     "metadata": {},
     "output_type": "execute_result"
    }
   ],
   "source": [
    "#some age values are listed as senior, indexing issue when webscraping\n",
    "df[df[\"Age\"] == \"Sr.\"]"
   ]
  },
  {
   "cell_type": "code",
   "execution_count": 67,
   "id": "5f06948d-89a2-475b-b6cd-15e5714f43e1",
   "metadata": {},
   "outputs": [],
   "source": [
    "#update correct age - got information from kget homicide tracker\n",
    "df.at[278, 'Age']= 51"
   ]
  },
  {
   "cell_type": "code",
   "execution_count": 68,
   "id": "6378f6d5-e938-420d-8116-c98dd1ea0ef2",
   "metadata": {},
   "outputs": [
    {
     "data": {
      "text/plain": [
       "Name                               Eduardo Salinas\n",
       "Age                                             51\n",
       "Date                           2018-04-24 00:00:00\n",
       "Cause of Death                       Gunshot wound\n",
       "Category                                  Shooting\n",
       "Scene of Crime     1900 block of 4th Street, Wasco\n",
       "Zipcode                                      93280\n",
       "Agency                Kern County Sheriff's Office\n",
       "Judicial Status                      Charges filed\n",
       "month                                            4\n",
       "year                                          2018\n",
       "Name: 278, dtype: object"
      ]
     },
     "execution_count": 68,
     "metadata": {},
     "output_type": "execute_result"
    }
   ],
   "source": [
    "df.loc[278]"
   ]
  },
  {
   "cell_type": "code",
   "execution_count": 69,
   "id": "018f9f02-8ff5-4bf8-b00d-c2d5460fb082",
   "metadata": {},
   "outputs": [
    {
     "data": {
      "text/plain": [
       "array(['46', '19', '31', '2 months', '73', 'About 39 weeks gestation',\n",
       "       '30', '40', '75', '21', '49', '66', '27', '60', '33', '22', '63',\n",
       "       '32', '14', '51', '34', '37', '24', '41', '50', '58', '39', '43',\n",
       "       'Jr.', '25', 'Unborn baby', '18', '23', '26', '29', '48', '42',\n",
       "       '20', '18 days', '28', '53', '54', 'Undisclosed', '45', '61', '38',\n",
       "       '2', '52', '67', '17', '3', '71', '36', '3 months', '35', '56',\n",
       "       '11 months', '47', '9 months old', '15', '59', '4 months', '5',\n",
       "       '64', '8 months', '57', '19 months', '77', '22 months', '12', 36,\n",
       "       51, '84', '1', '55', 'N/A', '44', '83', '68', '62', '65', '11',\n",
       "       '13', 'Jr', '3 days', '16', '8', 'Pending', '78', '10', 'Unknown',\n",
       "       '70', '17 months', '6 months', '81'], dtype=object)"
      ]
     },
     "execution_count": 69,
     "metadata": {},
     "output_type": "execute_result"
    }
   ],
   "source": [
    "df[\"Age\"].unique()"
   ]
  },
  {
   "cell_type": "code",
   "execution_count": 78,
   "id": "cbd6e8ea-0f90-41a7-b9f1-200442c8f4e5",
   "metadata": {},
   "outputs": [],
   "source": [
    "#change month values to decimal values, and unknown vales to 1000\n",
    "df2.replace({\"2 months\" : 0.17, \"About 39 weeks gestation\" : 0, \"Unborn baby\" : 0,\n",
    "             \"18 days\" : 0.05, \"Undisclosed\" : 1000, \"3 months\" : 0.25,\n",
    "             \"11 months\" : 0.92, \"9 months\" : 0.75, \"4 months\" : 0.33,\n",
    "             \"8 months\" : 0.67, \"19 months\" : 1.58, \"22 months\" : 1.92,\n",
    "             \"N/A\" : 1000, \"3 days\" : 0.008, \"Pending\" : 1000, \"Unknown\" : 1000,\n",
    "             \"17 months\" : 1.42, \"6 months\" : 0.5, \"9 months old\" : 0.75, \"Jr\" : 49}, inplace = True)\n",
    "             "
   ]
  },
  {
   "cell_type": "code",
   "execution_count": 79,
   "id": "ed3801cb-d75b-4fbd-9e23-4613c81585ac",
   "metadata": {},
   "outputs": [
    {
     "data": {
      "text/plain": [
       "array(['46', '19', '31', 0.17, '73', 0, '30', '40', '75', '21', '49',\n",
       "       '66', '27', '60', '33', '22', '63', '32', '14', '51', '34', '37',\n",
       "       '24', '41', '50', '58', '39', '43', 'Jr.', '25', '18', '23', '26',\n",
       "       '29', '48', '42', '20', 0.05, '28', '53', '54', 1000, '45', '61',\n",
       "       '38', '2', '52', '67', '17', '3', '71', '36', 0.25, '35', '56',\n",
       "       0.92, '47', 0.75, '15', '59', 0.33, '5', '64', 0.67, '57', 1.58,\n",
       "       '77', 1.92, '12', 36, 51, '84', '1', '55', '44', '83', '68', '62',\n",
       "       '65', '11', '13', 49, 0.008, '16', '8', '78', '10', '70', 1.42,\n",
       "       0.5, '81'], dtype=object)"
      ]
     },
     "execution_count": 79,
     "metadata": {},
     "output_type": "execute_result"
    }
   ],
   "source": [
    "#check ages again\n",
    "df2[\"Age\"].unique()"
   ]
  },
  {
   "cell_type": "code",
   "execution_count": 82,
   "id": "4b879581-2d8a-4197-b942-e0cc6817b85e",
   "metadata": {},
   "outputs": [
    {
     "data": {
      "text/html": [
       "<div>\n",
       "<style scoped>\n",
       "    .dataframe tbody tr th:only-of-type {\n",
       "        vertical-align: middle;\n",
       "    }\n",
       "\n",
       "    .dataframe tbody tr th {\n",
       "        vertical-align: top;\n",
       "    }\n",
       "\n",
       "    .dataframe thead th {\n",
       "        text-align: right;\n",
       "    }\n",
       "</style>\n",
       "<table border=\"1\" class=\"dataframe\">\n",
       "  <thead>\n",
       "    <tr style=\"text-align: right;\">\n",
       "      <th></th>\n",
       "      <th>Name</th>\n",
       "      <th>Age</th>\n",
       "      <th>Date</th>\n",
       "      <th>Cause of Death</th>\n",
       "      <th>Category</th>\n",
       "      <th>Scene of Crime</th>\n",
       "      <th>Zipcode</th>\n",
       "      <th>Agency</th>\n",
       "      <th>Judicial Status</th>\n",
       "      <th>month</th>\n",
       "      <th>year</th>\n",
       "    </tr>\n",
       "  </thead>\n",
       "  <tbody>\n",
       "    <tr>\n",
       "      <th>37</th>\n",
       "      <td>Patrick Martinez</td>\n",
       "      <td>Jr.</td>\n",
       "      <td>2016-07-18</td>\n",
       "      <td>Gunshot wound</td>\n",
       "      <td>Shooting</td>\n",
       "      <td>Alley of the 3100 block of Monterey Street</td>\n",
       "      <td>93306</td>\n",
       "      <td>Kern County Sheriff's Office</td>\n",
       "      <td>No charges filed</td>\n",
       "      <td>7</td>\n",
       "      <td>2016</td>\n",
       "    </tr>\n",
       "    <tr>\n",
       "      <th>52</th>\n",
       "      <td>Ricardo Martinez</td>\n",
       "      <td>Jr.</td>\n",
       "      <td>2016-05-26</td>\n",
       "      <td>Gunshot wound</td>\n",
       "      <td>Shooting</td>\n",
       "      <td>2222 Norwalk St., Delano</td>\n",
       "      <td>93215</td>\n",
       "      <td>Delano Police Department</td>\n",
       "      <td>No charges filed</td>\n",
       "      <td>5</td>\n",
       "      <td>2016</td>\n",
       "    </tr>\n",
       "    <tr>\n",
       "      <th>96</th>\n",
       "      <td>Cipriano Ismael Maldonado</td>\n",
       "      <td>Jr.</td>\n",
       "      <td>2016-01-14</td>\n",
       "      <td>Gunshot wound</td>\n",
       "      <td>Shooting</td>\n",
       "      <td>1000 block of Knotts Street</td>\n",
       "      <td>93305</td>\n",
       "      <td>Kern County Sheriff's Office</td>\n",
       "      <td>No charges filed</td>\n",
       "      <td>1</td>\n",
       "      <td>2016</td>\n",
       "    </tr>\n",
       "    <tr>\n",
       "      <th>98</th>\n",
       "      <td>Ernesto Ramirez</td>\n",
       "      <td>Jr.</td>\n",
       "      <td>2016-01-01</td>\n",
       "      <td>Gunshot wound</td>\n",
       "      <td>Shooting</td>\n",
       "      <td>2700 block of University Avenue</td>\n",
       "      <td>93306</td>\n",
       "      <td>Bakersfield Police Department</td>\n",
       "      <td>No charges filed</td>\n",
       "      <td>1</td>\n",
       "      <td>2016</td>\n",
       "    </tr>\n",
       "    <tr>\n",
       "      <th>101</th>\n",
       "      <td>Ismael Armando Gutierrez</td>\n",
       "      <td>Jr.</td>\n",
       "      <td>2017-12-17</td>\n",
       "      <td>Gunshot wound</td>\n",
       "      <td>Suspected gang shooting</td>\n",
       "      <td>Krauter Street and Walnut Drive</td>\n",
       "      <td>93203</td>\n",
       "      <td>Arvin Police Department</td>\n",
       "      <td>No charges filed</td>\n",
       "      <td>12</td>\n",
       "      <td>2017</td>\n",
       "    </tr>\n",
       "    <tr>\n",
       "      <th>107</th>\n",
       "      <td>Erskine Carr</td>\n",
       "      <td>Jr.</td>\n",
       "      <td>2017-12-01</td>\n",
       "      <td>Gunshot wound</td>\n",
       "      <td>Shooting</td>\n",
       "      <td>900 block of Baker Street</td>\n",
       "      <td>93305</td>\n",
       "      <td>Bakersfield Police Department</td>\n",
       "      <td>No charges filed</td>\n",
       "      <td>12</td>\n",
       "      <td>2017</td>\n",
       "    </tr>\n",
       "    <tr>\n",
       "      <th>150</th>\n",
       "      <td>William Carrillo</td>\n",
       "      <td>Jr.</td>\n",
       "      <td>2017-07-14</td>\n",
       "      <td>Gunshot wound</td>\n",
       "      <td>Suspected gang shooting</td>\n",
       "      <td>East Sherwood Ave. &amp; San Pedro Street in McFar...</td>\n",
       "      <td>93250</td>\n",
       "      <td>McFarland Police Department</td>\n",
       "      <td>Charges dropped</td>\n",
       "      <td>7</td>\n",
       "      <td>2017</td>\n",
       "    </tr>\n",
       "    <tr>\n",
       "      <th>157</th>\n",
       "      <td>Antonio Gutierrez</td>\n",
       "      <td>Jr.</td>\n",
       "      <td>2017-06-24</td>\n",
       "      <td>Gunshot wound</td>\n",
       "      <td>Suspected gang shooting</td>\n",
       "      <td>1000 block of Lexington Avenue, Delano</td>\n",
       "      <td>93215</td>\n",
       "      <td>Delano Police Department</td>\n",
       "      <td>No charges filed</td>\n",
       "      <td>6</td>\n",
       "      <td>2017</td>\n",
       "    </tr>\n",
       "    <tr>\n",
       "      <th>170</th>\n",
       "      <td>Michael Titus Washington</td>\n",
       "      <td>Jr.</td>\n",
       "      <td>2017-05-16</td>\n",
       "      <td>Gunshot wound</td>\n",
       "      <td>Shooting</td>\n",
       "      <td>1200 38th St.</td>\n",
       "      <td>93301</td>\n",
       "      <td>Bakersfield Police Department</td>\n",
       "      <td>No charges filed</td>\n",
       "      <td>5</td>\n",
       "      <td>2017</td>\n",
       "    </tr>\n",
       "    <tr>\n",
       "      <th>185</th>\n",
       "      <td>Victor Palomo</td>\n",
       "      <td>Jr.</td>\n",
       "      <td>2017-03-04</td>\n",
       "      <td>Gunshot wound</td>\n",
       "      <td>Shooting</td>\n",
       "      <td>1200 Block of Freemont Street in Delano</td>\n",
       "      <td>93215</td>\n",
       "      <td>Delano Police Department</td>\n",
       "      <td>Conviction</td>\n",
       "      <td>3</td>\n",
       "      <td>2017</td>\n",
       "    </tr>\n",
       "    <tr>\n",
       "      <th>211</th>\n",
       "      <td>Kenneth Noel Nelson</td>\n",
       "      <td>Jr.</td>\n",
       "      <td>2018-11-16</td>\n",
       "      <td>Stab wounds</td>\n",
       "      <td>Family violence</td>\n",
       "      <td>1800 Block of East Panama Lane</td>\n",
       "      <td>93307</td>\n",
       "      <td>Kern County Sheriff's Office</td>\n",
       "      <td>Charges filed</td>\n",
       "      <td>11</td>\n",
       "      <td>2018</td>\n",
       "    </tr>\n",
       "    <tr>\n",
       "      <th>214</th>\n",
       "      <td>Jose Antonio Fernandez</td>\n",
       "      <td>Jr.</td>\n",
       "      <td>2018-10-28</td>\n",
       "      <td>Gunshot wound</td>\n",
       "      <td>Shooting</td>\n",
       "      <td>600 block of Clinton Street in Delano</td>\n",
       "      <td>93215</td>\n",
       "      <td>Delano Police Department</td>\n",
       "      <td>No charges filed</td>\n",
       "      <td>10</td>\n",
       "      <td>2018</td>\n",
       "    </tr>\n",
       "    <tr>\n",
       "      <th>234</th>\n",
       "      <td>Michael Anthony Duarte</td>\n",
       "      <td>Jr.</td>\n",
       "      <td>2018-08-19</td>\n",
       "      <td>Gunshot wound</td>\n",
       "      <td>Suspected gang shooting</td>\n",
       "      <td>900 block of Almond Tree Way, Delano</td>\n",
       "      <td>93215</td>\n",
       "      <td>Delano Police Department</td>\n",
       "      <td>No charges filed</td>\n",
       "      <td>8</td>\n",
       "      <td>2018</td>\n",
       "    </tr>\n",
       "    <tr>\n",
       "      <th>244</th>\n",
       "      <td>Michael Wiggins</td>\n",
       "      <td>Jr.</td>\n",
       "      <td>2018-07-22</td>\n",
       "      <td>Gunshot wound</td>\n",
       "      <td>Shooting</td>\n",
       "      <td>9395 North Loop Boulevard in California City</td>\n",
       "      <td>93505</td>\n",
       "      <td>California City Police Department</td>\n",
       "      <td>Charges filed</td>\n",
       "      <td>7</td>\n",
       "      <td>2018</td>\n",
       "    </tr>\n",
       "    <tr>\n",
       "      <th>529</th>\n",
       "      <td>Jose Flores</td>\n",
       "      <td>Jr.</td>\n",
       "      <td>2020-01-21</td>\n",
       "      <td>Multiple sharp force injuries</td>\n",
       "      <td>Stabbing</td>\n",
       "      <td>Foothill Road and Morning Drive, Bakersfield, ...</td>\n",
       "      <td>93306</td>\n",
       "      <td>Kern County Sheriff's Office</td>\n",
       "      <td>Charges filed</td>\n",
       "      <td>1</td>\n",
       "      <td>1</td>\n",
       "    </tr>\n",
       "    <tr>\n",
       "      <th>530</th>\n",
       "      <td>Roger Archer</td>\n",
       "      <td>Jr.</td>\n",
       "      <td>2020-01-19</td>\n",
       "      <td>Multiple gunshot wounds</td>\n",
       "      <td>Shooting</td>\n",
       "      <td>200 block of Beardsley Avenue, Bakersfield, CA...</td>\n",
       "      <td>93308</td>\n",
       "      <td>Kern County Sheriff’s Office</td>\n",
       "      <td>No charges filed</td>\n",
       "      <td>1</td>\n",
       "      <td>1</td>\n",
       "    </tr>\n",
       "    <tr>\n",
       "      <th>617</th>\n",
       "      <td>Everardo Perez</td>\n",
       "      <td>Jr.</td>\n",
       "      <td>2021-06-12</td>\n",
       "      <td>1000</td>\n",
       "      <td>Vehicular Homicide</td>\n",
       "      <td>3800 block of Q Street, Bakersfield (map)</td>\n",
       "      <td>93301</td>\n",
       "      <td>Bakersfield Police Department</td>\n",
       "      <td>Charges filed</td>\n",
       "      <td>6</td>\n",
       "      <td>6</td>\n",
       "    </tr>\n",
       "  </tbody>\n",
       "</table>\n",
       "</div>"
      ],
      "text/plain": [
       "                          Name  Age       Date                 Cause of Death  \\\n",
       "37            Patrick Martinez  Jr. 2016-07-18                  Gunshot wound   \n",
       "52            Ricardo Martinez  Jr. 2016-05-26                  Gunshot wound   \n",
       "96   Cipriano Ismael Maldonado  Jr. 2016-01-14                  Gunshot wound   \n",
       "98             Ernesto Ramirez  Jr. 2016-01-01                  Gunshot wound   \n",
       "101   Ismael Armando Gutierrez  Jr. 2017-12-17                  Gunshot wound   \n",
       "107               Erskine Carr  Jr. 2017-12-01                  Gunshot wound   \n",
       "150           William Carrillo  Jr. 2017-07-14                  Gunshot wound   \n",
       "157          Antonio Gutierrez  Jr. 2017-06-24                  Gunshot wound   \n",
       "170   Michael Titus Washington  Jr. 2017-05-16                  Gunshot wound   \n",
       "185              Victor Palomo  Jr. 2017-03-04                  Gunshot wound   \n",
       "211        Kenneth Noel Nelson  Jr. 2018-11-16                    Stab wounds   \n",
       "214     Jose Antonio Fernandez  Jr. 2018-10-28                  Gunshot wound   \n",
       "234     Michael Anthony Duarte  Jr. 2018-08-19                  Gunshot wound   \n",
       "244            Michael Wiggins  Jr. 2018-07-22                  Gunshot wound   \n",
       "529                Jose Flores  Jr. 2020-01-21  Multiple sharp force injuries   \n",
       "530               Roger Archer  Jr. 2020-01-19        Multiple gunshot wounds   \n",
       "617             Everardo Perez  Jr. 2021-06-12                           1000   \n",
       "\n",
       "                    Category  \\\n",
       "37                  Shooting   \n",
       "52                  Shooting   \n",
       "96                  Shooting   \n",
       "98                  Shooting   \n",
       "101  Suspected gang shooting   \n",
       "107                 Shooting   \n",
       "150  Suspected gang shooting   \n",
       "157  Suspected gang shooting   \n",
       "170                 Shooting   \n",
       "185                 Shooting   \n",
       "211          Family violence   \n",
       "214                 Shooting   \n",
       "234  Suspected gang shooting   \n",
       "244                 Shooting   \n",
       "529                 Stabbing   \n",
       "530                 Shooting   \n",
       "617       Vehicular Homicide   \n",
       "\n",
       "                                        Scene of Crime Zipcode  \\\n",
       "37          Alley of the 3100 block of Monterey Street   93306   \n",
       "52                            2222 Norwalk St., Delano   93215   \n",
       "96                         1000 block of Knotts Street   93305   \n",
       "98                     2700 block of University Avenue   93306   \n",
       "101                    Krauter Street and Walnut Drive   93203   \n",
       "107                          900 block of Baker Street   93305   \n",
       "150  East Sherwood Ave. & San Pedro Street in McFar...   93250   \n",
       "157             1000 block of Lexington Avenue, Delano   93215   \n",
       "170                                      1200 38th St.   93301   \n",
       "185            1200 Block of Freemont Street in Delano   93215   \n",
       "211                     1800 Block of East Panama Lane   93307   \n",
       "214              600 block of Clinton Street in Delano   93215   \n",
       "234               900 block of Almond Tree Way, Delano   93215   \n",
       "244       9395 North Loop Boulevard in California City   93505   \n",
       "529  Foothill Road and Morning Drive, Bakersfield, ...   93306   \n",
       "530  200 block of Beardsley Avenue, Bakersfield, CA...   93308   \n",
       "617          3800 block of Q Street, Bakersfield (map)   93301   \n",
       "\n",
       "                                Agency   Judicial Status  month  year  \n",
       "37        Kern County Sheriff's Office  No charges filed      7  2016  \n",
       "52            Delano Police Department  No charges filed      5  2016  \n",
       "96        Kern County Sheriff's Office  No charges filed      1  2016  \n",
       "98       Bakersfield Police Department  No charges filed      1  2016  \n",
       "101            Arvin Police Department  No charges filed     12  2017  \n",
       "107      Bakersfield Police Department  No charges filed     12  2017  \n",
       "150        McFarland Police Department   Charges dropped      7  2017  \n",
       "157           Delano Police Department  No charges filed      6  2017  \n",
       "170      Bakersfield Police Department  No charges filed      5  2017  \n",
       "185           Delano Police Department        Conviction      3  2017  \n",
       "211       Kern County Sheriff's Office     Charges filed     11  2018  \n",
       "214           Delano Police Department  No charges filed     10  2018  \n",
       "234           Delano Police Department  No charges filed      8  2018  \n",
       "244  California City Police Department     Charges filed      7  2018  \n",
       "529       Kern County Sheriff's Office     Charges filed      1     1  \n",
       "530       Kern County Sheriff’s Office  No charges filed      1     1  \n",
       "617      Bakersfield Police Department     Charges filed      6     6  "
      ]
     },
     "execution_count": 82,
     "metadata": {},
     "output_type": "execute_result"
    }
   ],
   "source": [
    "#similar with 'sr.', there was an indexing issue when scraping names that contained 'jr'\n",
    "df2[df2[\"Age\"] == \"Jr.\"]"
   ]
  },
  {
   "cell_type": "code",
   "execution_count": 86,
   "id": "6d6f3bb2-045a-4999-8cab-b9cdbd2dbee1",
   "metadata": {},
   "outputs": [],
   "source": [
    "#checked KGET homicide tracker to get correct age for each index\n",
    "df2.at[37, 'Age']= 35\n",
    "df2.at[52, 'Age']= 40\n",
    "df2.at[96, 'Age']= 35\n",
    "df2.at[98, 'Age']= 29\n",
    "df2.at[101, 'Age']= 21\n",
    "df2.at[107, 'Age']= 40\n",
    "df2.at[150, 'Age']= 25\n",
    "df2.at[157, 'Age']= 31\n",
    "df2.at[170, 'Age']= 35\n",
    "df2.at[185, 'Age']= 37\n",
    "df2.at[211, 'Age']= 65\n",
    "df2.at[214, 'Age']= 30\n",
    "df2.at[234, 'Age']= 26\n",
    "df2.at[244, 'Age']= 39\n",
    "df2.at[529, 'Age']= 17\n",
    "df2.at[530, 'Age']= 33\n",
    "df2.at[617, 'Age']= 26"
   ]
  },
  {
   "cell_type": "code",
   "execution_count": 87,
   "id": "b21ffd93-d8d8-4102-b6c6-f1ec4fecdfb2",
   "metadata": {},
   "outputs": [
    {
     "data": {
      "text/html": [
       "<div>\n",
       "<style scoped>\n",
       "    .dataframe tbody tr th:only-of-type {\n",
       "        vertical-align: middle;\n",
       "    }\n",
       "\n",
       "    .dataframe tbody tr th {\n",
       "        vertical-align: top;\n",
       "    }\n",
       "\n",
       "    .dataframe thead th {\n",
       "        text-align: right;\n",
       "    }\n",
       "</style>\n",
       "<table border=\"1\" class=\"dataframe\">\n",
       "  <thead>\n",
       "    <tr style=\"text-align: right;\">\n",
       "      <th></th>\n",
       "      <th>Name</th>\n",
       "      <th>Age</th>\n",
       "      <th>Date</th>\n",
       "      <th>Cause of Death</th>\n",
       "      <th>Category</th>\n",
       "      <th>Scene of Crime</th>\n",
       "      <th>Zipcode</th>\n",
       "      <th>Agency</th>\n",
       "      <th>Judicial Status</th>\n",
       "      <th>month</th>\n",
       "      <th>year</th>\n",
       "    </tr>\n",
       "  </thead>\n",
       "  <tbody>\n",
       "  </tbody>\n",
       "</table>\n",
       "</div>"
      ],
      "text/plain": [
       "Empty DataFrame\n",
       "Columns: [Name, Age, Date, Cause of Death, Category, Scene of Crime, Zipcode, Agency, Judicial Status, month, year]\n",
       "Index: []"
      ]
     },
     "execution_count": 87,
     "metadata": {},
     "output_type": "execute_result"
    }
   ],
   "source": [
    "#make sure all 'jrs' are accounted for\n",
    "df2[df2[\"Age\"] == \"Jr.\"]"
   ]
  },
  {
   "cell_type": "code",
   "execution_count": 88,
   "id": "8974fdb9-af2c-4e4a-9a9d-bfb9e5e212ed",
   "metadata": {},
   "outputs": [],
   "source": [
    "#change age data type to float\n",
    "df2[\"Age\"] = df2[\"Age\"].astype(float)"
   ]
  },
  {
   "cell_type": "code",
   "execution_count": 89,
   "id": "1f617d4a-7ea7-4256-9daf-862b6ff7fe39",
   "metadata": {},
   "outputs": [
    {
     "name": "stdout",
     "output_type": "stream",
     "text": [
      "<class 'pandas.core.frame.DataFrame'>\n",
      "RangeIndex: 858 entries, 0 to 857\n",
      "Data columns (total 11 columns):\n",
      " #   Column           Non-Null Count  Dtype         \n",
      "---  ------           --------------  -----         \n",
      " 0   Name             858 non-null    object        \n",
      " 1   Age              858 non-null    float64       \n",
      " 2   Date             858 non-null    datetime64[ns]\n",
      " 3   Cause of Death   858 non-null    object        \n",
      " 4   Category         858 non-null    object        \n",
      " 5   Scene of Crime   858 non-null    object        \n",
      " 6   Zipcode          858 non-null    object        \n",
      " 7   Agency           858 non-null    object        \n",
      " 8   Judicial Status  858 non-null    object        \n",
      " 9   month            858 non-null    int32         \n",
      " 10  year             858 non-null    int32         \n",
      "dtypes: datetime64[ns](1), float64(1), int32(2), object(7)\n",
      "memory usage: 67.2+ KB\n"
     ]
    }
   ],
   "source": [
    "df2.info()"
   ]
  },
  {
   "cell_type": "code",
   "execution_count": 90,
   "id": "83bcf1f1-011f-4204-a7e6-58288c93ed81",
   "metadata": {},
   "outputs": [],
   "source": [
    "df = df2"
   ]
  },
  {
   "cell_type": "code",
   "execution_count": 6,
   "id": "36ae3cb9-7594-4384-ab00-45716cc0527b",
   "metadata": {},
   "outputs": [
    {
     "name": "stdout",
     "output_type": "stream",
     "text": [
      "<class 'pandas.core.frame.DataFrame'>\n",
      "RangeIndex: 858 entries, 0 to 857\n",
      "Data columns (total 11 columns):\n",
      " #   Column           Non-Null Count  Dtype  \n",
      "---  ------           --------------  -----  \n",
      " 0   Name             858 non-null    object \n",
      " 1   Age              858 non-null    float64\n",
      " 2   Date             858 non-null    object \n",
      " 3   Cause of Death   858 non-null    object \n",
      " 4   Category         858 non-null    object \n",
      " 5   Scene of Crime   858 non-null    object \n",
      " 6   Zipcode          858 non-null    object \n",
      " 7   Agency           858 non-null    object \n",
      " 8   Judicial Status  858 non-null    object \n",
      " 9   month            858 non-null    int64  \n",
      " 10  year             858 non-null    int64  \n",
      "dtypes: float64(1), int64(2), object(8)\n",
      "memory usage: 73.9+ KB\n"
     ]
    }
   ],
   "source": [
    "df.info()"
   ]
  },
  {
   "cell_type": "code",
   "execution_count": 7,
   "id": "6f502516-029d-4031-9455-77e594d4886b",
   "metadata": {},
   "outputs": [
    {
     "data": {
      "text/plain": [
       "year\n",
       "2020    140\n",
       "2021    136\n",
       "2018    111\n",
       "2017    103\n",
       "2022    103\n",
       "2016     99\n",
       "2019     86\n",
       "2023     79\n",
       "1900      1\n",
       "Name: count, dtype: int64"
      ]
     },
     "execution_count": 7,
     "metadata": {},
     "output_type": "execute_result"
    }
   ],
   "source": [
    "df[\"year\"].value_counts()"
   ]
  },
  {
   "cell_type": "code",
   "execution_count": 20,
   "id": "f619e17c-8a77-47b0-904d-e2299e61ef7b",
   "metadata": {},
   "outputs": [],
   "source": [
    "#correct month and year for incorrect value\n",
    "df.at[313, 'month']= 10"
   ]
  },
  {
   "cell_type": "code",
   "execution_count": 21,
   "id": "8678184a-07fb-406b-a277-185197fb418d",
   "metadata": {},
   "outputs": [],
   "source": [
    "df.at[313, 'year'] = 2016"
   ]
  },
  {
   "cell_type": "code",
   "execution_count": 22,
   "id": "b844a3e0-551c-4f7d-9b60-8e24acc140d8",
   "metadata": {},
   "outputs": [
    {
     "data": {
      "text/plain": [
       "year\n",
       "2020    140\n",
       "2021    136\n",
       "2018    111\n",
       "2017    103\n",
       "2022    103\n",
       "2016    100\n",
       "2019     86\n",
       "2023     79\n",
       "Name: count, dtype: int64"
      ]
     },
     "execution_count": 22,
     "metadata": {},
     "output_type": "execute_result"
    }
   ],
   "source": [
    "#number of homicides per year\n",
    "df[\"year\"].value_counts()"
   ]
  },
  {
   "cell_type": "markdown",
   "id": "cb068c7e-a460-4e6c-8c03-f1612a613cda",
   "metadata": {},
   "source": [
    "The number of homicides peaked in 2020 and 2021, and reached a low in 2023. The other years listed hover around 100."
   ]
  },
  {
   "cell_type": "code",
   "execution_count": 24,
   "id": "5dbe0205-a72c-4390-a9d3-b189a1dad9f7",
   "metadata": {},
   "outputs": [
    {
     "data": {
      "text/plain": [
       "<Axes: title={'center': 'Number of Homicides by Year'}, xlabel='year'>"
      ]
     },
     "execution_count": 24,
     "metadata": {},
     "output_type": "execute_result"
    },
    {
     "data": {
      "image/png": "[encoded data removed]",
      "text/plain": [
       "<Figure size 640x480 with 1 Axes>"
      ]
     },
     "metadata": {},
     "output_type": "display_data"
    }
   ],
   "source": [
    "#plot graph showing the number of homicides per year\n",
    "\n",
    "df[\"year\"].value_counts().sort_index().plot(kind=\"bar\", title = \"Number of Homicides by Year\")"
   ]
  },
  {
   "cell_type": "code",
   "execution_count": 27,
   "id": "ee206784-edb2-43df-8828-855fe9658674",
   "metadata": {},
   "outputs": [
    {
     "data": {
      "text/plain": [
       "<Axes: title={'center': 'Percentage of Total Homicides (2016-2023) by Year'}, xlabel='year'>"
      ]
     },
     "execution_count": 27,
     "metadata": {},
     "output_type": "execute_result"
    },
    {
     "data": {
      "image/png": "[encoded data removed]",
      "text/plain": [
       "<Figure size 640x480 with 1 Axes>"
      ]
     },
     "metadata": {},
     "output_type": "display_data"
    }
   ],
   "source": [
    "df[\"year\"].value_counts(normalize=True).sort_index().plot(kind=\"bar\", title = \"Percentage of Total Homicides (2016-2023) by Year\")"
   ]
  },
  {
   "cell_type": "markdown",
   "id": "3bc1ea71-d8d4-4fbe-aa88-90ca406594e3",
   "metadata": {},
   "source": [
    "Zipcode 93307 is the most dangerous in Kern County, accounting for over 140 homicides from 2016-2023. This zipcode is\n",
    "in East Bakersfield and contains the area also known as Greenfield. 93215 is the second most dangerous zipcode, and \n",
    "is located in Delano. "
   ]
  },
  {
   "cell_type": "code",
   "execution_count": 28,
   "id": "1aa0e8bd-432d-47c6-8cf7-011ea0479065",
   "metadata": {},
   "outputs": [
    {
     "data": {
      "text/plain": [
       "<Axes: title={'center': 'Top 20 Zip Codes by Homicide Count'}, ylabel='Zipcode'>"
      ]
     },
     "execution_count": 28,
     "metadata": {},
     "output_type": "execute_result"
    },
    {
     "data": {
      "image/png": "[encoded data removed]",
      "text/plain": [
       "<Figure size 640x480 with 1 Axes>"
      ]
     },
     "metadata": {},
     "output_type": "display_data"
    }
   ],
   "source": [
    "df[\"Zipcode\"].value_counts().head(20).plot(kind=\"barh\", title = \"Top 20 Zip Codes by Homicide Count\")"
   ]
  },
  {
   "cell_type": "code",
   "execution_count": 28,
   "id": "04542c1a-af1a-4a7d-a401-1a30556a8621",
   "metadata": {},
   "outputs": [
    {
     "data": {
      "text/plain": [
       "<Axes: title={'center': 'Top 20 Zip Codes by Total Homicide Percentage'}, ylabel='Zipcode'>"
      ]
     },
     "execution_count": 28,
     "metadata": {},
     "output_type": "execute_result"
    },
    {
     "data": {
      "image/png": "[encoded data removed]",
      "text/plain": [
       "<Figure size 640x480 with 1 Axes>"
      ]
     },
     "metadata": {},
     "output_type": "display_data"
    }
   ],
   "source": [
    "df[\"Zipcode\"].value_counts(normalize=True).head(20).plot(kind=\"barh\", title = \"Top 20 Zip Codes by Total Homicide Percentage\")"
   ]
  },
  {
   "cell_type": "code",
   "execution_count": 30,
   "id": "936ccf77-e46f-45db-a646-ed6c5acbc731",
   "metadata": {},
   "outputs": [
    {
     "data": {
      "text/plain": [
       "<Axes: title={'center': 'Homicide Count by Month'}, ylabel='month'>"
      ]
     },
     "execution_count": 30,
     "metadata": {},
     "output_type": "execute_result"
    },
    {
     "data": {
      "image/png": "[encoded data removed]",
      "text/plain": [
       "<Figure size 640x480 with 1 Axes>"
      ]
     },
     "metadata": {},
     "output_type": "display_data"
    }
   ],
   "source": [
    "df[\"month\"].value_counts().plot(kind=\"barh\", title = \"Homicide Count by Month\")"
   ]
  },
  {
   "cell_type": "markdown",
   "id": "032c4da3-e929-439b-acb4-bcf8525f2156",
   "metadata": {},
   "source": [
    "July and April are the most dangerous months for homicides, with April to August being the most dangerous part of the year. November\n",
    "is quite a bit lower that the other months, and it would be interesting to research that further."
   ]
  },
  {
   "cell_type": "code",
   "execution_count": 147,
   "id": "34bcea05-bc0e-4c18-a6aa-4786458b0fad",
   "metadata": {},
   "outputs": [
    {
     "data": {
      "text/plain": [
       "<Axes: title={'center': 'Homicide Count by Month'}, xlabel='month'>"
      ]
     },
     "execution_count": 147,
     "metadata": {},
     "output_type": "execute_result"
    },
    {
     "data": {
      "image/png": "[encoded data removed]",
      "text/plain": [
       "<Figure size 640x480 with 1 Axes>"
      ]
     },
     "metadata": {},
     "output_type": "display_data"
    }
   ],
   "source": [
    "df[\"month\"].value_counts().sort_index().plot(kind=\"bar\", title = \"Homicide Count by Month\")"
   ]
  },
  {
   "cell_type": "code",
   "execution_count": 5,
   "id": "d84d9ed2-9e5e-4da8-b7c9-1c1d5f11f238",
   "metadata": {},
   "outputs": [],
   "source": [
    "data = df.copy()"
   ]
  },
  {
   "cell_type": "code",
   "execution_count": 11,
   "id": "ecad75ad-1899-4095-b9f6-b24b5e009fe0",
   "metadata": {},
   "outputs": [],
   "source": [
    "#create age category column\n",
    "bins = [-1, 9, 13, 17, 24, 34, 44, 54, 64, 100]\n",
    "labels = [\"0-9\", \"10-13\", \"14-17\", \"18-24\", \"25-34\", \"35-44\", \"45-54\", \"55-64\", \"65+\"]\n",
    "\n",
    "data['age_category'] = pd.cut(data['Age'], bins=bins, labels=labels)"
   ]
  },
  {
   "cell_type": "code",
   "execution_count": 15,
   "id": "d8763efc-8142-4ea3-9c3c-f5e8efbfbd4a",
   "metadata": {},
   "outputs": [
    {
     "data": {
      "text/plain": [
       "array(['Carjacking', 'Shooting', 'Child death',\n",
       "       'Officer-involved shooting', 'Domestic violence', 'Robbery',\n",
       "       '1000', 'Remains found', 'Suspected gang robbery', 'Fight',\n",
       "       'In-custody death', 'Accidental shooting', 'Gang shooting',\n",
       "       'Hit-and-run', 'Possible domestic violence', 'Family violence',\n",
       "       'Prison death', 'Suspected gang shooting/stray bullet',\n",
       "       'Suspected gang shooting', 'Miscarriage', 'Strangled', 'Stabbing',\n",
       "       'Suspected gang shooting/pot shop shooting', 'Home invasion',\n",
       "       'Child abuse', 'Suspected gang stabbing', 'Assault',\n",
       "       'Casino shooting', 'Not released', 'Child abuse death',\n",
       "       'Homeless man killed', 'Love triangle', 'Drowning',\n",
       "       'Pot shop shooting', 'Drive-by shooting', 'Workplace violence',\n",
       "       'Hit by a car', 'Murder suicide', 'Fire', 'Party stabbing',\n",
       "       'Vandalism confrontation', 'Body found in burning car',\n",
       "       'Domestic violence/Mass murder', 'Mass murder', 'Missing person',\n",
       "       'Body found in desert', 'Prison', 'Burned body', 'Body in car',\n",
       "       'Drive-by shooting/suspected gang shooting', 'Bar shooting',\n",
       "       'Officer-Involved Shooting', 'Domestic Violence',\n",
       "       'Suspicious Death', 'Strangulation', 'Murder-suicide',\n",
       "       'Officer-Involved Shooting/Domestic Violence',\n",
       "       'Domestic Violence Shooting',\n",
       "       '900 block of Cannon Avenue, Bakersfield',\n",
       "       'Officer involved shooting', 'Vehicular Assault',\n",
       "       'Vehicular Homicide', 'Inmate Homicide', 'Murder-Suicide',\n",
       "       'Found remains', 'Shooting/Stabbing'], dtype=object)"
      ]
     },
     "execution_count": 15,
     "metadata": {},
     "output_type": "execute_result"
    }
   ],
   "source": [
    "data[\"Category\"].unique()"
   ]
  },
  {
   "cell_type": "code",
   "execution_count": 32,
   "id": "eab34b09-c900-429b-a0c7-68f72b305dfd",
   "metadata": {},
   "outputs": [],
   "source": [
    "#group crime categories together\n",
    "data.loc[data['Category'].str.contains('gang', case=False, na=False), 'gang'] = 1\n",
    "data.loc[data['Category'].str.contains('robbery|invasion', case=False, na=False), 'robbery'] = 1\n",
    "data.loc[data['Category'].str.contains('child abuse', case=False, na=False), 'child abuse'] = 1\n",
    "data.loc[data['Category'].str.contains('family|domestic', case=False, na=False), 'domestic_family'] = 1\n",
    "data.loc[data['Category'].str.contains('officer', case=False, na=False), 'officer_involved'] = 1\n",
    "data.loc[data['Category'].str.contains('prison|inmate|in-custody', case=False, na=False), 'prison'] = 1\n",
    "data.loc[data['Category'].str.contains('homeless', case=False, na=False), 'homeless_death'] = 1\n",
    "data.loc[data['Category'].str.contains('vehicular|hit by a car|hit-and-run', case=False, na=False), 'vehicular'] = 1\n",
    "data.loc[data['Category'].str.contains('suicide|murder-suicide', case=False, na=False), 'murder_suicide'] = 1\n",
    "data.loc[data['Category'].str.contains('accidental', case=False, na=False), 'accidental'] = 1\n",
    "data.loc[data['Category'].str.contains('carjacking', case=False, na=False), 'carjacking'] = 1\n"
   ]
  },
  {
   "cell_type": "code",
   "execution_count": 50,
   "id": "7d945c2e-2dfb-4d82-983a-9518d8b641e7",
   "metadata": {},
   "outputs": [],
   "source": [
    "#fill in missing data\n",
    "data[[\"gang\", \"robbery\", \"child abuse\", \"domestic_family\", \"officer_involved\",\n",
    "\"prison\", \"homeless_death\", \"vehicular\", \"murder_suicide\", \"accidental\", \"carjacking\"]] = data[[\"gang\", \"robbery\", \"child abuse\", \"domestic_family\", \"officer_involved\",\n",
    "\"prison\", \"homeless_death\", \"vehicular\", \"murder_suicide\", \"accidental\", \"carjacking\"]].fillna(0)"
   ]
  },
  {
   "cell_type": "code",
   "execution_count": 132,
   "id": "cf7a2734-f3ee-4c62-9d8e-c0f220f8954d",
   "metadata": {},
   "outputs": [],
   "source": [
    "#group cause of death together\n",
    "data.loc[data['Cause of Death'].str.contains('stab|stabbing|cut|laceration', case=False, na=False), 'stabbing'] = 1\n",
    "data.loc[data['Cause of Death'].str.contains('gunshot|shot', case=False, na=False), 'shooting'] = 1\n",
    "data.loc[data['Cause of Death'].str.contains('asphyxia|strangulation|compression', case=False, na=False), 'strangulation'] = 1\n",
    "data.loc[data['Cause of Death'].str.contains('blunt', case=False, na=False), 'blunt force'] = 1"
   ]
  },
  {
   "cell_type": "code",
   "execution_count": 133,
   "id": "4e74b1f5-f9e0-4afe-8494-23eb605d86a8",
   "metadata": {},
   "outputs": [],
   "source": [
    "#fill missing data with 0s\n",
    "data[[\"stabbing\", \"shooting\", \"strangulation\", \"blunt force\"]] = data[[\"stabbing\", \"shooting\", \"strangulation\", \"blunt force\"]].fillna(0)"
   ]
  },
  {
   "cell_type": "raw",
   "id": "1b90d3fc-e24e-4b51-8e40-2f306e17fa17",
   "metadata": {},
   "source": [
    "25-34 years old is the age range with the most homicide victims, followed by 18-24 year olds. 10-13 year olds \n",
    "have the least number of homicide victims."
   ]
  },
  {
   "cell_type": "code",
   "execution_count": 148,
   "id": "1fea800f-7afd-4833-bd2a-dbeafa61ba1b",
   "metadata": {},
   "outputs": [
    {
     "data": {
      "text/plain": [
       "<Axes: title={'center': 'Homicide Count by Age of Victim'}, xlabel='age_category'>"
      ]
     },
     "execution_count": 148,
     "metadata": {},
     "output_type": "execute_result"
    },
    {
     "data": {
      "image/png": "[encoded data removed]",
      "text/plain": [
       "<Figure size 640x480 with 1 Axes>"
      ]
     },
     "metadata": {},
     "output_type": "display_data"
    }
   ],
   "source": [
    "#plot graphing showing homicide victims by age range\n",
    "data[\"age_category\"].value_counts().sort_index().plot(kind = \"bar\", title = \"Homicide Count by Age of Victim\")"
   ]
  },
  {
   "cell_type": "code",
   "execution_count": 149,
   "id": "9391399c-7728-4dcc-b470-64062afe51e7",
   "metadata": {},
   "outputs": [
    {
     "data": {
      "text/plain": [
       "<Axes: title={'center': 'Total Homicide Percentage by Age of Victim'}, xlabel='age_category'>"
      ]
     },
     "execution_count": 149,
     "metadata": {},
     "output_type": "execute_result"
    },
    {
     "data": {
      "image/png": "[encoded data removed]",
      "text/plain": [
       "<Figure size 640x480 with 1 Axes>"
      ]
     },
     "metadata": {},
     "output_type": "display_data"
    }
   ],
   "source": [
    "data[\"age_category\"].value_counts(normalize=True).sort_index().plot(kind = \"bar\", title = \"Total Homicide Percentage by Age of Victim\")"
   ]
  },
  {
   "cell_type": "code",
   "execution_count": 37,
   "id": "0d247335-0c1d-4514-b62f-eabf6f4c12a5",
   "metadata": {},
   "outputs": [],
   "source": [
    "df2 = data.copy()"
   ]
  },
  {
   "cell_type": "code",
   "execution_count": 45,
   "id": "aa6b9b52-ff88-4b6e-85d7-f9e185242f9a",
   "metadata": {},
   "outputs": [],
   "source": [
    "#clean scene of crime column to prepare data for word frequency\n",
    "df2[\"Scene of Crime Cleaned\"] = df2[\"Scene of Crime\"].str.replace('(map)', '')\n"
   ]
  },
  {
   "cell_type": "code",
   "execution_count": 47,
   "id": "382fc5b8-c757-409c-9ae6-2bdfb98622a2",
   "metadata": {},
   "outputs": [],
   "source": [
    "#remove all digits from addresses/locations\n",
    "df2[\"Scene of Crime Cleaned\"] = df2[\"Scene of Crime Cleaned\"].replace('\\d+', '', regex = True)"
   ]
  },
  {
   "cell_type": "code",
   "execution_count": 84,
   "id": "33873e25-b883-408e-8db3-c2279c54c1bc",
   "metadata": {},
   "outputs": [],
   "source": [
    "#list of words to remove from addresses/location\n",
    "banned = [\"block\", \"of\", \"Rd\", \"Blvd\", \"Blvd,\", \"Blvd.\", \"Boulevard\", \"Court\", \"Court,\", \"Road\", \"Road,\", \"Rd\", \"rd\", \"street\", \"Street\", \"Street,\", \"St.\", \n",
    "          \"St\", \"St,\", \"st\", \"Lane\", \"Lane,\", \"Ln\", \"Ln,\", \"Ave\", \"Ave,\",\n",
    "          \"Avenue\", \"Avenue,\", \"Ave.\", \"Ave.,\", \"Street,\", \"Road,\", \"just\", \"E\", \"east\", \"intersection\", \"Intersection\",  \"Way\",\n",
    "          \"Drive\", \"Drive,\", \"Arvin\", \"Bakersfield\", \"Kern\", \"Shafter\", \"San\", \",\", \"Wasco\", \"Wasco,\", \"Delano\", \"Delano,\" ,\"Lost Hills\", \"Lamont\",\n",
    "          \"Ridgecrest\", \"th\", \"in\", \"Tehachapi\", \"Mojave\", \"McFarland\", \"and\", \"Block\", \"CA\", \"California\", \"State\", \"Bakersfield,\", \"South\",\n",
    "         \"Highway\", \"Highway,\", \"Park\",  \"East\", \"West\", \"Valley\", \"&\", \"S.\", \"north\", \"North\", \"Rosamond\", \"near\", \"at\", \"E.\"]\n"
   ]
  },
  {
   "cell_type": "code",
   "execution_count": 85,
   "id": "b626edd3-846a-46d5-b4a8-97debd717451",
   "metadata": {},
   "outputs": [],
   "source": [
    "#function to remove banned words for column\n",
    "f = lambda x: ' '.join([item for item in x.split() if item not in banned])\n",
    "df2[\"Scene of Crime Cleaned\"] = df2[\"Scene of Crime Cleaned\"].apply(f)"
   ]
  },
  {
   "cell_type": "code",
   "execution_count": 87,
   "id": "c77b4363-e9b4-4520-aaf9-4e2769743551",
   "metadata": {},
   "outputs": [
    {
     "data": {
      "text/plain": [
       "<Axes: title={'center': 'Most Frequently Occurring Words in Scene of Crime'}, ylabel='Scene of Crime Cleaned'>"
      ]
     },
     "execution_count": 87,
     "metadata": {},
     "output_type": "execute_result"
    },
    {
     "data": {
      "image/png": "[encoded data removed]",
      "text/plain": [
       "<Figure size 640x480 with 1 Axes>"
      ]
     },
     "metadata": {},
     "output_type": "display_data"
    }
   ],
   "source": [
    "#plot the 25 most common words in the newly cleaned scene of crime column\n",
    "df2[\"Scene of Crime Cleaned\"].str.split().explode().value_counts().head(25).plot(kind=\"barh\", title = \"Most Frequently Occurring Words in Scene of Crime\")"
   ]
  },
  {
   "cell_type": "markdown",
   "id": "a462c960-aad5-47a7-95b6-9d931d8a434c",
   "metadata": {},
   "source": [
    "Union Ave, county prisons, and Chester Ave are the most frequent locations for homicides. "
   ]
  },
  {
   "cell_type": "code",
   "execution_count": 92,
   "id": "026cdc85-decb-48e7-8311-6f2fe702ab6b",
   "metadata": {},
   "outputs": [
    {
     "data": {
      "text/html": [
       "<div>\n",
       "<style scoped>\n",
       "    .dataframe tbody tr th:only-of-type {\n",
       "        vertical-align: middle;\n",
       "    }\n",
       "\n",
       "    .dataframe tbody tr th {\n",
       "        vertical-align: top;\n",
       "    }\n",
       "\n",
       "    .dataframe thead th {\n",
       "        text-align: right;\n",
       "    }\n",
       "</style>\n",
       "<table border=\"1\" class=\"dataframe\">\n",
       "  <thead>\n",
       "    <tr style=\"text-align: right;\">\n",
       "      <th></th>\n",
       "      <th></th>\n",
       "      <th>proportion</th>\n",
       "    </tr>\n",
       "    <tr>\n",
       "      <th>age_category</th>\n",
       "      <th>shot</th>\n",
       "      <th></th>\n",
       "    </tr>\n",
       "  </thead>\n",
       "  <tbody>\n",
       "    <tr>\n",
       "      <th rowspan=\"2\" valign=\"top\">0-9</th>\n",
       "      <th>No</th>\n",
       "      <td>0.869565</td>\n",
       "    </tr>\n",
       "    <tr>\n",
       "      <th>Yes</th>\n",
       "      <td>0.130435</td>\n",
       "    </tr>\n",
       "    <tr>\n",
       "      <th rowspan=\"2\" valign=\"top\">10-13</th>\n",
       "      <th>No</th>\n",
       "      <td>0.666667</td>\n",
       "    </tr>\n",
       "    <tr>\n",
       "      <th>Yes</th>\n",
       "      <td>0.333333</td>\n",
       "    </tr>\n",
       "    <tr>\n",
       "      <th rowspan=\"2\" valign=\"top\">14-17</th>\n",
       "      <th>Yes</th>\n",
       "      <td>0.740741</td>\n",
       "    </tr>\n",
       "    <tr>\n",
       "      <th>No</th>\n",
       "      <td>0.259259</td>\n",
       "    </tr>\n",
       "    <tr>\n",
       "      <th rowspan=\"2\" valign=\"top\">18-24</th>\n",
       "      <th>Yes</th>\n",
       "      <td>0.647436</td>\n",
       "    </tr>\n",
       "    <tr>\n",
       "      <th>No</th>\n",
       "      <td>0.352564</td>\n",
       "    </tr>\n",
       "    <tr>\n",
       "      <th rowspan=\"2\" valign=\"top\">25-34</th>\n",
       "      <th>Yes</th>\n",
       "      <td>0.577075</td>\n",
       "    </tr>\n",
       "    <tr>\n",
       "      <th>No</th>\n",
       "      <td>0.422925</td>\n",
       "    </tr>\n",
       "    <tr>\n",
       "      <th rowspan=\"2\" valign=\"top\">35-44</th>\n",
       "      <th>Yes</th>\n",
       "      <td>0.579787</td>\n",
       "    </tr>\n",
       "    <tr>\n",
       "      <th>No</th>\n",
       "      <td>0.420213</td>\n",
       "    </tr>\n",
       "    <tr>\n",
       "      <th rowspan=\"2\" valign=\"top\">45-54</th>\n",
       "      <th>Yes</th>\n",
       "      <td>0.520000</td>\n",
       "    </tr>\n",
       "    <tr>\n",
       "      <th>No</th>\n",
       "      <td>0.480000</td>\n",
       "    </tr>\n",
       "    <tr>\n",
       "      <th rowspan=\"2\" valign=\"top\">55-64</th>\n",
       "      <th>No</th>\n",
       "      <td>0.509091</td>\n",
       "    </tr>\n",
       "    <tr>\n",
       "      <th>Yes</th>\n",
       "      <td>0.490909</td>\n",
       "    </tr>\n",
       "    <tr>\n",
       "      <th rowspan=\"2\" valign=\"top\">65+</th>\n",
       "      <th>No</th>\n",
       "      <td>0.724138</td>\n",
       "    </tr>\n",
       "    <tr>\n",
       "      <th>Yes</th>\n",
       "      <td>0.275862</td>\n",
       "    </tr>\n",
       "  </tbody>\n",
       "</table>\n",
       "</div>"
      ],
      "text/plain": [
       "                   proportion\n",
       "age_category shot            \n",
       "0-9          No      0.869565\n",
       "             Yes     0.130435\n",
       "10-13        No      0.666667\n",
       "             Yes     0.333333\n",
       "14-17        Yes     0.740741\n",
       "             No      0.259259\n",
       "18-24        Yes     0.647436\n",
       "             No      0.352564\n",
       "25-34        Yes     0.577075\n",
       "             No      0.422925\n",
       "35-44        Yes     0.579787\n",
       "             No      0.420213\n",
       "45-54        Yes     0.520000\n",
       "             No      0.480000\n",
       "55-64        No      0.509091\n",
       "             Yes     0.490909\n",
       "65+          No      0.724138\n",
       "             Yes     0.275862"
      ]
     },
     "execution_count": 92,
     "metadata": {},
     "output_type": "execute_result"
    }
   ],
   "source": [
    "#percentage of homicide victims in each age category that were shot\n",
    "shot_ages_pct = data.groupby(by=\"age_category\")[\"shot\"].value_counts(normalize=True)\n",
    "shot_ages_pct = pd.DataFrame(shot_ages_pct)\n",
    "shot_ages_pct"
   ]
  },
  {
   "cell_type": "code",
   "execution_count": 101,
   "id": "51ed71f5-4cba-449e-b2a8-80863c805a68",
   "metadata": {},
   "outputs": [],
   "source": [
    "#function to find percentage of victims by specific category\n",
    "def by_variable(df, grouping, column):\n",
    "   frame = df.groupby(by=grouping)[column].value_counts(normalize=True)\n",
    "   frame2 = pd.DataFrame(frame)\n",
    "   return frame2"
   ]
  },
  {
   "cell_type": "code",
   "execution_count": 102,
   "id": "e3ef0ee3-c8f1-4779-afba-fd8c993988e8",
   "metadata": {},
   "outputs": [
    {
     "data": {
      "text/html": [
       "<div>\n",
       "<style scoped>\n",
       "    .dataframe tbody tr th:only-of-type {\n",
       "        vertical-align: middle;\n",
       "    }\n",
       "\n",
       "    .dataframe tbody tr th {\n",
       "        vertical-align: top;\n",
       "    }\n",
       "\n",
       "    .dataframe thead th {\n",
       "        text-align: right;\n",
       "    }\n",
       "</style>\n",
       "<table border=\"1\" class=\"dataframe\">\n",
       "  <thead>\n",
       "    <tr style=\"text-align: right;\">\n",
       "      <th></th>\n",
       "      <th></th>\n",
       "      <th>proportion</th>\n",
       "    </tr>\n",
       "    <tr>\n",
       "      <th>age_category</th>\n",
       "      <th>stabbed</th>\n",
       "      <th></th>\n",
       "    </tr>\n",
       "  </thead>\n",
       "  <tbody>\n",
       "    <tr>\n",
       "      <th rowspan=\"2\" valign=\"top\">0-9</th>\n",
       "      <th>No</th>\n",
       "      <td>0.782609</td>\n",
       "    </tr>\n",
       "    <tr>\n",
       "      <th>Yes</th>\n",
       "      <td>0.217391</td>\n",
       "    </tr>\n",
       "    <tr>\n",
       "      <th>10-13</th>\n",
       "      <th>No</th>\n",
       "      <td>1.000000</td>\n",
       "    </tr>\n",
       "    <tr>\n",
       "      <th>14-17</th>\n",
       "      <th>No</th>\n",
       "      <td>1.000000</td>\n",
       "    </tr>\n",
       "    <tr>\n",
       "      <th rowspan=\"2\" valign=\"top\">18-24</th>\n",
       "      <th>No</th>\n",
       "      <td>0.935897</td>\n",
       "    </tr>\n",
       "    <tr>\n",
       "      <th>Yes</th>\n",
       "      <td>0.064103</td>\n",
       "    </tr>\n",
       "    <tr>\n",
       "      <th rowspan=\"2\" valign=\"top\">25-34</th>\n",
       "      <th>No</th>\n",
       "      <td>0.913043</td>\n",
       "    </tr>\n",
       "    <tr>\n",
       "      <th>Yes</th>\n",
       "      <td>0.086957</td>\n",
       "    </tr>\n",
       "    <tr>\n",
       "      <th rowspan=\"2\" valign=\"top\">35-44</th>\n",
       "      <th>No</th>\n",
       "      <td>0.920213</td>\n",
       "    </tr>\n",
       "    <tr>\n",
       "      <th>Yes</th>\n",
       "      <td>0.079787</td>\n",
       "    </tr>\n",
       "    <tr>\n",
       "      <th rowspan=\"2\" valign=\"top\">45-54</th>\n",
       "      <th>No</th>\n",
       "      <td>0.770000</td>\n",
       "    </tr>\n",
       "    <tr>\n",
       "      <th>Yes</th>\n",
       "      <td>0.230000</td>\n",
       "    </tr>\n",
       "    <tr>\n",
       "      <th rowspan=\"2\" valign=\"top\">55-64</th>\n",
       "      <th>No</th>\n",
       "      <td>0.872727</td>\n",
       "    </tr>\n",
       "    <tr>\n",
       "      <th>Yes</th>\n",
       "      <td>0.127273</td>\n",
       "    </tr>\n",
       "    <tr>\n",
       "      <th rowspan=\"2\" valign=\"top\">65+</th>\n",
       "      <th>No</th>\n",
       "      <td>0.793103</td>\n",
       "    </tr>\n",
       "    <tr>\n",
       "      <th>Yes</th>\n",
       "      <td>0.206897</td>\n",
       "    </tr>\n",
       "  </tbody>\n",
       "</table>\n",
       "</div>"
      ],
      "text/plain": [
       "                      proportion\n",
       "age_category stabbed            \n",
       "0-9          No         0.782609\n",
       "             Yes        0.217391\n",
       "10-13        No         1.000000\n",
       "14-17        No         1.000000\n",
       "18-24        No         0.935897\n",
       "             Yes        0.064103\n",
       "25-34        No         0.913043\n",
       "             Yes        0.086957\n",
       "35-44        No         0.920213\n",
       "             Yes        0.079787\n",
       "45-54        No         0.770000\n",
       "             Yes        0.230000\n",
       "55-64        No         0.872727\n",
       "             Yes        0.127273\n",
       "65+          No         0.793103\n",
       "             Yes        0.206897"
      ]
     },
     "execution_count": 102,
     "metadata": {},
     "output_type": "execute_result"
    }
   ],
   "source": [
    "#percentage of homicide victims stabbed by age range\n",
    "stabbed_pct = by_variable(data, \"age_category\", \"stabbed\")\n",
    "stabbed_pct"
   ]
  },
  {
   "cell_type": "code",
   "execution_count": 153,
   "id": "95874fc6-1049-414e-b6d4-7259edf7875e",
   "metadata": {},
   "outputs": [],
   "source": [
    "#creating dataframes for senior and minor victims\n",
    "seniors = data[data[\"age_category\"] == \"65+\"]\n",
    "minors = data[data[\"Age\"] < 18]"
   ]
  },
  {
   "cell_type": "code",
   "execution_count": 154,
   "id": "aed4b768-4ef6-4f88-a34d-038fa33bb233",
   "metadata": {},
   "outputs": [
    {
     "data": {
      "text/plain": [
       "<Axes: title={'center': 'Homicides of Minors by Zipcode'}, xlabel='Zipcode'>"
      ]
     },
     "execution_count": 154,
     "metadata": {},
     "output_type": "execute_result"
    },
    {
     "data": {
      "image/png": "[encoded data removed]",
      "text/plain": [
       "<Figure size 640x480 with 1 Axes>"
      ]
     },
     "metadata": {},
     "output_type": "display_data"
    }
   ],
   "source": [
    "#plot showing the number of minors killed by zipcode -- #1000 represents unknown--Similar to distribution of all homicides\n",
    "minors[\"Zipcode\"].value_counts().plot(kind=\"bar\", title = \"Homicides of Minors by Zipcode\")"
   ]
  },
  {
   "cell_type": "code",
   "execution_count": 156,
   "id": "6db48687-cc38-442e-a38e-a647c0f2a336",
   "metadata": {},
   "outputs": [
    {
     "data": {
      "text/plain": [
       "<Axes: title={'center': 'Homicides of Seniors by Zipcode'}, xlabel='Zipcode'>"
      ]
     },
     "execution_count": 156,
     "metadata": {},
     "output_type": "execute_result"
    },
    {
     "data": {
      "image/png": "[encoded data removed]",
      "text/plain": [
       "<Figure size 640x480 with 1 Axes>"
      ]
     },
     "metadata": {},
     "output_type": "display_data"
    }
   ],
   "source": [
    "#graph showing the number of seniors killed by zipcode\n",
    "\n",
    "seniors[\"Zipcode\"].value_counts().plot(kind = \"bar\", title = \"Homicides of Seniors by Zipcode\")"
   ]
  },
  {
   "cell_type": "code",
   "execution_count": 160,
   "id": "3790c144-3b1b-4a36-8a7b-a84eb866ef43",
   "metadata": {},
   "outputs": [],
   "source": [
    "#create a dataframes separated by major cause of death categories\n",
    "shooting_victims = data[data[\"shooting\"] == 1]\n",
    "strangle_victims = data[data[\"strangulation\"] == 1]\n",
    "stabbing_victims = data[data[\"stabbing\"] == 1]\n",
    "blunt_force_victims = data[data[\"blunt force\"] == 1]"
   ]
  },
  {
   "cell_type": "markdown",
   "id": "a28e9b8c-e9ae-4cba-b4d7-c612e0db1dbf",
   "metadata": {},
   "source": [
    "93307 is the zipcode with the most shooting homicides."
   ]
  },
  {
   "cell_type": "code",
   "execution_count": 162,
   "id": "e8622a9e-f32b-4e0d-b32a-4a0e31141eee",
   "metadata": {
    "scrolled": true
   },
   "outputs": [
    {
     "data": {
      "text/plain": [
       "Zipcode\n",
       "93307    0.174840\n",
       "93304    0.106610\n",
       "93305    0.089552\n",
       "93215    0.089552\n",
       "93306    0.076759\n",
       "93309    0.046908\n",
       "93308    0.044776\n",
       "93203    0.040512\n",
       "93241    0.040512\n",
       "93301    0.038380\n",
       "93280    0.036247\n",
       "93313    0.029851\n",
       "93250    0.029851\n",
       "93501    0.021322\n",
       "93560    0.021322\n",
       "93555    0.017058\n",
       "93311    0.012793\n",
       "93561    0.010661\n",
       "93312    0.008529\n",
       "93505    0.008529\n",
       "93268    0.008529\n",
       "93523    0.006397\n",
       "93251    0.004264\n",
       "93516    0.004264\n",
       "93240    0.004264\n",
       "93243    0.004264\n",
       "93519    0.002132\n",
       "93263    0.002132\n",
       "93536    0.002132\n",
       "93461    0.002132\n",
       "93206    0.002132\n",
       "93202    0.002132\n",
       "93212    0.002132\n",
       "93283    0.002132\n",
       "93531    0.002132\n",
       "93518    0.002132\n",
       "93205    0.002132\n",
       "Name: proportion, dtype: float64"
      ]
     },
     "execution_count": 162,
     "metadata": {},
     "output_type": "execute_result"
    }
   ],
   "source": [
    "\n",
    "shooting_victims[\"Zipcode\"].value_counts(normalize=True)"
   ]
  },
  {
   "cell_type": "markdown",
   "id": "0866ef9e-3e37-4516-a9a4-e63c096fca6d",
   "metadata": {},
   "source": [
    "93215 is the zipcode with the most stabbing homicides."
   ]
  },
  {
   "cell_type": "code",
   "execution_count": 168,
   "id": "87ce16e1-7d4d-4ec4-a805-0f405809a9c1",
   "metadata": {},
   "outputs": [
    {
     "data": {
      "text/plain": [
       "Zipcode\n",
       "93215    0.147727\n",
       "93307    0.136364\n",
       "93304    0.113636\n",
       "93308    0.113636\n",
       "93305    0.090909\n",
       "93301    0.068182\n",
       "93555    0.045455\n",
       "93309    0.034091\n",
       "93203    0.034091\n",
       "93561    0.022727\n",
       "93241    0.022727\n",
       "93280    0.022727\n",
       "93313    0.022727\n",
       "93306    0.022727\n",
       "93251    0.011364\n",
       "93560    0.011364\n",
       "93240    0.011364\n",
       "93250    0.011364\n",
       "92335    0.011364\n",
       "93505    0.011364\n",
       "93263    0.011364\n",
       "93278    0.011364\n",
       "93268    0.011364\n",
       "Name: proportion, dtype: float64"
      ]
     },
     "execution_count": 168,
     "metadata": {},
     "output_type": "execute_result"
    }
   ],
   "source": [
    "\n",
    "stabbing_victims[\"Zipcode\"].value_counts(normalize=True)"
   ]
  },
  {
   "cell_type": "markdown",
   "id": "0043534d-a910-456c-90cc-d511c30fe5df",
   "metadata": {},
   "source": [
    "93307 is the zipcode withe most homicides caused by blunt force trauma. 93309 has much higher proportion of blunt force\n",
    "trauma homicides than total homicides, while 93215 has a much lower proportion."
   ]
  },
  {
   "cell_type": "code",
   "execution_count": 169,
   "id": "e2bbc251-fb7f-4f54-b8e8-0744f67359e8",
   "metadata": {},
   "outputs": [
    {
     "data": {
      "text/plain": [
       "Zipcode\n",
       "93307    0.133333\n",
       "93309    0.111111\n",
       "93308    0.111111\n",
       "93304    0.111111\n",
       "93301    0.066667\n",
       "93305    0.066667\n",
       "93203    0.066667\n",
       "93215    0.066667\n",
       "93561    0.066667\n",
       "93312    0.044444\n",
       "1000     0.022222\n",
       "93280    0.022222\n",
       "93501    0.022222\n",
       "93241    0.022222\n",
       "93283    0.022222\n",
       "93560    0.022222\n",
       "93536    0.022222\n",
       "Name: proportion, dtype: float64"
      ]
     },
     "execution_count": 169,
     "metadata": {},
     "output_type": "execute_result"
    }
   ],
   "source": [
    "blunt_force_victims[\"Zipcode\"].value_counts(normalize=True)"
   ]
  },
  {
   "cell_type": "markdown",
   "id": "f5398762-1ccf-4c0c-a4eb-c2482f892618",
   "metadata": {},
   "source": [
    "93215 has the highest proportion of victims of strangulation. 93313 has a much higher proportional of victims\n",
    "in this category than total homicides. 93307 is fairly low, considering its high proportion of homicides."
   ]
  },
  {
   "cell_type": "code",
   "execution_count": 161,
   "id": "1fb5ca83-cbf0-40f6-9aef-71b538563e22",
   "metadata": {},
   "outputs": [
    {
     "data": {
      "text/plain": [
       "Zipcode\n",
       "93215    0.172414\n",
       "93313    0.103448\n",
       "93308    0.103448\n",
       "93561    0.103448\n",
       "93306    0.068966\n",
       "93304    0.068966\n",
       "93305    0.068966\n",
       "93280    0.068966\n",
       "93307    0.034483\n",
       "93505    0.034483\n",
       "93312    0.034483\n",
       "93240    0.034483\n",
       "93560    0.034483\n",
       "93527    0.034483\n",
       "93309    0.034483\n",
       "Name: proportion, dtype: float64"
      ]
     },
     "execution_count": 161,
     "metadata": {},
     "output_type": "execute_result"
    }
   ],
   "source": [
    "strangle_victims[\"Zipcode\"].value_counts(normalize=True)"
   ]
  },
  {
   "cell_type": "code",
   "execution_count": 167,
   "id": "1b55eddf-e6bb-4cd2-a333-b52c9fde49df",
   "metadata": {},
   "outputs": [],
   "source": [
    "#function to get zipcode and age data\n",
    "def get_subset(df, column):\n",
    "    frame = df[df[column] == 1]\n",
    "    zip_data = frame[\"Zipcode\"].value_counts()\n",
    "    age_data = frame[\"age_category\"].value_counts()\n",
    "    print(zip_data)\n",
    "    print(age_data)"
   ]
  },
  {
   "cell_type": "markdown",
   "id": "9feed325-65dd-466f-9a90-aec855a3bec9",
   "metadata": {},
   "source": [
    "Homicides due to known gang activity are most common in 93215, 93307, and 93304, the zipcodes that have the highest homicide\n",
    "rates overall. 18-34 year olds make up the majority of victims."
   ]
  },
  {
   "cell_type": "code",
   "execution_count": 168,
   "id": "2520b138-0c3b-4282-a27a-a64d059cb1eb",
   "metadata": {
    "scrolled": true
   },
   "outputs": [
    {
     "name": "stdout",
     "output_type": "stream",
     "text": [
      "Zipcode\n",
      "93215    12\n",
      "93307     9\n",
      "93304     8\n",
      "93301     4\n",
      "93305     4\n",
      "93280     4\n",
      "93241     3\n",
      "93309     3\n",
      "93561     2\n",
      "93203     2\n",
      "93268     2\n",
      "93560     1\n",
      "93250     1\n",
      "Name: count, dtype: int64\n",
      "age_category\n",
      "25-34    18\n",
      "18-24    15\n",
      "35-44     6\n",
      "45-54     6\n",
      "55-64     4\n",
      "14-17     3\n",
      "0-9       2\n",
      "65+       1\n",
      "Name: count, dtype: int64\n"
     ]
    }
   ],
   "source": [
    "\n",
    "get_subset(data, \"gang\")"
   ]
  },
  {
   "cell_type": "markdown",
   "id": "c4ad1516-cb66-4873-8ae6-d8b3013f8cce",
   "metadata": {},
   "source": [
    "93308 is the zipcode with the most homicides due to domestic/family violence. Victims skew older than gang violence."
   ]
  },
  {
   "cell_type": "code",
   "execution_count": 169,
   "id": "361b5aa7-1882-4058-8719-f5e8995901c1",
   "metadata": {},
   "outputs": [
    {
     "name": "stdout",
     "output_type": "stream",
     "text": [
      "Zipcode\n",
      "93308    5\n",
      "93306    4\n",
      "93307    4\n",
      "93280    4\n",
      "93312    3\n",
      "93313    3\n",
      "93215    2\n",
      "93283    2\n",
      "93555    2\n",
      "93561    1\n",
      "93309    1\n",
      "93304    1\n",
      "93305    1\n",
      "93501    1\n",
      "92335    1\n",
      "93505    1\n",
      "93301    1\n",
      "Name: count, dtype: int64\n",
      "age_category\n",
      "45-54    8\n",
      "35-44    6\n",
      "25-34    5\n",
      "55-64    5\n",
      "65+      5\n",
      "18-24    3\n",
      "0-9      2\n",
      "14-17    2\n",
      "Name: count, dtype: int64\n"
     ]
    }
   ],
   "source": [
    "get_subset(data, \"domestic_family\")"
   ]
  },
  {
   "cell_type": "code",
   "execution_count": 176,
   "id": "07939acd-ac20-4d66-b589-0259be057327",
   "metadata": {},
   "outputs": [],
   "source": [
    "#function to find the percentage of homicides by crime type/cause of death. This is based on information from the KGET\n",
    "#homicide tracker, so it might not be up-to-date based on further findings.\n",
    "def pct_crime_type(df, column):\n",
    "    pct = (df[column].sum())/(df[column].count())\n",
    "    pct = pct * 100\n",
    "    pct = round(pct, 2)\n",
    "    print (column.title() + \" homicides accounts for \" + str(pct) + \"% of homicides from 2016-2023.\")"
   ]
  },
  {
   "cell_type": "code",
   "execution_count": 178,
   "id": "c8ec7bf0-96ec-4b5a-9b0d-71139e4824f9",
   "metadata": {},
   "outputs": [
    {
     "name": "stdout",
     "output_type": "stream",
     "text": [
      "Gang homicides accounts for 6.41% of homicides from 2016-2023.\n",
      "Stabbing homicides accounts for 10.26% of homicides from 2016-2023.\n",
      "Strangulation homicides accounts for 3.38% of homicides from 2016-2023.\n",
      "Shooting homicides accounts for 54.66% of homicides from 2016-2023.\n",
      "Blunt Force homicides accounts for 5.24% of homicides from 2016-2023.\n",
      "Domestic_Family homicides accounts for 4.31% of homicides from 2016-2023.\n",
      "Robbery homicides accounts for 0.82% of homicides from 2016-2023.\n",
      "Prison homicides accounts for 1.63% of homicides from 2016-2023.\n",
      "Murder_Suicide homicides accounts for 0.47% of homicides from 2016-2023.\n",
      "Officer_Involved homicides accounts for 5.36% of homicides from 2016-2023.\n",
      "Child Abuse homicides accounts for 1.17% of homicides from 2016-2023.\n",
      "Accidental homicides accounts for 0.12% of homicides from 2016-2023.\n",
      "Vehicular homicides accounts for 0.47% of homicides from 2016-2023.\n",
      "Homeless_Death homicides accounts for 0.35% of homicides from 2016-2023.\n"
     ]
    }
   ],
   "source": [
    "#percentage of homicides by cause of death and categories based on data provided by KGET; some causes of death and \n",
    "#categories were missing/omitted\n",
    "columns = [\"gang\", \"stabbing\", \"strangulation\", \"shooting\", \"blunt force\", \"domestic_family\", \"robbery\",\n",
    "          \"prison\", \"murder_suicide\", \"officer_involved\", \"child abuse\", \"accidental\", \"vehicular\",\n",
    "          \"homeless_death\"]\n",
    "for column in columns:\n",
    "    pct_crime_type(data, column)"
   ]
  },
  {
   "cell_type": "code",
   "execution_count": null,
   "id": "d5a131a6-c660-4880-a3e6-e16972f74806",
   "metadata": {},
   "outputs": [],
   "source": []
  }
 ],
 "metadata": {
  "kernelspec": {
   "display_name": "Python 3 (ipykernel)",
   "language": "python",
   "name": "python3"
  },
  "language_info": {
   "codemirror_mode": {
    "name": "ipython",
    "version": 3
   },
   "file_extension": ".py",
   "mimetype": "text/x-python",
   "name": "python",
   "nbconvert_exporter": "python",
   "pygments_lexer": "ipython3",
   "version": "3.11.7"
  }
 },
 "nbformat": 4,
 "nbformat_minor": 5
}
