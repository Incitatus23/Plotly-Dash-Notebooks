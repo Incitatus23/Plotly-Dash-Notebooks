{
 "cells": [
  {
   "cell_type": "code",
   "execution_count": 1,
   "id": "138864e0-a87c-462b-b819-84fb89920397",
   "metadata": {},
   "outputs": [],
   "source": [
    "import pandas as pd\n",
    "import numpy as np\n",
    "import matplotlib.pyplot as plt\n",
    "import seaborn as sns"
   ]
  },
  {
   "cell_type": "code",
   "execution_count": 2,
   "id": "17352536-2465-45fb-9a55-74f1c5ab0441",
   "metadata": {},
   "outputs": [],
   "source": [
    "#loading datasets and adding HART column\n",
    "df_1 = pd.read_excel('Summary (27).xlsx')\n",
    "df_2 = pd.read_excel('Summary (28).xlsx')\n",
    "df_3 = pd.read_excel('Summary (29).xlsx')\n",
    "df_4 = pd.read_excel('Summary (30).xlsx')\n",
    "df_5 = pd.read_excel('Summary (31).xlsx')\n",
    "df_6 = pd.read_excel('Summary (32).xlsx')\n",
    "df_7 = pd.read_excel('Summary (33).xlsx')\n",
    "df_8 = pd.read_excel('Summary (34).xlsx')\n",
    "df_9 = pd.read_excel('Summary (35).xlsx')\n",
    "df_10 = pd.read_excel('Summary (36).xlsx')\n",
    "df_11 = pd.read_excel('Summary (37).xlsx')\n",
    "df_12 = pd.read_excel('Summary (38).xlsx')\n",
    "df_13 = pd.read_excel('Summary (39).xlsx')\n",
    "df_14 = pd.read_excel('Summary (40).xlsx')\n",
    "df_15 = pd.read_excel('Summary (41).xlsx')\n",
    "df_16 = pd.read_excel('Summary (42).xlsx')\n",
    "df_17 = pd.read_excel('Summary (43).xlsx')\n",
    "df_18 = pd.read_excel('Summary (44).xlsx')\n",
    "df_19 = pd.read_excel('Summary (45).xlsx')\n"
   ]
  },
  {
   "cell_type": "code",
   "execution_count": 3,
   "id": "cf5621e3-4c6a-454e-ac4a-b45384d3c976",
   "metadata": {},
   "outputs": [],
   "source": [
    "#2023-2024 season\n",
    "\n",
    "names = [\"Nikita Kucherov\", \"Nathan MacKinnon\", \"Connor McDavid\"]\n",
    "\n",
    "df_1.loc[df_1['Player'].isin(names), 'Hart'] = 1 \n",
    "df_1.loc[~df_1['Player'].isin(names), 'Hart'] = 0 "
   ]
  },
  {
   "cell_type": "code",
   "execution_count": 4,
   "id": "1a84624a-5703-4a96-9c08-4bb0a4d9073c",
   "metadata": {},
   "outputs": [],
   "source": [
    "#2022-2023 season\n",
    "names = [\"David Pastrnak\", \"Matthew Tkachuk\", \"Connor McDavid\"]\n",
    "\n",
    "df_2.loc[df_2['Player'].isin(names), 'Hart'] = 1 \n",
    "df_2.loc[~df_2['Player'].isin(names), 'Hart'] = 0 "
   ]
  },
  {
   "cell_type": "code",
   "execution_count": 5,
   "id": "eb6a42d7-2866-415c-8db1-be19597bd59c",
   "metadata": {},
   "outputs": [],
   "source": [
    "#2021-2022 season\n",
    "names = [\"Connor McDavid\", \"Auston Matthews\"]\n",
    "\n",
    "df_3.loc[df_3['Player'].isin(names), 'Hart'] = 1 \n",
    "df_3.loc[~df_3['Player'].isin(names), 'Hart'] = 0 "
   ]
  },
  {
   "cell_type": "code",
   "execution_count": 6,
   "id": "ba5f06fb-e0c0-4a31-b2e4-58fb5c20fac6",
   "metadata": {},
   "outputs": [],
   "source": [
    "#2020-2021 season\n",
    "names = [\"Nathan MacKinnon\", \"Connor McDavid\", \"Auston Matthews\"]\n",
    "\n",
    "df_4.loc[df_4['Player'].isin(names), 'Hart'] = 1 \n",
    "df_4.loc[~df_4['Player'].isin(names), 'Hart'] = 0 "
   ]
  },
  {
   "cell_type": "code",
   "execution_count": 7,
   "id": "d6d19091-c2e1-4de8-9dc9-ee09be4e8016",
   "metadata": {},
   "outputs": [],
   "source": [
    "#2019-2020 season\n",
    "names = [\"Leon Draisaitl\", \"Nathan MacKinnon\", \"Artemi Panarin\"]\n",
    "\n",
    "df_5.loc[df_5['Player'].isin(names), 'Hart'] = 1 \n",
    "df_5.loc[~df_5['Player'].isin(names), 'Hart'] = 0 "
   ]
  },
  {
   "cell_type": "code",
   "execution_count": 8,
   "id": "cbb7cf33-b225-428b-8072-5e9f9a6f1003",
   "metadata": {},
   "outputs": [],
   "source": [
    "#2018-2019 season\n",
    "names = [\"Nikita Kucherov\", \"Sidney Crosby\", \"Connor McDavid\"]\n",
    "\n",
    "df_6.loc[df_6['Player'].isin(names), 'Hart'] = 1 \n",
    "df_6.loc[~df_6['Player'].isin(names), 'Hart'] = 0 "
   ]
  },
  {
   "cell_type": "code",
   "execution_count": 9,
   "id": "2c5a2890-8586-4d4b-ba67-0764b2cf525d",
   "metadata": {},
   "outputs": [],
   "source": [
    "#2017-2018 season\n",
    "names = [\"Taylor Hall\", \"Nathan MacKinnon\", \"Anze Kopitar\"]\n",
    "\n",
    "df_7.loc[df_7['Player'].isin(names), 'Hart'] = 1 \n",
    "df_7.loc[~df_7['Player'].isin(names), 'Hart'] = 0 "
   ]
  },
  {
   "cell_type": "code",
   "execution_count": 10,
   "id": "2f62bb1b-df43-4be4-92c7-9e2c50ab076b",
   "metadata": {},
   "outputs": [],
   "source": [
    "#2016-2017 season\n",
    "names = [\"Sidney Crosby\", \"Connor McDavid\"]\n",
    "\n",
    "df_8.loc[df_8['Player'].isin(names), 'Hart'] = 1 \n",
    "df_8.loc[~df_8['Player'].isin(names), 'Hart'] = 0 "
   ]
  },
  {
   "cell_type": "code",
   "execution_count": 11,
   "id": "cbf43023-928c-454c-994e-2355085b4c20",
   "metadata": {},
   "outputs": [],
   "source": [
    "#2015-2016 season\n",
    "names = [\"Patrick Kane\", \"Sidney Crosby\", \"Jamie Benn\"]\n",
    "\n",
    "df_9.loc[df_9['Player'].isin(names), 'Hart'] = 1 \n",
    "df_9.loc[~df_9['Player'].isin(names), 'Hart'] = 0 "
   ]
  },
  {
   "cell_type": "code",
   "execution_count": 12,
   "id": "89cc24f1-a4ce-4e49-b90d-a3021574ff35",
   "metadata": {},
   "outputs": [],
   "source": [
    "#2014-2015 season\n",
    "names = [\"Alex Ovechkin\", \"John Tavares\"]\n",
    "\n",
    "df_10.loc[df_10['Player'].isin(names), 'Hart'] = 1 \n",
    "df_10.loc[~df_10['Player'].isin(names), 'Hart'] = 0 "
   ]
  },
  {
   "cell_type": "code",
   "execution_count": 13,
   "id": "bd5a670d-4249-4727-9e9b-6c2fbc1757db",
   "metadata": {},
   "outputs": [],
   "source": [
    "#2013-2014 season\n",
    "names = [\"Sidney Crosby\", \"Ryan Getzlaf\", \"Claude Giroux\"]\n",
    "\n",
    "df_11.loc[df_11['Player'].isin(names), 'Hart'] = 1 \n",
    "df_11.loc[~df_11['Player'].isin(names), 'Hart'] = 0 "
   ]
  },
  {
   "cell_type": "code",
   "execution_count": 14,
   "id": "2e51cb8b-a353-458e-b881-92a9dbdfd738",
   "metadata": {},
   "outputs": [],
   "source": [
    "#2012-2013 season\n",
    "names = [\"Alex Ovechkin\", \"Sidney Crosby\", \"John Tavares\"]\n",
    "\n",
    "df_12.loc[df_12['Player'].isin(names), 'Hart'] = 1 \n",
    "df_12.loc[~df_12['Player'].isin(names), 'Hart'] = 0 "
   ]
  },
  {
   "cell_type": "code",
   "execution_count": 15,
   "id": "26264ef3-1cb3-4a10-b4b8-5f7ec6d4c280",
   "metadata": {},
   "outputs": [],
   "source": [
    "#2011-2012 season\n",
    "names = [\"Evgeni Malkin\", \"Steven Stamkos\"]\n",
    "\n",
    "df_13.loc[df_13['Player'].isin(names), 'Hart'] = 1 \n",
    "df_13.loc[~df_13['Player'].isin(names), 'Hart'] = 0 "
   ]
  },
  {
   "cell_type": "code",
   "execution_count": 16,
   "id": "56391136-4007-4b96-8ecb-f69fee272cd2",
   "metadata": {},
   "outputs": [],
   "source": [
    "#2010-2011\n",
    "names = [\"Corey Perry\", \"Daniel Sedin\", \"Martin St. Louis\"]\n",
    "df_14.loc[df_14['Player'].isin(names), 'Hart'] = 1 \n",
    "df_14.loc[~df_14['Player'].isin(names), 'Hart'] = 0 "
   ]
  },
  {
   "cell_type": "code",
   "execution_count": 17,
   "id": "73ca8afd-6350-4b6f-b551-fdeaafc0f70c",
   "metadata": {},
   "outputs": [],
   "source": [
    "#2009-2010\n",
    "names = [\"Alex Ovechkin\", \"Henrik Sedin\", \"Sidney Crosby\"]\n",
    "df_15.loc[df_15['Player'].isin(names), 'Hart'] = 1 \n",
    "df_15.loc[~df_15['Player'].isin(names), 'Hart'] = 0 "
   ]
  },
  {
   "cell_type": "code",
   "execution_count": 18,
   "id": "d736f0f9-f725-435c-b423-cb848f9d1013",
   "metadata": {},
   "outputs": [],
   "source": [
    "#2008-2009\n",
    "names = [\"Alex Ovechkin\", \"Evgeni Malkin\", \"Pavel Datsyuk\"]\n",
    "df_16.loc[df_16['Player'].isin(names), 'Hart'] = 1 \n",
    "df_16.loc[~df_16['Player'].isin(names), 'Hart'] = 0 "
   ]
  },
  {
   "cell_type": "code",
   "execution_count": 19,
   "id": "dafdb99e-60eb-4da4-a65c-cb9f07f52cdf",
   "metadata": {},
   "outputs": [],
   "source": [
    "#2007-2008\n",
    "names = [\"Alex Ovechkin\", \"Evgeni Malkin\", \"Jermone Iginla\"]\n",
    "df_17.loc[df_17['Player'].isin(names), 'Hart'] = 1 \n",
    "df_17.loc[~df_17['Player'].isin(names), 'Hart'] = 0 "
   ]
  },
  {
   "cell_type": "code",
   "execution_count": 20,
   "id": "ac3af260-636e-477e-bcde-269bde1b0aac",
   "metadata": {},
   "outputs": [],
   "source": [
    "#2006-2007\n",
    "names = [\"Sidney Crosby\"]\n",
    "df_18.loc[df_18['Player'].isin(names), 'Hart'] = 1 \n",
    "df_18.loc[~df_18['Player'].isin(names), 'Hart'] = 0 "
   ]
  },
  {
   "cell_type": "code",
   "execution_count": 21,
   "id": "96130772-5f70-441b-976b-964e8246a649",
   "metadata": {},
   "outputs": [],
   "source": [
    "#2005-2006\n",
    "names = [\"Jaromir Jagr\", \"Joe Thornton\"]\n",
    "df_19.loc[df_19['Player'].isin(names), 'Hart'] = 1 \n",
    "df_19.loc[~df_19['Player'].isin(names), 'Hart'] = 0 "
   ]
  },
  {
   "cell_type": "code",
   "execution_count": 22,
   "id": "784a374d-7ce2-4eb7-ac55-9e3d4624231b",
   "metadata": {},
   "outputs": [],
   "source": [
    "dfs = [df_1, df_2, df_3, df_4, df_5, df_6, df_7, df_8, df_9, df_10, \n",
    "       df_11, df_12, df_13, df_14, df_15, df_16, df_17, df_18, df_19]\n",
    "\n",
    "\n",
    "\n",
    "for df in dfs:\n",
    "    df.drop(columns= [\"PIM\", \"EVG\", \"PPG\", \"SHG\", \"OTG\", \"SHP\", \"S\", \"S%\", \"TOI/GP\", \"FOW%\"], axis = 1, inplace = True)\n",
    "    df[\"ppg_rank\"] = df[\"P/GP\"].rank(method=\"max\", ascending = False)\n",
    "    df[\"goal_rank\"] = df[\"G\"].rank(method=\"max\", ascending = False)\n",
    "    df[\"assist_rank\"] = df[\"A\"].rank(method=\"max\", ascending = False)\n",
    "    df[\"points_rank\"] = df[\"P\"].rank(method=\"max\", ascending = False)\n",
    "    df[\"team_rank\"] = df.groupby([\"Team\"])[\"P\"].rank(ascending=False)\n",
    "    df = df.head(20)"
   ]
  },
  {
   "cell_type": "code",
   "execution_count": 24,
   "id": "138d3b15-a557-4d5b-97cf-1aa6192d3ceb",
   "metadata": {},
   "outputs": [
    {
     "name": "stdout",
     "output_type": "stream",
     "text": [
      "              Player    Season Team S/C Pos  GP   G   A    P  +/-  P/GP  EVP  \\\n",
      "0    Nikita Kucherov  20232024  TBL   L   R  77  43  96  139    9  1.81   87   \n",
      "1   Nathan MacKinnon  20232024  COL   R   C  79  51  86  137   37  1.73   90   \n",
      "2     Connor McDavid  20232024  EDM   L   C  74  31  99  130   34  1.76   85   \n",
      "3     Artemi Panarin  20232024  NYR   R   L  79  46  70  116   16  1.47   72   \n",
      "4     David Pastrnak  20232024  BOS   R   R  79  47  60  107   23  1.35   73   \n",
      "..               ...       ...  ...  ..  ..  ..  ..  ..  ...  ...   ...  ...   \n",
      "45     Todd Bertuzzi  20052006  VAN   L   R  82  25  46   71  -17  0.87   39   \n",
      "46      Daniel Sedin  20052006  VAN   L   L  82  22  49   71    7  0.87   37   \n",
      "47      Sergei Zubov  20052006  DAL   R   D  78  13  58   71   20  0.91   32   \n",
      "48   Rod Brind'Amour  20052006  CAR   L   C  78  31  39   70    8  0.90   30   \n",
      "49        Brad Boyes  20052006  BOS   R   R  82  26  43   69   11  0.84   47   \n",
      "\n",
      "    PPP  GWG  Hart  ppg_rank  goal_rank  assist_rank  points_rank  team_rank  \n",
      "0    52    6   1.0       1.0        9.0          2.0          1.0        1.0  \n",
      "1    47    9   1.0       3.0        4.0          3.0          2.0        1.0  \n",
      "2    44    5   1.0       2.0       26.0          1.0          3.0        1.0  \n",
      "3    43    5   0.0       4.0        6.0          5.0          4.0        1.0  \n",
      "4    34    5   0.0       7.0        5.0         13.0          5.0        1.0  \n",
      "..  ...  ...   ...       ...        ...          ...          ...        ...  \n",
      "45   32    3   0.0      49.0       37.0         39.0         48.0        3.5  \n",
      "46   32    4   0.0      49.0       43.0         33.0         48.0        3.5  \n",
      "47   39    0   0.0      44.0       50.0         11.0         48.0        3.0  \n",
      "48   35    5   0.0      46.0       28.0         48.0         49.0        4.0  \n",
      "49   22    3   0.0      50.0       34.0         43.0         50.0        2.0  \n",
      "\n",
      "[950 rows x 20 columns]\n"
     ]
    }
   ],
   "source": [
    "dfs = [df_1, df_2, df_3, df_4, df_5, df_6, df_7, df_8, df_9, df_10, \n",
    "       df_11, df_12, df_13, df_14, df_15, df_16, df_17, df_18, df_19]\n",
    "hart = pd.DataFrame()\n",
    "for df in dfs:\n",
    "    hart = pd.concat([hart, df])\n",
    "print(hart)\n",
    "    "
   ]
  },
  {
   "cell_type": "code",
   "execution_count": 25,
   "id": "13f6f4f1-fd38-42b0-88cf-8f84c765c516",
   "metadata": {},
   "outputs": [
    {
     "data": {
      "text/plain": [
       "(950, 20)"
      ]
     },
     "execution_count": 25,
     "metadata": {},
     "output_type": "execute_result"
    }
   ],
   "source": [
    "hart.shape"
   ]
  },
  {
   "cell_type": "code",
   "execution_count": 26,
   "id": "7f6ea96c-8793-4b18-a120-11f70ae9e12b",
   "metadata": {},
   "outputs": [
    {
     "name": "stdout",
     "output_type": "stream",
     "text": [
      "<class 'pandas.core.frame.DataFrame'>\n",
      "Index: 950 entries, 0 to 49\n",
      "Data columns (total 20 columns):\n",
      " #   Column       Non-Null Count  Dtype  \n",
      "---  ------       --------------  -----  \n",
      " 0   Player       950 non-null    object \n",
      " 1   Season       950 non-null    int64  \n",
      " 2   Team         950 non-null    object \n",
      " 3   S/C          950 non-null    object \n",
      " 4   Pos          950 non-null    object \n",
      " 5   GP           950 non-null    int64  \n",
      " 6   G            950 non-null    int64  \n",
      " 7   A            950 non-null    int64  \n",
      " 8   P            950 non-null    int64  \n",
      " 9   +/-          950 non-null    int64  \n",
      " 10  P/GP         950 non-null    float64\n",
      " 11  EVP          950 non-null    int64  \n",
      " 12  PPP          950 non-null    int64  \n",
      " 13  GWG          950 non-null    int64  \n",
      " 14  Hart         950 non-null    float64\n",
      " 15  ppg_rank     950 non-null    float64\n",
      " 16  goal_rank    950 non-null    float64\n",
      " 17  assist_rank  950 non-null    float64\n",
      " 18  points_rank  950 non-null    float64\n",
      " 19  team_rank    950 non-null    float64\n",
      "dtypes: float64(7), int64(9), object(4)\n",
      "memory usage: 155.9+ KB\n"
     ]
    }
   ],
   "source": [
    "hart.info()"
   ]
  },
  {
   "cell_type": "code",
   "execution_count": 28,
   "id": "92772a82-7b3d-4841-a710-ed9edf8e70c6",
   "metadata": {},
   "outputs": [],
   "source": [
    "hart[\"string_season\"] = hart[\"Season\"].astype(str)\n",
    "hart[\"new_season\"] = hart[\"string_season\"].str[:4] + \"-\" + hart[\"string_season\"].str[4:]\n",
    "hart.drop(columns = [\"Season\", \"string_season\"], axis = 1, inplace = True)"
   ]
  },
  {
   "cell_type": "code",
   "execution_count": 29,
   "id": "f6d2f7ba-6358-4fd9-9f89-fb9357b587d7",
   "metadata": {},
   "outputs": [],
   "source": [
    "hart.to_csv(\"hart2.csv\")"
   ]
  },
  {
   "cell_type": "code",
   "execution_count": 30,
   "id": "f44e6a44-b7c2-40b9-adf5-b47c50d2bf05",
   "metadata": {},
   "outputs": [
    {
     "name": "stdout",
     "output_type": "stream",
     "text": [
      "<class 'pandas.core.frame.DataFrame'>\n",
      "Index: 950 entries, 0 to 49\n",
      "Data columns (total 20 columns):\n",
      " #   Column       Non-Null Count  Dtype  \n",
      "---  ------       --------------  -----  \n",
      " 0   Player       950 non-null    object \n",
      " 1   Team         950 non-null    object \n",
      " 2   S/C          950 non-null    object \n",
      " 3   Pos          950 non-null    object \n",
      " 4   GP           950 non-null    int64  \n",
      " 5   G            950 non-null    int64  \n",
      " 6   A            950 non-null    int64  \n",
      " 7   P            950 non-null    int64  \n",
      " 8   +/-          950 non-null    int64  \n",
      " 9   P/GP         950 non-null    float64\n",
      " 10  EVP          950 non-null    int64  \n",
      " 11  PPP          950 non-null    int64  \n",
      " 12  GWG          950 non-null    int64  \n",
      " 13  Hart         950 non-null    float64\n",
      " 14  ppg_rank     950 non-null    float64\n",
      " 15  goal_rank    950 non-null    float64\n",
      " 16  assist_rank  950 non-null    float64\n",
      " 17  points_rank  950 non-null    float64\n",
      " 18  team_rank    950 non-null    float64\n",
      " 19  new_season   950 non-null    object \n",
      "dtypes: float64(7), int64(8), object(5)\n",
      "memory usage: 155.9+ KB\n"
     ]
    }
   ],
   "source": [
    "hart.info()"
   ]
  },
  {
   "cell_type": "code",
   "execution_count": 31,
   "id": "8bbf7dfb-0a29-45c3-8042-8b3047d0d04b",
   "metadata": {},
   "outputs": [],
   "source": [
    "hart2 = hart.copy()"
   ]
  },
  {
   "cell_type": "code",
   "execution_count": 32,
   "id": "069e2280-022c-4c9d-a3ec-2385424ff46b",
   "metadata": {},
   "outputs": [],
   "source": [
    "hart2[\"Hart\"] = hart2[\"Hart\"].astype(int)"
   ]
  },
  {
   "cell_type": "code",
   "execution_count": 34,
   "id": "4a53d3b1-6dd4-48f6-a86e-27c917343688",
   "metadata": {},
   "outputs": [],
   "source": [
    "hart2[\"Pos\"].replace({\"C\" : 1, \"L\" : 2, \"R\" : 2, \"D\" : 3}, inplace = True)"
   ]
  },
  {
   "cell_type": "code",
   "execution_count": 35,
   "id": "ba073cfc-f667-4c3d-8f9f-0a7f961b6555",
   "metadata": {},
   "outputs": [
    {
     "data": {
      "text/plain": [
       "Pos\n",
       "2    450\n",
       "1    450\n",
       "3     50\n",
       "Name: count, dtype: int64"
      ]
     },
     "execution_count": 35,
     "metadata": {},
     "output_type": "execute_result"
    }
   ],
   "source": [
    "hart2[\"Pos\"].value_counts()"
   ]
  },
  {
   "cell_type": "code",
   "execution_count": 36,
   "id": "25c89fb5-bff2-404d-b348-83aab022b9c3",
   "metadata": {},
   "outputs": [],
   "source": [
    "hart3 = hart2.drop(columns = [\"Player\", \"Team\", \"S/C\", \"new_season\"], axis =1)"
   ]
  },
  {
   "cell_type": "code",
   "execution_count": 37,
   "id": "ac498f5a-7af7-4b98-821c-beb701310e2b",
   "metadata": {},
   "outputs": [
    {
     "data": {
      "text/plain": [
       "Hart\n",
       "0    901\n",
       "1     49\n",
       "Name: count, dtype: int64"
      ]
     },
     "execution_count": 37,
     "metadata": {},
     "output_type": "execute_result"
    }
   ],
   "source": [
    "hart3[\"Hart\"].value_counts()"
   ]
  },
  {
   "cell_type": "code",
   "execution_count": 38,
   "id": "dc0ef8d4-aee7-4091-896f-fcb3ca96c241",
   "metadata": {},
   "outputs": [
    {
     "data": {
      "text/plain": [
       "Hart\n",
       "0    0.948421\n",
       "1    0.051579\n",
       "Name: proportion, dtype: float64"
      ]
     },
     "execution_count": 38,
     "metadata": {},
     "output_type": "execute_result"
    }
   ],
   "source": [
    "hart3[\"Hart\"].value_counts(normalize=True)"
   ]
  },
  {
   "cell_type": "code",
   "execution_count": 39,
   "id": "b10e4917-87df-43fe-923c-0fa649e5597c",
   "metadata": {},
   "outputs": [],
   "source": [
    "hart3.to_csv(\"hartclean2.csv\")"
   ]
  },
  {
   "cell_type": "code",
   "execution_count": 41,
   "id": "9a29ff95-264f-4b38-a2e4-00cae99bafbe",
   "metadata": {},
   "outputs": [],
   "source": [
    "features = hart3.drop(columns = \"Hart\", axis = 1)\n",
    "target = hart3[[\"Hart\"]]"
   ]
  },
  {
   "cell_type": "code",
   "execution_count": 43,
   "id": "2ae190be-e503-48e6-8617-36edcacc8a83",
   "metadata": {},
   "outputs": [
    {
     "name": "stderr",
     "output_type": "stream",
     "text": [
      "C:\\Users\\adaml\\anaconda3\\Lib\\site-packages\\sklearn\\utils\\validation.py:1143: DataConversionWarning: A column-vector y was passed when a 1d array was expected. Please change the shape of y to (n_samples, ), for example using ravel().\n",
      "  y = column_or_1d(y, warn=True)\n"
     ]
    },
    {
     "data": {
      "image/png": "[encoded data removed]",
      "text/plain": [
       "<Figure size 640x480 with 1 Axes>"
      ]
     },
     "metadata": {},
     "output_type": "display_data"
    }
   ],
   "source": [
    "from sklearn.feature_selection import mutual_info_classif\n",
    "mi_scores = mutual_info_classif(features, target)\n",
    "mi_scores = pd.Series(mi_scores, name = \"MI Scores\", index = features.columns)\n",
    "mi_scores = mi_scores.sort_values(ascending=False)\n",
    "mi_scores\n",
    "mi_scores.plot(kind=\"barh\", title = \"Highest Mutual Info Score by Feature\")\n",
    "plt.show()"
   ]
  },
  {
   "cell_type": "code",
   "execution_count": 50,
   "id": "2b58298d-a6cb-4894-a39d-80ada2627a2f",
   "metadata": {},
   "outputs": [
    {
     "data": {
      "text/html": [
       "<div>\n",
       "<style scoped>\n",
       "    .dataframe tbody tr th:only-of-type {\n",
       "        vertical-align: middle;\n",
       "    }\n",
       "\n",
       "    .dataframe tbody tr th {\n",
       "        vertical-align: top;\n",
       "    }\n",
       "\n",
       "    .dataframe thead th {\n",
       "        text-align: right;\n",
       "    }\n",
       "</style>\n",
       "<table border=\"1\" class=\"dataframe\">\n",
       "  <thead>\n",
       "    <tr style=\"text-align: right;\">\n",
       "      <th></th>\n",
       "      <th>Pos</th>\n",
       "      <th>GP</th>\n",
       "      <th>G</th>\n",
       "      <th>A</th>\n",
       "      <th>P</th>\n",
       "      <th>+/-</th>\n",
       "      <th>P/GP</th>\n",
       "      <th>EVP</th>\n",
       "      <th>PPP</th>\n",
       "      <th>GWG</th>\n",
       "      <th>Hart</th>\n",
       "      <th>ppg_rank</th>\n",
       "      <th>goal_rank</th>\n",
       "      <th>assist_rank</th>\n",
       "      <th>points_rank</th>\n",
       "      <th>team_rank</th>\n",
       "    </tr>\n",
       "  </thead>\n",
       "  <tbody>\n",
       "    <tr>\n",
       "      <th>Pos</th>\n",
       "      <td>1.000000</td>\n",
       "      <td>-0.001401</td>\n",
       "      <td>-0.096066</td>\n",
       "      <td>-0.036157</td>\n",
       "      <td>-0.086033</td>\n",
       "      <td>0.012696</td>\n",
       "      <td>-0.106993</td>\n",
       "      <td>-0.094637</td>\n",
       "      <td>-0.020918</td>\n",
       "      <td>-0.062234</td>\n",
       "      <td>-0.083526</td>\n",
       "      <td>0.100795</td>\n",
       "      <td>0.060728</td>\n",
       "      <td>0.010693</td>\n",
       "      <td>0.085378</td>\n",
       "      <td>0.116063</td>\n",
       "    </tr>\n",
       "    <tr>\n",
       "      <th>GP</th>\n",
       "      <td>-0.001401</td>\n",
       "      <td>1.000000</td>\n",
       "      <td>0.366657</td>\n",
       "      <td>0.407217</td>\n",
       "      <td>0.538883</td>\n",
       "      <td>-0.008624</td>\n",
       "      <td>-0.103983</td>\n",
       "      <td>0.473534</td>\n",
       "      <td>0.361424</td>\n",
       "      <td>0.199638</td>\n",
       "      <td>0.002276</td>\n",
       "      <td>0.121855</td>\n",
       "      <td>-0.038515</td>\n",
       "      <td>-0.030035</td>\n",
       "      <td>-0.052899</td>\n",
       "      <td>-0.049729</td>\n",
       "    </tr>\n",
       "    <tr>\n",
       "      <th>G</th>\n",
       "      <td>-0.096066</td>\n",
       "      <td>0.366657</td>\n",
       "      <td>1.000000</td>\n",
       "      <td>0.028744</td>\n",
       "      <td>0.623735</td>\n",
       "      <td>0.147652</td>\n",
       "      <td>0.458392</td>\n",
       "      <td>0.590402</td>\n",
       "      <td>0.367645</td>\n",
       "      <td>0.616868</td>\n",
       "      <td>0.284775</td>\n",
       "      <td>-0.364510</td>\n",
       "      <td>-0.852561</td>\n",
       "      <td>0.288328</td>\n",
       "      <td>-0.396018</td>\n",
       "      <td>-0.182574</td>\n",
       "    </tr>\n",
       "    <tr>\n",
       "      <th>A</th>\n",
       "      <td>-0.036157</td>\n",
       "      <td>0.407217</td>\n",
       "      <td>0.028744</td>\n",
       "      <td>1.000000</td>\n",
       "      <td>0.799242</td>\n",
       "      <td>0.179666</td>\n",
       "      <td>0.635487</td>\n",
       "      <td>0.600740</td>\n",
       "      <td>0.674913</td>\n",
       "      <td>0.012711</td>\n",
       "      <td>0.292828</td>\n",
       "      <td>-0.487881</td>\n",
       "      <td>0.240991</td>\n",
       "      <td>-0.790157</td>\n",
       "      <td>-0.530971</td>\n",
       "      <td>-0.205075</td>\n",
       "    </tr>\n",
       "    <tr>\n",
       "      <th>P</th>\n",
       "      <td>-0.086033</td>\n",
       "      <td>0.538883</td>\n",
       "      <td>0.623735</td>\n",
       "      <td>0.799242</td>\n",
       "      <td>1.000000</td>\n",
       "      <td>0.229268</td>\n",
       "      <td>0.772537</td>\n",
       "      <td>0.824739</td>\n",
       "      <td>0.748804</td>\n",
       "      <td>0.380836</td>\n",
       "      <td>0.400203</td>\n",
       "      <td>-0.600668</td>\n",
       "      <td>-0.324164</td>\n",
       "      <td>-0.444511</td>\n",
       "      <td>-0.653307</td>\n",
       "      <td>-0.270134</td>\n",
       "    </tr>\n",
       "    <tr>\n",
       "      <th>+/-</th>\n",
       "      <td>0.012696</td>\n",
       "      <td>-0.008624</td>\n",
       "      <td>0.147652</td>\n",
       "      <td>0.179666</td>\n",
       "      <td>0.229268</td>\n",
       "      <td>1.000000</td>\n",
       "      <td>0.277420</td>\n",
       "      <td>0.332716</td>\n",
       "      <td>-0.019751</td>\n",
       "      <td>0.226997</td>\n",
       "      <td>0.155719</td>\n",
       "      <td>-0.234147</td>\n",
       "      <td>-0.141004</td>\n",
       "      <td>-0.138580</td>\n",
       "      <td>-0.216657</td>\n",
       "      <td>0.090399</td>\n",
       "    </tr>\n",
       "    <tr>\n",
       "      <th>P/GP</th>\n",
       "      <td>-0.106993</td>\n",
       "      <td>-0.103983</td>\n",
       "      <td>0.458392</td>\n",
       "      <td>0.635487</td>\n",
       "      <td>0.772537</td>\n",
       "      <td>0.277420</td>\n",
       "      <td>1.000000</td>\n",
       "      <td>0.621166</td>\n",
       "      <td>0.603680</td>\n",
       "      <td>0.298414</td>\n",
       "      <td>0.470179</td>\n",
       "      <td>-0.805216</td>\n",
       "      <td>-0.350726</td>\n",
       "      <td>-0.501114</td>\n",
       "      <td>-0.730242</td>\n",
       "      <td>-0.280061</td>\n",
       "    </tr>\n",
       "    <tr>\n",
       "      <th>EVP</th>\n",
       "      <td>-0.094637</td>\n",
       "      <td>0.473534</td>\n",
       "      <td>0.590402</td>\n",
       "      <td>0.600740</td>\n",
       "      <td>0.824739</td>\n",
       "      <td>0.332716</td>\n",
       "      <td>0.621166</td>\n",
       "      <td>1.000000</td>\n",
       "      <td>0.258003</td>\n",
       "      <td>0.376251</td>\n",
       "      <td>0.372570</td>\n",
       "      <td>-0.502148</td>\n",
       "      <td>-0.357132</td>\n",
       "      <td>-0.309436</td>\n",
       "      <td>-0.544745</td>\n",
       "      <td>-0.254270</td>\n",
       "    </tr>\n",
       "    <tr>\n",
       "      <th>PPP</th>\n",
       "      <td>-0.020918</td>\n",
       "      <td>0.361424</td>\n",
       "      <td>0.367645</td>\n",
       "      <td>0.674913</td>\n",
       "      <td>0.748804</td>\n",
       "      <td>-0.019751</td>\n",
       "      <td>0.603680</td>\n",
       "      <td>0.258003</td>\n",
       "      <td>1.000000</td>\n",
       "      <td>0.208654</td>\n",
       "      <td>0.266254</td>\n",
       "      <td>-0.447355</td>\n",
       "      <td>-0.127800</td>\n",
       "      <td>-0.411241</td>\n",
       "      <td>-0.485018</td>\n",
       "      <td>-0.171862</td>\n",
       "    </tr>\n",
       "    <tr>\n",
       "      <th>GWG</th>\n",
       "      <td>-0.062234</td>\n",
       "      <td>0.199638</td>\n",
       "      <td>0.616868</td>\n",
       "      <td>0.012711</td>\n",
       "      <td>0.380836</td>\n",
       "      <td>0.226997</td>\n",
       "      <td>0.298414</td>\n",
       "      <td>0.376251</td>\n",
       "      <td>0.208654</td>\n",
       "      <td>1.000000</td>\n",
       "      <td>0.231863</td>\n",
       "      <td>-0.256023</td>\n",
       "      <td>-0.553068</td>\n",
       "      <td>0.175366</td>\n",
       "      <td>-0.257667</td>\n",
       "      <td>-0.113790</td>\n",
       "    </tr>\n",
       "    <tr>\n",
       "      <th>Hart</th>\n",
       "      <td>-0.083526</td>\n",
       "      <td>0.002276</td>\n",
       "      <td>0.284775</td>\n",
       "      <td>0.292828</td>\n",
       "      <td>0.400203</td>\n",
       "      <td>0.155719</td>\n",
       "      <td>0.470179</td>\n",
       "      <td>0.372570</td>\n",
       "      <td>0.266254</td>\n",
       "      <td>0.231863</td>\n",
       "      <td>1.000000</td>\n",
       "      <td>-0.360849</td>\n",
       "      <td>-0.269073</td>\n",
       "      <td>-0.249034</td>\n",
       "      <td>-0.363822</td>\n",
       "      <td>-0.192378</td>\n",
       "    </tr>\n",
       "    <tr>\n",
       "      <th>ppg_rank</th>\n",
       "      <td>0.100795</td>\n",
       "      <td>0.121855</td>\n",
       "      <td>-0.364510</td>\n",
       "      <td>-0.487881</td>\n",
       "      <td>-0.600668</td>\n",
       "      <td>-0.234147</td>\n",
       "      <td>-0.805216</td>\n",
       "      <td>-0.502148</td>\n",
       "      <td>-0.447355</td>\n",
       "      <td>-0.256023</td>\n",
       "      <td>-0.360849</td>\n",
       "      <td>1.000000</td>\n",
       "      <td>0.372764</td>\n",
       "      <td>0.571109</td>\n",
       "      <td>0.893304</td>\n",
       "      <td>0.363853</td>\n",
       "    </tr>\n",
       "    <tr>\n",
       "      <th>goal_rank</th>\n",
       "      <td>0.060728</td>\n",
       "      <td>-0.038515</td>\n",
       "      <td>-0.852561</td>\n",
       "      <td>0.240991</td>\n",
       "      <td>-0.324164</td>\n",
       "      <td>-0.141004</td>\n",
       "      <td>-0.350726</td>\n",
       "      <td>-0.357132</td>\n",
       "      <td>-0.127800</td>\n",
       "      <td>-0.553068</td>\n",
       "      <td>-0.269073</td>\n",
       "      <td>0.372764</td>\n",
       "      <td>1.000000</td>\n",
       "      <td>-0.357924</td>\n",
       "      <td>0.401531</td>\n",
       "      <td>0.184563</td>\n",
       "    </tr>\n",
       "    <tr>\n",
       "      <th>assist_rank</th>\n",
       "      <td>0.010693</td>\n",
       "      <td>-0.030035</td>\n",
       "      <td>0.288328</td>\n",
       "      <td>-0.790157</td>\n",
       "      <td>-0.444511</td>\n",
       "      <td>-0.138580</td>\n",
       "      <td>-0.501114</td>\n",
       "      <td>-0.309436</td>\n",
       "      <td>-0.411241</td>\n",
       "      <td>0.175366</td>\n",
       "      <td>-0.249034</td>\n",
       "      <td>0.571109</td>\n",
       "      <td>-0.357924</td>\n",
       "      <td>1.000000</td>\n",
       "      <td>0.619274</td>\n",
       "      <td>0.257226</td>\n",
       "    </tr>\n",
       "    <tr>\n",
       "      <th>points_rank</th>\n",
       "      <td>0.085378</td>\n",
       "      <td>-0.052899</td>\n",
       "      <td>-0.396018</td>\n",
       "      <td>-0.530971</td>\n",
       "      <td>-0.653307</td>\n",
       "      <td>-0.216657</td>\n",
       "      <td>-0.730242</td>\n",
       "      <td>-0.544745</td>\n",
       "      <td>-0.485018</td>\n",
       "      <td>-0.257667</td>\n",
       "      <td>-0.363822</td>\n",
       "      <td>0.893304</td>\n",
       "      <td>0.401531</td>\n",
       "      <td>0.619274</td>\n",
       "      <td>1.000000</td>\n",
       "      <td>0.432933</td>\n",
       "    </tr>\n",
       "    <tr>\n",
       "      <th>team_rank</th>\n",
       "      <td>0.116063</td>\n",
       "      <td>-0.049729</td>\n",
       "      <td>-0.182574</td>\n",
       "      <td>-0.205075</td>\n",
       "      <td>-0.270134</td>\n",
       "      <td>0.090399</td>\n",
       "      <td>-0.280061</td>\n",
       "      <td>-0.254270</td>\n",
       "      <td>-0.171862</td>\n",
       "      <td>-0.113790</td>\n",
       "      <td>-0.192378</td>\n",
       "      <td>0.363853</td>\n",
       "      <td>0.184563</td>\n",
       "      <td>0.257226</td>\n",
       "      <td>0.432933</td>\n",
       "      <td>1.000000</td>\n",
       "    </tr>\n",
       "  </tbody>\n",
       "</table>\n",
       "</div>"
      ],
      "text/plain": [
       "                  Pos        GP         G         A         P       +/-  \\\n",
       "Pos          1.000000 -0.001401 -0.096066 -0.036157 -0.086033  0.012696   \n",
       "GP          -0.001401  1.000000  0.366657  0.407217  0.538883 -0.008624   \n",
       "G           -0.096066  0.366657  1.000000  0.028744  0.623735  0.147652   \n",
       "A           -0.036157  0.407217  0.028744  1.000000  0.799242  0.179666   \n",
       "P           -0.086033  0.538883  0.623735  0.799242  1.000000  0.229268   \n",
       "+/-          0.012696 -0.008624  0.147652  0.179666  0.229268  1.000000   \n",
       "P/GP        -0.106993 -0.103983  0.458392  0.635487  0.772537  0.277420   \n",
       "EVP         -0.094637  0.473534  0.590402  0.600740  0.824739  0.332716   \n",
       "PPP         -0.020918  0.361424  0.367645  0.674913  0.748804 -0.019751   \n",
       "GWG         -0.062234  0.199638  0.616868  0.012711  0.380836  0.226997   \n",
       "Hart        -0.083526  0.002276  0.284775  0.292828  0.400203  0.155719   \n",
       "ppg_rank     0.100795  0.121855 -0.364510 -0.487881 -0.600668 -0.234147   \n",
       "goal_rank    0.060728 -0.038515 -0.852561  0.240991 -0.324164 -0.141004   \n",
       "assist_rank  0.010693 -0.030035  0.288328 -0.790157 -0.444511 -0.138580   \n",
       "points_rank  0.085378 -0.052899 -0.396018 -0.530971 -0.653307 -0.216657   \n",
       "team_rank    0.116063 -0.049729 -0.182574 -0.205075 -0.270134  0.090399   \n",
       "\n",
       "                 P/GP       EVP       PPP       GWG      Hart  ppg_rank  \\\n",
       "Pos         -0.106993 -0.094637 -0.020918 -0.062234 -0.083526  0.100795   \n",
       "GP          -0.103983  0.473534  0.361424  0.199638  0.002276  0.121855   \n",
       "G            0.458392  0.590402  0.367645  0.616868  0.284775 -0.364510   \n",
       "A            0.635487  0.600740  0.674913  0.012711  0.292828 -0.487881   \n",
       "P            0.772537  0.824739  0.748804  0.380836  0.400203 -0.600668   \n",
       "+/-          0.277420  0.332716 -0.019751  0.226997  0.155719 -0.234147   \n",
       "P/GP         1.000000  0.621166  0.603680  0.298414  0.470179 -0.805216   \n",
       "EVP          0.621166  1.000000  0.258003  0.376251  0.372570 -0.502148   \n",
       "PPP          0.603680  0.258003  1.000000  0.208654  0.266254 -0.447355   \n",
       "GWG          0.298414  0.376251  0.208654  1.000000  0.231863 -0.256023   \n",
       "Hart         0.470179  0.372570  0.266254  0.231863  1.000000 -0.360849   \n",
       "ppg_rank    -0.805216 -0.502148 -0.447355 -0.256023 -0.360849  1.000000   \n",
       "goal_rank   -0.350726 -0.357132 -0.127800 -0.553068 -0.269073  0.372764   \n",
       "assist_rank -0.501114 -0.309436 -0.411241  0.175366 -0.249034  0.571109   \n",
       "points_rank -0.730242 -0.544745 -0.485018 -0.257667 -0.363822  0.893304   \n",
       "team_rank   -0.280061 -0.254270 -0.171862 -0.113790 -0.192378  0.363853   \n",
       "\n",
       "             goal_rank  assist_rank  points_rank  team_rank  \n",
       "Pos           0.060728     0.010693     0.085378   0.116063  \n",
       "GP           -0.038515    -0.030035    -0.052899  -0.049729  \n",
       "G            -0.852561     0.288328    -0.396018  -0.182574  \n",
       "A             0.240991    -0.790157    -0.530971  -0.205075  \n",
       "P            -0.324164    -0.444511    -0.653307  -0.270134  \n",
       "+/-          -0.141004    -0.138580    -0.216657   0.090399  \n",
       "P/GP         -0.350726    -0.501114    -0.730242  -0.280061  \n",
       "EVP          -0.357132    -0.309436    -0.544745  -0.254270  \n",
       "PPP          -0.127800    -0.411241    -0.485018  -0.171862  \n",
       "GWG          -0.553068     0.175366    -0.257667  -0.113790  \n",
       "Hart         -0.269073    -0.249034    -0.363822  -0.192378  \n",
       "ppg_rank      0.372764     0.571109     0.893304   0.363853  \n",
       "goal_rank     1.000000    -0.357924     0.401531   0.184563  \n",
       "assist_rank  -0.357924     1.000000     0.619274   0.257226  \n",
       "points_rank   0.401531     0.619274     1.000000   0.432933  \n",
       "team_rank     0.184563     0.257226     0.432933   1.000000  "
      ]
     },
     "execution_count": 50,
     "metadata": {},
     "output_type": "execute_result"
    }
   ],
   "source": [
    "hart3.corr()\n",
    "#look for highly correlated variables"
   ]
  },
  {
   "cell_type": "code",
   "execution_count": 53,
   "id": "ed1526f0-9632-4bcd-9fdb-85b6df380173",
   "metadata": {},
   "outputs": [],
   "source": [
    "hart4 = hart3[[\"points_rank\", \"P\", \"goal_rank\", \"assist_rank\", \"team_rank\", \"GWG\", \"+/-\", \"Hart\"]]"
   ]
  },
  {
   "cell_type": "code",
   "execution_count": 54,
   "id": "8ddafb2d-8ea1-494a-9d8f-0481f1f8ff0c",
   "metadata": {},
   "outputs": [],
   "source": [
    "X = hart4[[\"points_rank\", \"P\", \"goal_rank\", \"assist_rank\", \"team_rank\", \"GWG\", \"+/-\"]]\n",
    "Y = hart4[[\"Hart\"]]"
   ]
  },
  {
   "cell_type": "code",
   "execution_count": 55,
   "id": "3a8f6636-8e64-4aa6-beb3-95d601b03a4c",
   "metadata": {},
   "outputs": [],
   "source": [
    "from sklearn.model_selection import train_test_split\n",
    "\n",
    "X_train, X_test, Y_train, Y_test = train_test_split(X,Y, test_size=0.3, random_state=42) "
   ]
  },
  {
   "cell_type": "code",
   "execution_count": 56,
   "id": "1719a7f6-c2ca-4db8-aa76-803bc4da423a",
   "metadata": {},
   "outputs": [
    {
     "name": "stderr",
     "output_type": "stream",
     "text": [
      "C:\\Users\\adaml\\anaconda3\\Lib\\site-packages\\sklearn\\utils\\validation.py:1143: DataConversionWarning: A column-vector y was passed when a 1d array was expected. Please change the shape of y to (n_samples, ), for example using ravel().\n",
      "  y = column_or_1d(y, warn=True)\n"
     ]
    }
   ],
   "source": [
    "from sklearn.linear_model import LogisticRegression\n",
    "\n",
    "\n",
    "# instantiate the model\n",
    "logreg = LogisticRegression(solver='liblinear', random_state=42)\n",
    "\n",
    "\n",
    "# fit the model\n",
    "model = logreg.fit(X_train, Y_train)"
   ]
  },
  {
   "cell_type": "code",
   "execution_count": 57,
   "id": "e188ece1-e0f8-4637-86a0-65f413e7e6bd",
   "metadata": {},
   "outputs": [
    {
     "data": {
      "text/plain": [
       "array([0, 0, 0, 0, 0, 0, 0, 0, 0, 0, 0, 0, 0, 0, 0, 0, 0, 0, 0, 0, 0, 0,\n",
       "       0, 0, 0, 0, 0, 0, 0, 0, 0, 0, 0, 0, 0, 0, 0, 0, 0, 0, 0, 0, 0, 0,\n",
       "       0, 0, 0, 0, 0, 0, 0, 0, 0, 0, 0, 0, 0, 0, 0, 0, 0, 0, 0, 0, 0, 0,\n",
       "       0, 0, 0, 0, 0, 0, 0, 1, 0, 0, 0, 0, 0, 0, 0, 0, 1, 0, 0, 0, 0, 0,\n",
       "       0, 0, 0, 0, 0, 0, 0, 0, 0, 0, 0, 0, 0, 0, 0, 0, 0, 0, 0, 0, 0, 0,\n",
       "       0, 0, 0, 0, 0, 0, 0, 0, 0, 0, 0, 0, 0, 0, 0, 0, 0, 0, 0, 0, 0, 0,\n",
       "       0, 0, 0, 0, 0, 0, 0, 0, 0, 0, 0, 0, 0, 0, 0, 0, 0, 0, 0, 0, 0, 0,\n",
       "       0, 0, 0, 0, 0, 0, 0, 0, 0, 0, 0, 0, 0, 0, 0, 0, 0, 0, 0, 0, 0, 0,\n",
       "       0, 0, 0, 0, 0, 1, 0, 0, 0, 0, 0, 0, 0, 0, 0, 0, 0, 0, 0, 0, 0, 0,\n",
       "       0, 0, 0, 0, 0, 0, 1, 1, 0, 0, 0, 1, 0, 0, 0, 0, 0, 0, 0, 0, 0, 0,\n",
       "       0, 0, 0, 0, 0, 0, 0, 1, 0, 1, 0, 0, 0, 0, 0, 0, 0, 0, 0, 0, 0, 0,\n",
       "       0, 0, 0, 0, 0, 0, 0, 0, 0, 0, 0, 0, 0, 0, 0, 0, 0, 0, 0, 0, 0, 1,\n",
       "       0, 0, 0, 0, 0, 0, 0, 0, 0, 0, 0, 0, 0, 0, 0, 0, 0, 0, 0, 0, 0])"
      ]
     },
     "execution_count": 57,
     "metadata": {},
     "output_type": "execute_result"
    }
   ],
   "source": [
    "y_pred_test = model.predict(X_test)\n",
    "\n",
    "y_pred_test"
   ]
  },
  {
   "cell_type": "code",
   "execution_count": 58,
   "id": "d17660d4-1c41-4b68-b5f0-2f09f12c2929",
   "metadata": {},
   "outputs": [
    {
     "name": "stdout",
     "output_type": "stream",
     "text": [
      "Model accuracy score: 0.9614\n"
     ]
    }
   ],
   "source": [
    "from sklearn.metrics import accuracy_score\n",
    "\n",
    "print('Model accuracy score: {0:0.4f}'. format(accuracy_score(Y_test, y_pred_test)))"
   ]
  },
  {
   "cell_type": "code",
   "execution_count": 59,
   "id": "60f0d6c4-8028-45e8-a53d-54c7fdbaa796",
   "metadata": {},
   "outputs": [
    {
     "data": {
      "text/plain": [
       "array([0, 0, 0, 0, 0, 0, 1, 0, 0, 0, 0, 0, 0, 0, 1, 0, 0, 0, 0, 0, 0, 0,\n",
       "       0, 0, 0, 0, 0, 0, 0, 0, 0, 0, 0, 0, 1, 0, 0, 0, 0, 0, 0, 0, 0, 0,\n",
       "       0, 0, 0, 0, 0, 0, 0, 0, 0, 0, 0, 0, 0, 1, 0, 0, 0, 1, 0, 0, 0, 0,\n",
       "       0, 0, 0, 1, 0, 0, 0, 0, 0, 0, 0, 1, 0, 0, 0, 0, 0, 0, 0, 0, 0, 0,\n",
       "       0, 0, 0, 0, 0, 0, 0, 0, 0, 0, 0, 0, 0, 0, 0, 0, 0, 0, 0, 0, 0, 0,\n",
       "       0, 0, 0, 0, 0, 0, 0, 0, 0, 0, 0, 0, 0, 0, 0, 0, 0, 0, 0, 0, 0, 0,\n",
       "       0, 0, 0, 0, 0, 0, 0, 0, 0, 0, 0, 0, 0, 0, 0, 0, 0, 0, 0, 0, 0, 0,\n",
       "       0, 1, 0, 0, 0, 0, 0, 0, 0, 0, 0, 0, 1, 0, 0, 0, 0, 0, 0, 0, 0, 0,\n",
       "       0, 0, 0, 0, 0, 0, 0, 0, 0, 0, 0, 0, 0, 0, 0, 0, 0, 0, 0, 0, 0, 0,\n",
       "       0, 0, 0, 0, 0, 0, 0, 0, 0, 0, 0, 0, 0, 0, 0, 0, 0, 0, 0, 0, 0, 0,\n",
       "       0, 0, 0, 0, 0, 0, 0, 0, 0, 0, 0, 0, 0, 0, 0, 0, 0, 0, 0, 0, 0, 0,\n",
       "       0, 0, 0, 0, 0, 0, 0, 0, 0, 0, 0, 0, 0, 0, 0, 0, 0, 1, 0, 0, 0, 0,\n",
       "       0, 0, 0, 0, 0, 0, 0, 0, 0, 0, 0, 0, 0, 0, 0, 0, 0, 0, 0, 0, 0, 0,\n",
       "       0, 0, 0, 0, 0, 0, 0, 0, 0, 0, 0, 0, 0, 0, 0, 0, 0, 0, 0, 0, 0, 0,\n",
       "       0, 0, 0, 0, 0, 0, 0, 1, 0, 0, 0, 0, 0, 0, 0, 0, 0, 0, 0, 0, 0, 0,\n",
       "       0, 0, 0, 0, 0, 0, 0, 0, 0, 0, 0, 0, 0, 0, 0, 0, 0, 0, 0, 0, 0, 0,\n",
       "       0, 0, 0, 0, 0, 0, 0, 0, 0, 0, 1, 1, 0, 0, 0, 0, 0, 0, 0, 0, 0, 0,\n",
       "       0, 0, 0, 0, 0, 0, 1, 1, 0, 0, 0, 0, 0, 0, 0, 0, 0, 0, 0, 0, 0, 0,\n",
       "       0, 0, 0, 0, 0, 0, 0, 0, 0, 0, 1, 0, 0, 1, 0, 0, 0, 0, 0, 0, 0, 0,\n",
       "       1, 0, 0, 0, 0, 0, 0, 0, 0, 0, 0, 0, 0, 0, 0, 0, 0, 0, 0, 0, 0, 0,\n",
       "       0, 0, 0, 0, 0, 0, 1, 0, 0, 0, 0, 0, 0, 0, 0, 0, 0, 0, 0, 0, 0, 0,\n",
       "       0, 0, 0, 0, 0, 0, 0, 0, 0, 0, 0, 0, 0, 0, 0, 0, 0, 0, 0, 0, 0, 0,\n",
       "       0, 0, 0, 0, 0, 0, 0, 0, 0, 0, 0, 0, 0, 0, 0, 0, 0, 0, 0, 0, 0, 0,\n",
       "       0, 0, 0, 0, 0, 0, 0, 0, 0, 0, 0, 0, 0, 0, 0, 0, 0, 0, 0, 1, 0, 0,\n",
       "       0, 0, 0, 0, 0, 0, 0, 0, 0, 0, 0, 0, 0, 0, 0, 0, 0, 0, 0, 0, 0, 0,\n",
       "       0, 0, 0, 0, 0, 0, 0, 1, 0, 0, 0, 0, 0, 0, 1, 0, 0, 0, 0, 0, 0, 0,\n",
       "       0, 0, 0, 0, 1, 0, 0, 0, 0, 0, 0, 1, 0, 0, 0, 0, 0, 0, 0, 0, 0, 0,\n",
       "       0, 0, 0, 0, 0, 0, 0, 0, 1, 0, 0, 0, 0, 0, 0, 0, 0, 0, 0, 0, 0, 0,\n",
       "       0, 0, 0, 0, 0, 0, 0, 0, 0, 0, 0, 0, 0, 0, 0, 0, 0, 0, 0, 0, 0, 0,\n",
       "       0, 0, 0, 0, 0, 0, 0, 0, 0, 0, 0, 0, 0, 0, 0, 0, 0, 0, 0, 0, 1, 0,\n",
       "       0, 0, 0, 0, 1])"
      ]
     },
     "execution_count": 59,
     "metadata": {},
     "output_type": "execute_result"
    }
   ],
   "source": [
    "y_pred_train = model.predict(X_train)\n",
    "\n",
    "y_pred_train"
   ]
  },
  {
   "cell_type": "code",
   "execution_count": 60,
   "id": "706178c9-0748-4439-847a-1dcd59fb25b4",
   "metadata": {},
   "outputs": [
    {
     "name": "stdout",
     "output_type": "stream",
     "text": [
      "Training set score: 0.9699\n",
      "Test set score: 0.9614\n"
     ]
    }
   ],
   "source": [
    "# print the scores on training and test set\n",
    "\n",
    "print('Training set score: {:.4f}'.format(model.score(X_train, Y_train)))\n",
    "\n",
    "print('Test set score: {:.4f}'.format(model.score(X_test, Y_test)))"
   ]
  },
  {
   "cell_type": "code",
   "execution_count": 61,
   "id": "987270d2-26f4-495e-98f6-d82a8787dbd6",
   "metadata": {},
   "outputs": [
    {
     "data": {
      "text/plain": [
       "Hart\n",
       "0       273\n",
       "1        12\n",
       "Name: count, dtype: int64"
      ]
     },
     "execution_count": 61,
     "metadata": {},
     "output_type": "execute_result"
    }
   ],
   "source": [
    "Y_test.value_counts()"
   ]
  },
  {
   "cell_type": "code",
   "execution_count": 63,
   "id": "e1a4d297-732c-4b95-8d4e-f06aa420496e",
   "metadata": {},
   "outputs": [
    {
     "data": {
      "text/plain": [
       "0.9578947368421052"
      ]
     },
     "execution_count": 63,
     "metadata": {},
     "output_type": "execute_result"
    }
   ],
   "source": [
    "273/285"
   ]
  },
  {
   "cell_type": "code",
   "execution_count": 64,
   "id": "bb7d646e-5d66-4197-92d2-27015d2ce35f",
   "metadata": {},
   "outputs": [
    {
     "data": {
      "text/plain": [
       "Hart\n",
       "0       628\n",
       "1        37\n",
       "Name: count, dtype: int64"
      ]
     },
     "execution_count": 64,
     "metadata": {},
     "output_type": "execute_result"
    }
   ],
   "source": [
    "Y_train.value_counts()"
   ]
  },
  {
   "cell_type": "code",
   "execution_count": 65,
   "id": "3f5f6fb7-8bf7-4631-a671-f57da6585446",
   "metadata": {},
   "outputs": [
    {
     "data": {
      "text/plain": [
       "0.9587786259541985"
      ]
     },
     "execution_count": 65,
     "metadata": {},
     "output_type": "execute_result"
    }
   ],
   "source": [
    "628/655"
   ]
  },
  {
   "cell_type": "code",
   "execution_count": 66,
   "id": "8250c519-f823-46df-9b64-e04ed8bbb462",
   "metadata": {},
   "outputs": [
    {
     "name": "stdout",
     "output_type": "stream",
     "text": [
      "Confusion matrix\n",
      "\n",
      " [[269   4]\n",
      " [  7   5]]\n",
      "\n",
      "True Positives(TP) =  269\n",
      "\n",
      "True Negatives(TN) =  5\n",
      "\n",
      "False Positives(FP) =  4\n",
      "\n",
      "False Negatives(FN) =  7\n"
     ]
    }
   ],
   "source": [
    "from sklearn.metrics import confusion_matrix\n",
    "\n",
    "cm = confusion_matrix(Y_test, y_pred_test)\n",
    "\n",
    "print('Confusion matrix\\n\\n', cm)\n",
    "\n",
    "print('\\nTrue Positives(TP) = ', cm[0,0])\n",
    "\n",
    "print('\\nTrue Negatives(TN) = ', cm[1,1])\n",
    "\n",
    "print('\\nFalse Positives(FP) = ', cm[0,1])\n",
    "\n",
    "print('\\nFalse Negatives(FN) = ', cm[1,0])"
   ]
  },
  {
   "cell_type": "code",
   "execution_count": 68,
   "id": "ce4fe90c-d35d-4e57-bdd7-00569b4fa34f",
   "metadata": {},
   "outputs": [],
   "source": [
    "import pickle\n",
    "pickle.dump(model, open(\"hartnom.pkl\", \"wb\"))"
   ]
  },
  {
   "cell_type": "code",
   "execution_count": 69,
   "id": "3923245b-e32c-4cfc-a6f8-16cc047f7f1f",
   "metadata": {},
   "outputs": [
    {
     "data": {
      "text/plain": [
       "array([[-0.35617185,  0.00292327, -0.02163828, -0.00222708, -1.1745188 ,\n",
       "         0.18054193,  0.0368174 ]])"
      ]
     },
     "execution_count": 69,
     "metadata": {},
     "output_type": "execute_result"
    }
   ],
   "source": [
    "model.coef_"
   ]
  }
 ],
 "metadata": {
  "kernelspec": {
   "display_name": "Python 3 (ipykernel)",
   "language": "python",
   "name": "python3"
  },
  "language_info": {
   "codemirror_mode": {
    "name": "ipython",
    "version": 3
   },
   "file_extension": ".py",
   "mimetype": "text/x-python",
   "name": "python",
   "nbconvert_exporter": "python",
   "pygments_lexer": "ipython3",
   "version": "3.11.7"
  }
 },
 "nbformat": 4,
 "nbformat_minor": 5
}
